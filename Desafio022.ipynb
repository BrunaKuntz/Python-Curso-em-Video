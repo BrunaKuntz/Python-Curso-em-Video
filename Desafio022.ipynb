{
  "nbformat": 4,
  "nbformat_minor": 0,
  "metadata": {
    "colab": {
      "name": "Untitled0.ipynb",
      "provenance": [],
      "collapsed_sections": [],
      "authorship_tag": "ABX9TyPuRA2U3ejVXaWRmMWR92mQ"
    },
    "kernelspec": {
      "name": "python3",
      "display_name": "Python 3"
    },
    "language_info": {
      "name": "python"
    }
  },
  "cells": [
    {
      "cell_type": "markdown",
      "metadata": {
        "id": "xolHFjDi_Hj4"
      },
      "source": [
        "# **Desafio 022**\n",
        "**Python 3 - 1º Mundo**\n",
        "\n",
        "Descrição: Criar um programa que leia o nome do usuário e retorne o nome em maiúsculo, minúsculo, quantidade de caracteres sem espaço e quantidade de caracteres do primeiro nome.\n",
        "\n",
        "\n",
        "\n",
        "Link: https://www.cursoemvideo.com/course/python-3-mundo-1/aulas/usando-modulos-do-python/modulos/manipulando-texto/"
      ]
    },
    {
      "cell_type": "code",
      "metadata": {
        "colab": {
          "base_uri": "https://localhost:8080/"
        },
        "id": "8Lylf4Su-6aB",
        "outputId": "0cdabea6-07ab-4921-8083-43b23bcd5efe"
      },
      "source": [
        "nome = str(input('Digite o seu nome completo: '))\n",
        "frase = nome\n",
        "split = frase.split()\n",
        "primeironome = split[0]\n",
        "print('Nome em maiúsculo: ', frase.upper())\n",
        "print('Nome em minúsculo: ',frase.lower())\n",
        "print('Quantidade de caracteres sem o espaço: ', len(frase) - frase.count(' '))\n",
        "print('Primeiro nome: ', primeironome)\n",
        "print('Quantidade de caracteres no primeiro nome: ', len(primeironome))\n"
      ],
      "execution_count": 3,
      "outputs": [
        {
          "output_type": "stream",
          "text": [
            "Digite o seu nome completo: Bruna Kuntz Mathias\n",
            "Nome em maiúsculo:  BRUNA KUNTZ MATHIAS\n",
            "Nome em minúsculo:  bruna kuntz mathias\n",
            "Quantidade de caracteres sem o espaço:  17\n",
            "Primeiro nome:  Bruna\n",
            "Quantidade de caracteres no primeiro nome:  5\n"
          ],
          "name": "stdout"
        }
      ]
    }
  ]
}