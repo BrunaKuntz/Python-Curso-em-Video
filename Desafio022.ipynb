{
  "nbformat": 4,
  "nbformat_minor": 0,
  "metadata": {
    "colab": {
      "name": "Untitled0.ipynb",
      "provenance": [],
      "collapsed_sections": [],
      "authorship_tag": "ABX9TyPuRA2U3ejVXaWRmMWR92mQ",
      "include_colab_link": true
    },
    "kernelspec": {
      "name": "python3",
      "display_name": "Python 3"
    },
    "language_info": {
      "name": "python"
    }
  },
  "cells": [
    {
      "cell_type": "markdown",
      "metadata": {
        "id": "view-in-github",
        "colab_type": "text"
      },
      "source": [
        "<a href=\"https://colab.research.google.com/github/BrunaKuntz/PythonMundo01/blob/main/Desafio022.ipynb\" target=\"_parent\"><img src=\"https://colab.research.google.com/assets/colab-badge.svg\" alt=\"Open In Colab\"/></a>"
      ]
    },
    {
      "cell_type": "markdown",
      "metadata": {
        "id": "xolHFjDi_Hj4"
      },
      "source": [
        "# **Desafio 022**\n",
        "**Python 3 - 1º Mundo**\n",
        "\n",
        "Descrição: Criar um programa que leia o nome do usuário e retorne o nome em maiúsculo, minúsculo, quantidade de caracteres sem espaço e quantidade de caracteres do primeiro nome.\n",
        "\n",
        "\n",
        "\n",
        "Link: https://www.cursoemvideo.com/course/python-3-mundo-1/aulas/usando-modulos-do-python/modulos/manipulando-texto/"
      ]
    },
    {
      "cell_type": "code",
      "metadata": {
        "id": "8Lylf4Su-6aB"
      },
      "source": [
        "nome = str(input('Digite o seu nome completo: '))\n",
        "frase = nome\n",
        "split = frase.split()\n",
        "primeironome = split[0]\n",
        "print('Nome em maiúsculo: ', frase.upper())\n",
        "print('Nome em minúsculo: ',frase.lower())\n",
        "print('Quantidade de caracteres sem o espaço: ', len(frase) - frase.count(' '))\n",
        "print('Primeiro nome: ', primeironome)\n",
        "print('Quantidade de caracteres no primeiro nome: ', len(primeironome))\n"
      ],
      "execution_count": null,
      "outputs": []
    }
  ]
}