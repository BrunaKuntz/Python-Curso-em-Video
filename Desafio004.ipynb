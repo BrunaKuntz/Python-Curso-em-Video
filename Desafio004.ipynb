{
  "nbformat": 4,
  "nbformat_minor": 0,
  "metadata": {
    "colab": {
      "name": "DesafiosGuanabara.ipynb",
      "provenance": [],
      "collapsed_sections": [],
      "authorship_tag": "ABX9TyNdISAWldyFnDUvG0+Q7fX7",
      "include_colab_link": true
    },
    "kernelspec": {
      "name": "python3",
      "display_name": "Python 3"
    },
    "language_info": {
      "name": "python"
    }
  },
  "cells": [
    {
      "cell_type": "markdown",
      "metadata": {
        "id": "view-in-github",
        "colab_type": "text"
      },
      "source": [
        "<a href=\"https://colab.research.google.com/github/BrunaKuntz/Python-Curso-em-Video/blob/main/Desafio004.ipynb\" target=\"_parent\"><img src=\"https://colab.research.google.com/assets/colab-badge.svg\" alt=\"Open In Colab\"/></a>"
      ]
    },
    {
      "cell_type": "markdown",
      "metadata": {
        "id": "xolHFjDi_Hj4"
      },
      "source": [
        "# **Desafio 004**\n",
        "**Python 3 - 1º Mundo**\n",
        "\n",
        "Descrição: Criar um programa que disseque uma variável e dê sua classe, se só tem espaços, se é numérico, alfabético, alfanumérico, se está em maiúsculas, minúsculas e capitalizadas. \n",
        "\n",
        "\n",
        "Link: https://www.youtube.com/watch?v=tHYxjJxtJko&list=PLHz_AreHm4dm6wYOIW20Nyg12TAjmMGT-&index=4"
      ]
    },
    {
      "cell_type": "code",
      "metadata": {
        "id": "8Lylf4Su-6aB"
      },
      "source": [
        "x = (input('Digite algo: '))\n",
        "print(f'O tipo primitivo de {x} é', type(x))\n",
        "print('Só tem espaços? ', x.isspace())\n",
        "print('É um número? ', x.isnumeric())\n",
        "print('É alfabético? ', x.isalpha())\n",
        "print('É alfanumérico? ', x.isalnum())\n",
        "print('Está em letras maiúsculas? ', x.isupper())\n",
        "print('Está em letras minúsculas? ', x.islower())\n",
        "print('Está capitalizada? ', x.istitle())"
      ],
      "execution_count": null,
      "outputs": []
    }
  ]
}