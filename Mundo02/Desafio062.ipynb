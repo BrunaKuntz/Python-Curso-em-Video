{
  "nbformat": 4,
  "nbformat_minor": 0,
  "metadata": {
    "colab": {
      "name": "DesafiosGuanabara.ipynb",
      "provenance": [],
      "collapsed_sections": [],
      "authorship_tag": "ABX9TyM8enMZdrEGEtPLJwg6f6La",
      "include_colab_link": true
    },
    "kernelspec": {
      "name": "python3",
      "display_name": "Python 3"
    },
    "language_info": {
      "name": "python"
    }
  },
  "cells": [
    {
      "cell_type": "markdown",
      "metadata": {
        "id": "view-in-github",
        "colab_type": "text"
      },
      "source": [
        "<a href=\"https://colab.research.google.com/github/BrunaKuntz/Python-Curso-em-Video/blob/main/Mundo02/Desafio062.ipynb\" target=\"_parent\"><img src=\"https://colab.research.google.com/assets/colab-badge.svg\" alt=\"Open In Colab\"/></a>"
      ]
    },
    {
      "cell_type": "markdown",
      "metadata": {
        "id": "xolHFjDi_Hj4"
      },
      "source": [
        "\n",
        "# **Desafio 062**\n",
        "**Python 3 - 2º Mundo**\n",
        "\n",
        "Descrição: Melhore o DESAFIO 061, perguntando para o usuário se ele quer mostrar mais alguns termos. O programa encerrará quando ele disser que quer mostrar 0 termos.\n",
        "\n",
        "Link: https://www.youtube.com/watch?v=BWAWq7n6PCk"
      ]
    },
    {
      "cell_type": "code",
      "metadata": {
        "id": "8Lylf4Su-6aB"
      },
      "source": [
        "print('=============================')\n",
        "print('     10 TERMOS DE UMA PA     ')\n",
        "print('=============================')\n",
        "prim = int(input('Qual o primeiro termo: '))\n",
        "raz = int(input('Qual a razão da pa: '))\n",
        "n = 0\n",
        "while n < 10:\n",
        "    print(prim)\n",
        "    prim = prim + raz\n",
        "    n += 1\n",
        "    \n",
        "termos = 1\n",
        "while termos != 0:\n",
        "    termos = int(input('Você quer ver mais quantos números? '))\n",
        "    if termos != 0:\n",
        "        termos = n + termos\n",
        "        while n < termos:\n",
        "            print(prim)\n",
        "            prim = prim + raz\n",
        "            n += 1\n",
        "    else:\n",
        "        print(\"Obrigada por usar o programa!\")"
      ],
      "execution_count": null,
      "outputs": []
    }
  ]
}