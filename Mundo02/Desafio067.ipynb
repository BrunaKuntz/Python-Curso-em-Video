{
  "nbformat": 4,
  "nbformat_minor": 0,
  "metadata": {
    "colab": {
      "name": "DesafiosGuanabara.ipynb",
      "provenance": [],
      "collapsed_sections": [],
      "authorship_tag": "ABX9TyN/jJddwfiABaeKAzaiKvv8",
      "include_colab_link": true
    },
    "kernelspec": {
      "name": "python3",
      "display_name": "Python 3"
    },
    "language_info": {
      "name": "python"
    }
  },
  "cells": [
    {
      "cell_type": "markdown",
      "metadata": {
        "id": "view-in-github",
        "colab_type": "text"
      },
      "source": [
        "<a href=\"https://colab.research.google.com/github/BrunaKuntz/Python-Curso-em-Video/blob/main/Mundo02/Desafio067.ipynb\" target=\"_parent\"><img src=\"https://colab.research.google.com/assets/colab-badge.svg\" alt=\"Open In Colab\"/></a>"
      ]
    },
    {
      "cell_type": "markdown",
      "metadata": {
        "id": "xolHFjDi_Hj4"
      },
      "source": [
        "\n",
        "# **Desafio 067**\n",
        "**Python 3 - 2º Mundo**\n",
        "\n",
        "Descrição: Faça um programa que mostre a tabuada de vários números, um de cada vez, para cada valor digitado pelo usuário. O programa será interrompido quando o número solicitado for negativo. \n",
        "\n",
        "Link: https://www.youtube.com/watch?v=X0a5aZg93Uc&t=1s"
      ]
    },
    {
      "cell_type": "code",
      "metadata": {
        "id": "8Lylf4Su-6aB"
      },
      "source": [
        "while True:\n",
        "    n = int(input('Quer ver a tabuada de qual valor? '))\n",
        "    print('--------------------------------')\n",
        "    if n < 0:\n",
        "        break\n",
        "    for r in range(1, 11):\n",
        "        print(f' {n} x {r} = {n*r}')\n",
        "    print('--------------------------------')\n",
        "print('Programa tabuada encerrado! Volte sempre!')\n"
      ],
      "execution_count": null,
      "outputs": []
    }
  ]
}