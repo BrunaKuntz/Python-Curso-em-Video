{
  "nbformat": 4,
  "nbformat_minor": 0,
  "metadata": {
    "colab": {
      "name": "DesafiosGuanabara.ipynb",
      "provenance": [],
      "collapsed_sections": [],
      "authorship_tag": "ABX9TyO7w7Y5GsInuQVkCvpL2eLw",
      "include_colab_link": true
    },
    "kernelspec": {
      "name": "python3",
      "display_name": "Python 3"
    },
    "language_info": {
      "name": "python"
    }
  },
  "cells": [
    {
      "cell_type": "markdown",
      "metadata": {
        "id": "view-in-github",
        "colab_type": "text"
      },
      "source": [
        "<a href=\"https://colab.research.google.com/github/BrunaKuntz/Python-Curso-em-Video/blob/main/Mundo02/Desafio044.ipynb\" target=\"_parent\"><img src=\"https://colab.research.google.com/assets/colab-badge.svg\" alt=\"Open In Colab\"/></a>"
      ]
    },
    {
      "cell_type": "markdown",
      "metadata": {
        "id": "xolHFjDi_Hj4"
      },
      "source": [
        "\n",
        "\n",
        "\n",
        "# **Desafio 044**\n",
        "**Python 3 - 2º Mundo**\n",
        "\n",
        "Descrição: Elabore um programa que calcule o valor a ser pago por um produto, considerando o seu preço normal e condição de pagamento:\n",
        "- à vista dinheiro/cheque: 10% de desconto\n",
        "- à vista no cartão: 5% de desconto\n",
        "- em até 2x no cartão: preço formal\n",
        "- 3x ou mais no cartão: 20% de juros\n",
        "\n",
        "Link: https://www.youtube.com/watch?v=I-SH3QchuZ4"
      ]
    },
    {
      "cell_type": "code",
      "metadata": {
        "id": "8Lylf4Su-6aB"
      },
      "source": [
        "valor = float(input('Qual o valor do produto? R$'))\n",
        "print('Selecione a forma de pagamento:')\n",
        "pagamento = int(input('[1] À vista no dinheiro/cheque\\n'\n",
        "                      '[2] À vista no cartão\\n'\n",
        "                      '[3] Em até 2x no cartão\\n'\n",
        "                      '[4] 3x ou mais no cartão\\n'))\n",
        "\n",
        "if pagamento == 1:\n",
        "    print(f'O valor final com 10% de desconto vai ser de R${valor - (valor*10/100):.2f}.')\n",
        "elif pagamento == 2:\n",
        "    print(f'O valor final com 5% de desconto vai ser de R${valor - (valor*5/100):.2f}.')\n",
        "elif pagamento == 3:\n",
        "    print(f'O valor final será de R${valor:.2f}.')\n",
        "elif pagamento == 4:\n",
        "    print(f'O valor final com correção de juros será de R${valor + (valor*20/100):.2f}.')\n",
        "else:\n",
        "    print('Não entendi. Selecione novamente.')\n"
      ],
      "execution_count": null,
      "outputs": []
    }
  ]
}