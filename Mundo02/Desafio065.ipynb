{
  "nbformat": 4,
  "nbformat_minor": 0,
  "metadata": {
    "colab": {
      "name": "DesafiosGuanabara.ipynb",
      "provenance": [],
      "collapsed_sections": [],
      "authorship_tag": "ABX9TyO67Zez8tbK3XngGmHOlmH9",
      "include_colab_link": true
    },
    "kernelspec": {
      "name": "python3",
      "display_name": "Python 3"
    },
    "language_info": {
      "name": "python"
    }
  },
  "cells": [
    {
      "cell_type": "markdown",
      "metadata": {
        "id": "view-in-github",
        "colab_type": "text"
      },
      "source": [
        "<a href=\"https://colab.research.google.com/github/BrunaKuntz/Python-Curso-em-Video/blob/main/Mundo02/Desafio065.ipynb\" target=\"_parent\"><img src=\"https://colab.research.google.com/assets/colab-badge.svg\" alt=\"Open In Colab\"/></a>"
      ]
    },
    {
      "cell_type": "markdown",
      "metadata": {
        "id": "xolHFjDi_Hj4"
      },
      "source": [
        "\n",
        "# **Desafio 065**\n",
        "**Python 3 - 2º Mundo**\n",
        "\n",
        "Descrição: Crie um programa que leia vários números inteiros pelo teclado. No final da execução, mostre a média entre todos os valores e qual foi o maior e o menor valores lidos. O programa deve perguntar ao usuário se ele quer ou não continuar a digitar valores.\n",
        "\n",
        "Link: https://www.youtube.com/watch?v=QNPuPlPM--0&t=4s"
      ]
    },
    {
      "cell_type": "code",
      "metadata": {
        "id": "8Lylf4Su-6aB"
      },
      "source": [
        "resp = \"S\"\n",
        "m = 0\n",
        "maior = 0\n",
        "menor = 999999999999999999999\n",
        "count = 0\n",
        "soma = 0\n",
        "\n",
        "while resp != \"N\":\n",
        "    n = int(input(\"Digite um número: \"))\n",
        "    count += 1\n",
        "    if count == 1:\n",
        "        maior = n\n",
        "        menor = n\n",
        "    soma = soma + n\n",
        "    m = soma / count\n",
        "    if n > maior:\n",
        "        maior = n\n",
        "    elif n < menor:\n",
        "        menor = n\n",
        "    print (f'Você digitou {count} valores.')\n",
        "    resp = str(input('Deseja continuar? [S/N]')).upper()\n",
        "print(\"=============================\")\n",
        "print('Resultado Final: ')\n",
        "print(f'Média entre os números digitados: {m:.1f}')\n",
        "print(f'Maior valor: {maior}')\n",
        "print(f\"Menor valor: {menor}\")\n",
        "\n"
      ],
      "execution_count": null,
      "outputs": []
    }
  ]
}