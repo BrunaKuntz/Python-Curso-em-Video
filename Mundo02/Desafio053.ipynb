{
  "nbformat": 4,
  "nbformat_minor": 0,
  "metadata": {
    "colab": {
      "name": "DesafiosGuanabara.ipynb",
      "provenance": [],
      "collapsed_sections": [],
      "authorship_tag": "ABX9TyM1K5dtEERggxJvQEcVZdBM",
      "include_colab_link": true
    },
    "kernelspec": {
      "name": "python3",
      "display_name": "Python 3"
    },
    "language_info": {
      "name": "python"
    }
  },
  "cells": [
    {
      "cell_type": "markdown",
      "metadata": {
        "id": "view-in-github",
        "colab_type": "text"
      },
      "source": [
        "<a href=\"https://colab.research.google.com/github/BrunaKuntz/Python-Curso-em-Video/blob/main/Mundo02/Desafio053.ipynb\" target=\"_parent\"><img src=\"https://colab.research.google.com/assets/colab-badge.svg\" alt=\"Open In Colab\"/></a>"
      ]
    },
    {
      "cell_type": "markdown",
      "metadata": {
        "id": "xolHFjDi_Hj4"
      },
      "source": [
        "\n",
        "# **Desafio 053**\n",
        "**Python 3 - 2º Mundo**\n",
        "\n",
        "Descrição: Crie um programa que leia uma frase qualquer e diga se ela é um palíndromo, desconsiderando os espaços.\n",
        "\n",
        "Link: https://www.youtube.com/watch?v=5VBWe6BXzRo&t=31s"
      ]
    },
    {
      "cell_type": "code",
      "metadata": {
        "id": "8Lylf4Su-6aB"
      },
      "source": [
        "frase = str(input('Digite aqui a sua frase: '))\n",
        "formatada = frase.lower().replace(' ', '')\n",
        "invertida = ''\n",
        "for c in range(len(formatada)-1, -1, -1):\n",
        "    invertida += formatada[c]\n",
        "print(invertida, '-', formatada)\n",
        "if invertida == formatada: \n",
        "    print('A frase é um palíndromo.')\n",
        "else:\n",
        "    print('A frase não é um palíndromo.')\n"
      ],
      "execution_count": null,
      "outputs": []
    }
  ]
}