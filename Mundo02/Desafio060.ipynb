{
  "nbformat": 4,
  "nbformat_minor": 0,
  "metadata": {
    "colab": {
      "name": "DesafiosGuanabara.ipynb",
      "provenance": [],
      "collapsed_sections": [],
      "authorship_tag": "ABX9TyPEM/Yr6pf1510gH7PI5yYK",
      "include_colab_link": true
    },
    "kernelspec": {
      "name": "python3",
      "display_name": "Python 3"
    },
    "language_info": {
      "name": "python"
    }
  },
  "cells": [
    {
      "cell_type": "markdown",
      "metadata": {
        "id": "view-in-github",
        "colab_type": "text"
      },
      "source": [
        "<a href=\"https://colab.research.google.com/github/BrunaKuntz/Python-Curso-em-Video/blob/main/Mundo02/Desafio060.ipynb\" target=\"_parent\"><img src=\"https://colab.research.google.com/assets/colab-badge.svg\" alt=\"Open In Colab\"/></a>"
      ]
    },
    {
      "cell_type": "markdown",
      "metadata": {
        "id": "xolHFjDi_Hj4"
      },
      "source": [
        "\n",
        "# **Desafio 060**\n",
        "**Python 3 - 2º Mundo**\n",
        "\n",
        "Descrição: Faça um programa que leia um número qualquer e mostre o seu fatorial.\n",
        "\n",
        "Ex: 5! = 5 x 4 x 3 x 2 x 1 = 120\n",
        "\n",
        "Link: https://www.youtube.com/watch?v=9dlBZlkvvxY&t=9s"
      ]
    },
    {
      "cell_type": "code",
      "metadata": {
        "id": "8Lylf4Su-6aB"
      },
      "source": [
        "n = int(input('Digite o número para ver o seu fatorial: '))\n",
        "fat = 1\n",
        "count = n\n",
        "print(f\"Calculando {n}!\")\n",
        "while count > 0:\n",
        "   print(f\"{count}\", end=\"\")\n",
        "   print(\" x \" if count > 1 else \" = \", end=\"\")\n",
        "   fat = fat * count\n",
        "   count = count - 1\n",
        "print(f'{fat}')\n"
      ],
      "execution_count": null,
      "outputs": []
    }
  ]
}