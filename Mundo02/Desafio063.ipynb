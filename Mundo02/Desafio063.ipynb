{
  "nbformat": 4,
  "nbformat_minor": 0,
  "metadata": {
    "colab": {
      "name": "DesafiosGuanabara.ipynb",
      "provenance": [],
      "collapsed_sections": [],
      "authorship_tag": "ABX9TyNwpI2unrjvvTeWJDdkT/mW",
      "include_colab_link": true
    },
    "kernelspec": {
      "name": "python3",
      "display_name": "Python 3"
    },
    "language_info": {
      "name": "python"
    }
  },
  "cells": [
    {
      "cell_type": "markdown",
      "metadata": {
        "id": "view-in-github",
        "colab_type": "text"
      },
      "source": [
        "<a href=\"https://colab.research.google.com/github/BrunaKuntz/Python-Curso-em-Video/blob/main/Mundo02/Desafio063.ipynb\" target=\"_parent\"><img src=\"https://colab.research.google.com/assets/colab-badge.svg\" alt=\"Open In Colab\"/></a>"
      ]
    },
    {
      "cell_type": "markdown",
      "metadata": {
        "id": "xolHFjDi_Hj4"
      },
      "source": [
        "\n",
        "# **Desafio 063**\n",
        "**Python 3 - 2º Mundo**\n",
        "\n",
        "Descrição: Escreva um programa que leia um número N inteiro qualquer e mostre na tela os N primeiros elementos de uma Sequência de Fibonacci. \n",
        "\n",
        "Link: https://www.youtube.com/watch?v=w7yn1_Mfu0E&t=11s"
      ]
    },
    {
      "cell_type": "code",
      "metadata": {
        "id": "8Lylf4Su-6aB"
      },
      "source": [
        "n = int(input('Quantos números da sequência de Fibonacci você quer ver? '))\n",
        "counter = 0\n",
        "print(\"0 -> 1 -> \", end='')\n",
        "n1 = 0\n",
        "n2 = 1\n",
        "n3 = 0\n",
        "while counter < (n-2):\n",
        "   n3 = n1 + n2\n",
        "   print(n3, \"-> \", end='')\n",
        "   n1 = n2\n",
        "   n2 = n3\n",
        "   counter += 1\n",
        "print(\"Fim\")\n"
      ],
      "execution_count": null,
      "outputs": []
    }
  ]
}