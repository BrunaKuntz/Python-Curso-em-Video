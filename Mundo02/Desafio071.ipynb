{
  "nbformat": 4,
  "nbformat_minor": 0,
  "metadata": {
    "colab": {
      "name": "DesafiosGuanabara.ipynb",
      "provenance": [],
      "collapsed_sections": [],
      "authorship_tag": "ABX9TyNVxz0DXHaJpZdfiLQdYHov",
      "include_colab_link": true
    },
    "kernelspec": {
      "name": "python3",
      "display_name": "Python 3"
    },
    "language_info": {
      "name": "python"
    }
  },
  "cells": [
    {
      "cell_type": "markdown",
      "metadata": {
        "id": "view-in-github",
        "colab_type": "text"
      },
      "source": [
        "<a href=\"https://colab.research.google.com/github/BrunaKuntz/Python-Curso-em-Video/blob/main/Mundo02/Desafio071.ipynb\" target=\"_parent\"><img src=\"https://colab.research.google.com/assets/colab-badge.svg\" alt=\"Open In Colab\"/></a>"
      ]
    },
    {
      "cell_type": "markdown",
      "metadata": {
        "id": "xolHFjDi_Hj4"
      },
      "source": [
        "\n",
        "# **Desafio 071**\n",
        "**Python 3 - 2º Mundo**\n",
        "\n",
        "Descrição: Crie um programa que simule o funcionamento de um caixa eletrônico. No início, pergunte ao usuário qual será o valor a ser sacado (número inteiro) e o programa vai informar quantas cédulas de cada valor serão entregues.\n",
        "OBS: considere que o caixa possui cédulas de R$50, R$20, R$10 e R$1.\n",
        "\n",
        "Link: https://www.youtube.com/watch?v=_XGgwltYpYk&t=13s"
      ]
    },
    {
      "cell_type": "code",
      "metadata": {
        "id": "8Lylf4Su-6aB"
      },
      "source": [
        "print('====================')\n",
        "print('      Banco CEV     ')\n",
        "print('====================')\n",
        "v = 1\n",
        "c50 = 0\n",
        "c20 = 0\n",
        "c10 = 0\n",
        "c1 = 0\n",
        "#valores R$50, R$20, R$10 e R$1\n",
        "while v != 0:\n",
        "    v = int(input('Que valor você quer sacar? R$'))\n",
        "    if v >= 50:\n",
        "        while v >= 50:\n",
        "            v = v - 50\n",
        "            c50 += 1\n",
        "    if v >= 20:\n",
        "        while v >= 20:\n",
        "            v = v - 20\n",
        "            c20 += 1\n",
        "    if v >= 10:\n",
        "        while v >= 10:\n",
        "            v = v - 10\n",
        "            c10 += 1\n",
        "    if v >= 1:\n",
        "        while v >= 1:\n",
        "            v = v - 1\n",
        "            c1 += 1\n",
        "print(f'Total de {c50} cédulas de R$50')\n",
        "print(f'Total de {c20} cédulas de R$20')\n",
        "print(f'Total de {c10} cédulas de R$10')\n",
        "print(f'Total de {c1} cédulas de R$1')\n"
      ],
      "execution_count": null,
      "outputs": []
    }
  ]
}