{
  "nbformat": 4,
  "nbformat_minor": 0,
  "metadata": {
    "colab": {
      "name": "DesafiosGuanabara.ipynb",
      "provenance": [],
      "collapsed_sections": [],
      "authorship_tag": "ABX9TyNzeVXsO/INVKx2T9MDG96B",
      "include_colab_link": true
    },
    "kernelspec": {
      "name": "python3",
      "display_name": "Python 3"
    },
    "language_info": {
      "name": "python"
    }
  },
  "cells": [
    {
      "cell_type": "markdown",
      "metadata": {
        "id": "view-in-github",
        "colab_type": "text"
      },
      "source": [
        "<a href=\"https://colab.research.google.com/github/BrunaKuntz/Python-Curso-em-Video/blob/main/Mundo02/Desafio070.ipynb\" target=\"_parent\"><img src=\"https://colab.research.google.com/assets/colab-badge.svg\" alt=\"Open In Colab\"/></a>"
      ]
    },
    {
      "cell_type": "markdown",
      "metadata": {
        "id": "xolHFjDi_Hj4"
      },
      "source": [
        "\n",
        "# **Desafio 070**\n",
        "**Python 3 - 2º Mundo**\n",
        "\n",
        "Descrição: Crie um programa que leia o nome e o preço de vários produtos. O programa deverá perguntar se o usuário vai continuar ou não. No final, mostre:\n",
        "A) qual é o total gasto na compra.\n",
        "B) quantos produtos custam mais de R$1000.\n",
        "C) qual é o nome do produto mais barato.  \n",
        "\n",
        "Link: https://www.youtube.com/watch?v=hS8QdW-1HTo"
      ]
    },
    {
      "cell_type": "code",
      "metadata": {
        "id": "8Lylf4Su-6aB"
      },
      "source": [
        "s = 0\n",
        "m1000 = 0\n",
        "vbarato = 9999999999999999999\n",
        "barato = ' '\n",
        "while True:\n",
        "    nome = str(input('Nome do produto: ')).capitalize()\n",
        "    preço = float(input('Preço: R$'))\n",
        "    s += preço\n",
        "    if preço >= 1000:\n",
        "        m1000 += 1\n",
        "    if preço <= vbarato:\n",
        "        barato = nome\n",
        "        vbarato = preço\n",
        "    resp = str(input('Quer continuar? [S/N] ')).upper().strip()[0]\n",
        "    while resp != 'N' and resp != 'S':\n",
        "        resp = str(input('Quer continuar? [S/N] ')).upper().strip()[0]\n",
        "    if resp == 'N':\n",
        "        break\n",
        "print('-----Fim do programa-----')\n",
        "print(f'O total da compra foi R${s:.2f}')\n",
        "print(f'{m1000} custaram mais de R$1.000.')\n",
        "print(f'O produto mais barato foi {barato} custando R${vbarato:.2f}')\n"
      ],
      "execution_count": null,
      "outputs": []
    }
  ]
}