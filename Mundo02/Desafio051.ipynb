{
  "nbformat": 4,
  "nbformat_minor": 0,
  "metadata": {
    "colab": {
      "name": "DesafiosGuanabara.ipynb",
      "provenance": [],
      "collapsed_sections": [],
      "authorship_tag": "ABX9TyPm8z6tPQslSc2meooGbUOj",
      "include_colab_link": true
    },
    "kernelspec": {
      "name": "python3",
      "display_name": "Python 3"
    },
    "language_info": {
      "name": "python"
    }
  },
  "cells": [
    {
      "cell_type": "markdown",
      "metadata": {
        "id": "view-in-github",
        "colab_type": "text"
      },
      "source": [
        "<a href=\"https://colab.research.google.com/github/BrunaKuntz/Python-Curso-em-Video/blob/main/Mundo02/Desafio051.ipynb\" target=\"_parent\"><img src=\"https://colab.research.google.com/assets/colab-badge.svg\" alt=\"Open In Colab\"/></a>"
      ]
    },
    {
      "cell_type": "markdown",
      "metadata": {
        "id": "xolHFjDi_Hj4"
      },
      "source": [
        "\n",
        "# **Desafio 051**\n",
        "**Python 3 - 2º Mundo**\n",
        "\n",
        "Descrição: Desenvolva um programa que leia o primeiro termo e a razão de uma PA. No final, mostre os 10 primeiros termos dessa progressão.\n",
        "\n",
        "Link: https://www.youtube.com/watch?v=-OnqSGh0u4g&t=4s"
      ]
    },
    {
      "cell_type": "code",
      "metadata": {
        "id": "8Lylf4Su-6aB"
      },
      "source": [
        "print('=============================')\n",
        "print('     10 TERMOS DE UMA PA     ')\n",
        "print('=============================')\n",
        "r = int(input('Digite a razão da progressão: '))\n",
        "prim = int(input('Digite o primeiro termo da pa: '))\n",
        "décimo = prim + (10 - 1) * r\n",
        "for c in range(prim, décimo + r, r):\n",
        "    print(c)\n",
        "print('FIM')\n"
      ],
      "execution_count": null,
      "outputs": []
    }
  ]
}