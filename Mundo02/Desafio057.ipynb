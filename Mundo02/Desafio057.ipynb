{
  "nbformat": 4,
  "nbformat_minor": 0,
  "metadata": {
    "colab": {
      "name": "DesafiosGuanabara.ipynb",
      "provenance": [],
      "collapsed_sections": [],
      "authorship_tag": "ABX9TyPYdtivxVf8hJChdTtHBsnb",
      "include_colab_link": true
    },
    "kernelspec": {
      "name": "python3",
      "display_name": "Python 3"
    },
    "language_info": {
      "name": "python"
    }
  },
  "cells": [
    {
      "cell_type": "markdown",
      "metadata": {
        "id": "view-in-github",
        "colab_type": "text"
      },
      "source": [
        "<a href=\"https://colab.research.google.com/github/BrunaKuntz/Python-Curso-em-Video/blob/main/Mundo02/Desafio057.ipynb\" target=\"_parent\"><img src=\"https://colab.research.google.com/assets/colab-badge.svg\" alt=\"Open In Colab\"/></a>"
      ]
    },
    {
      "cell_type": "markdown",
      "metadata": {
        "id": "xolHFjDi_Hj4"
      },
      "source": [
        "\n",
        "# **Desafio 057**\n",
        "**Python 3 - 2º Mundo**\n",
        "\n",
        "Descrição: Faça um programa que leia o sexo de uma pessoa, mas só aceite os valores 'M' ou 'F'. Caso esteja errado, peça a digitação novamente até ter um valor correto.\n",
        "\n",
        "Link: https://www.youtube.com/watch?v=JGztEBLGj5E&t=67s"
      ]
    },
    {
      "cell_type": "code",
      "metadata": {
        "id": "8Lylf4Su-6aB"
      },
      "source": [
        "sex = input('Qual o seu sexo? (M/F): ').strip().upper()[0]\n",
        "while sex != \"M\" and sex != \"F\":\n",
        "    print('Valor inválido. Digite novamente.')\n",
        "    sex = input('Qual o seu sexo? (M/F): ').strip().upper()[0]\n",
        "print(f'Você informou que o seu sexo é: {sex}.')"
      ],
      "execution_count": null,
      "outputs": []
    }
  ]
}