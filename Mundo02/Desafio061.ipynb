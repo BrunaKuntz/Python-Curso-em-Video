{
  "nbformat": 4,
  "nbformat_minor": 0,
  "metadata": {
    "colab": {
      "name": "DesafiosGuanabara.ipynb",
      "provenance": [],
      "collapsed_sections": [],
      "authorship_tag": "ABX9TyNGUcdHfb3AFAgdKvWUiSRK",
      "include_colab_link": true
    },
    "kernelspec": {
      "name": "python3",
      "display_name": "Python 3"
    },
    "language_info": {
      "name": "python"
    }
  },
  "cells": [
    {
      "cell_type": "markdown",
      "metadata": {
        "id": "view-in-github",
        "colab_type": "text"
      },
      "source": [
        "<a href=\"https://colab.research.google.com/github/BrunaKuntz/Python-Curso-em-Video/blob/main/Mundo02/Desafio061.ipynb\" target=\"_parent\"><img src=\"https://colab.research.google.com/assets/colab-badge.svg\" alt=\"Open In Colab\"/></a>"
      ]
    },
    {
      "cell_type": "markdown",
      "metadata": {
        "id": "xolHFjDi_Hj4"
      },
      "source": [
        "\n",
        "# **Desafio 061**\n",
        "**Python 3 - 2º Mundo**\n",
        "\n",
        "Descrição: Refaça o DESAFIO 051, lendo o primeiro termo e a razão de uma PA, mostrando os 10 primeiros termos da progressão usando a estrutura while.\n",
        "\n",
        "Link: https://www.youtube.com/watch?v=vu5ehetQGe8&t=187s"
      ]
    },
    {
      "cell_type": "code",
      "metadata": {
        "id": "8Lylf4Su-6aB"
      },
      "source": [
        "print('=============================')\n",
        "print('     10 TERMOS DE UMA PA     ')\n",
        "print('=============================')\n",
        "prim = int(input('Qual o primeiro termo: '))\n",
        "raz = int(input('Qual a razão da pa: '))\n",
        "n = 0\n",
        "while n < 10:\n",
        "    print(prim)\n",
        "    prim = prim + raz\n",
        "    n += 1"
      ],
      "execution_count": null,
      "outputs": []
    }
  ]
}