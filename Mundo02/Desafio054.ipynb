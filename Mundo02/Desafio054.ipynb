{
  "nbformat": 4,
  "nbformat_minor": 0,
  "metadata": {
    "colab": {
      "name": "DesafiosGuanabara.ipynb",
      "provenance": [],
      "collapsed_sections": [],
      "authorship_tag": "ABX9TyMIMZDxhbzHNtODp0KAN4GE",
      "include_colab_link": true
    },
    "kernelspec": {
      "name": "python3",
      "display_name": "Python 3"
    },
    "language_info": {
      "name": "python"
    }
  },
  "cells": [
    {
      "cell_type": "markdown",
      "metadata": {
        "id": "view-in-github",
        "colab_type": "text"
      },
      "source": [
        "<a href=\"https://colab.research.google.com/github/BrunaKuntz/Python-Curso-em-Video/blob/main/Mundo02/Desafio054.ipynb\" target=\"_parent\"><img src=\"https://colab.research.google.com/assets/colab-badge.svg\" alt=\"Open In Colab\"/></a>"
      ]
    },
    {
      "cell_type": "markdown",
      "metadata": {
        "id": "xolHFjDi_Hj4"
      },
      "source": [
        "\n",
        "# **Desafio 054**\n",
        "**Python 3 - 2º Mundo**\n",
        "\n",
        "Descrição: Crie um programa que leia o ano de nascimento de sete pessoas. No final, mostre quantas pessoas ainda não atingiram a maioridade e quantas já são maiores.\n",
        "\n",
        "Link: https://www.youtube.com/watch?v=IL5iBWoKRIs"
      ]
    },
    {
      "cell_type": "code",
      "metadata": {
        "id": "8Lylf4Su-6aB"
      },
      "source": [
        "from datetime import datetime\n",
        "date = datetime.today()\n",
        "ano = date.year\n",
        "\n",
        "maiores = 0\n",
        "menores = 0\n",
        "\n",
        "for i in range(1, 8):\n",
        "    nasc = int(input('Digite o ano de nascimento: '))\n",
        "    idade = ano - nasc\n",
        "    if idade < 18:\n",
        "        menores += 1\n",
        "    else:\n",
        "        maiores += 1\n",
        "print(f'{menores} são menores de idade')\n",
        "print(f'{maiores} são maiores de idade')\n"
      ],
      "execution_count": null,
      "outputs": []
    }
  ]
}