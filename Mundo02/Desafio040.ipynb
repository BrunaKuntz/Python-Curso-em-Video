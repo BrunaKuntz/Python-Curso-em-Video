{
  "nbformat": 4,
  "nbformat_minor": 0,
  "metadata": {
    "colab": {
      "name": "DesafiosGuanabara.ipynb",
      "provenance": [],
      "collapsed_sections": [],
      "authorship_tag": "ABX9TyPGaGyH97H+/eNWKMZEp98w",
      "include_colab_link": true
    },
    "kernelspec": {
      "name": "python3",
      "display_name": "Python 3"
    },
    "language_info": {
      "name": "python"
    }
  },
  "cells": [
    {
      "cell_type": "markdown",
      "metadata": {
        "id": "view-in-github",
        "colab_type": "text"
      },
      "source": [
        "<a href=\"https://colab.research.google.com/github/BrunaKuntz/Python-Curso-em-Video/blob/main/Mundo02/Desafio040.ipynb\" target=\"_parent\"><img src=\"https://colab.research.google.com/assets/colab-badge.svg\" alt=\"Open In Colab\"/></a>"
      ]
    },
    {
      "cell_type": "markdown",
      "metadata": {
        "id": "xolHFjDi_Hj4"
      },
      "source": [
        "\n",
        "\n",
        "\n",
        "# **Desafio 040**\n",
        "**Python 3 - 2º Mundo**\n",
        "\n",
        "Descrição: Crie um programa que leia duas notas de um aluno e calcule sua média, mostrando uma mensagem no final, de acordo com a média atingida:\n",
        "- Média abaixo de 5.0: REPROVADO\n",
        "- Média entre 5.0 e 6.9: RECUPERAÇÃO\n",
        "- Média 7.0 ou superior: APROVADO\n",
        "\n",
        "Link: https://www.youtube.com/watch?v=QuWDyUeoaJs"
      ]
    },
    {
      "cell_type": "code",
      "metadata": {
        "id": "8Lylf4Su-6aB"
      },
      "source": [
        "n1 = float(input('Qual foi sua primeira nota: '))\n",
        "n2 = float(input('Qual foi sua segunda nota: '))\n",
        "media = (n1 + n2) / 2\n",
        "\n",
        "if media < 5.0:\n",
        "    print(f'A sua média foi {media}.Você está REPROVADO.')\n",
        "elif media >= 5 and media <= 6.9:\n",
        "    print(f'A sua média foi {media}. Você está em RECUPERAÇÃO.')\n",
        "else:\n",
        "    print(f'A sua média foi {media}. Você está APROVADO.')"
      ],
      "execution_count": null,
      "outputs": []
    }
  ]
}