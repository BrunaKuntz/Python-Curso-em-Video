{
  "nbformat": 4,
  "nbformat_minor": 0,
  "metadata": {
    "colab": {
      "name": "DesafiosGuanabara.ipynb",
      "provenance": [],
      "collapsed_sections": [],
      "authorship_tag": "ABX9TyM6R0l8ngkSRRxszSvjV/IO",
      "include_colab_link": true
    },
    "kernelspec": {
      "name": "python3",
      "display_name": "Python 3"
    },
    "language_info": {
      "name": "python"
    }
  },
  "cells": [
    {
      "cell_type": "markdown",
      "metadata": {
        "id": "view-in-github",
        "colab_type": "text"
      },
      "source": [
        "<a href=\"https://colab.research.google.com/github/BrunaKuntz/Python-Curso-em-Video/blob/main/Mundo02/Desafio038.ipynb\" target=\"_parent\"><img src=\"https://colab.research.google.com/assets/colab-badge.svg\" alt=\"Open In Colab\"/></a>"
      ]
    },
    {
      "cell_type": "markdown",
      "metadata": {
        "id": "xolHFjDi_Hj4"
      },
      "source": [
        "\n",
        "\n",
        "\n",
        "# **Desafio 038**\n",
        "**Python 3 - 2º Mundo**\n",
        "\n",
        "Descrição: Escreva um programa que leia dois números inteiros e compare-os. mostrando na tela uma mensagem:\n",
        "- O primeiro valor é maior\n",
        "- O segundo valor é maior\n",
        "- Não existe valor maior, os dois são iguais\n",
        "\n",
        "Link: https://www.youtube.com/watch?time_continue=12&v=iuPbB9uHczM&feature=emb_title"
      ]
    },
    {
      "cell_type": "code",
      "metadata": {
        "id": "8Lylf4Su-6aB"
      },
      "source": [
        "n1 = int(input('Digite um valor: '))\n",
        "n2 = int(input('Digite outro valor: '))\n",
        "\n",
        "if n1 > n2:\n",
        "    print(f'O primeiro número é maior. {n1} é maior que {n2}.')\n",
        "elif n2 > n1:\n",
        "    print(f'O segundo número é maior. {n2} é maior que {n1}.')\n",
        "else:\n",
        "    print(f'Não existe valor maior, {n1} e {n2} são iguais.')"
      ],
      "execution_count": null,
      "outputs": []
    }
  ]
}