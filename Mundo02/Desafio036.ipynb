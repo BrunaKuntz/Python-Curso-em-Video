{
  "nbformat": 4,
  "nbformat_minor": 0,
  "metadata": {
    "colab": {
      "name": "DesafiosGuanabara.ipynb",
      "provenance": [],
      "collapsed_sections": [],
      "authorship_tag": "ABX9TyOV4y8HysoF9XSBkDxNm9yw",
      "include_colab_link": true
    },
    "kernelspec": {
      "name": "python3",
      "display_name": "Python 3"
    },
    "language_info": {
      "name": "python"
    }
  },
  "cells": [
    {
      "cell_type": "markdown",
      "metadata": {
        "id": "view-in-github",
        "colab_type": "text"
      },
      "source": [
        "<a href=\"https://colab.research.google.com/github/BrunaKuntz/Python-Curso-em-Video/blob/main/Mundo02/Desafio036.ipynb\" target=\"_parent\"><img src=\"https://colab.research.google.com/assets/colab-badge.svg\" alt=\"Open In Colab\"/></a>"
      ]
    },
    {
      "cell_type": "markdown",
      "metadata": {
        "id": "xolHFjDi_Hj4"
      },
      "source": [
        "\n",
        "\n",
        "\n",
        "# **Desafio 036**\n",
        "**Python 3 - 2º Mundo**\n",
        "\n",
        "Descrição: Escreva um programa para aprovar o empréstimo bancário para a compra de uma casa. Pergunte o valor da casa, o salário do comprador e em quantos anos ele vai pagar. A prestação mensal não pode exceder 30% do salário ou então o empréstimo será negado.\n",
        "\n",
        "Link: https://www.youtube.com/watch?v=IV13X0QOMU8&t=10s"
      ]
    },
    {
      "cell_type": "code",
      "metadata": {
        "id": "8Lylf4Su-6aB"
      },
      "source": [
        "valor = float(input('Qual o valor da casa? R$'))\n",
        "sal = float(input('Qual o seu salário?'))\n",
        "anos = int(input('Em quantos anos você vai pagar?'))\n",
        "\n",
        "meses = anos * 12\n",
        "prestacao = valor/meses\n",
        "\n",
        "if prestacao <= (30*sal)/100:\n",
        "    print(f'A prestação é de R${prestacao:.2f} e está APROVADA!')\n",
        "else:\n",
        "    print(f'A prestação de R${prestacao:.2f} excede 30% do seu salário mensal e foi REPROVADA.')"
      ],
      "execution_count": null,
      "outputs": []
    }
  ]
}