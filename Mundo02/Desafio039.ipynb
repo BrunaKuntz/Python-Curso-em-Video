{
  "nbformat": 4,
  "nbformat_minor": 0,
  "metadata": {
    "colab": {
      "name": "DesafiosGuanabara.ipynb",
      "provenance": [],
      "collapsed_sections": [],
      "authorship_tag": "ABX9TyPj17XHWH414CYXc5mRxo7K",
      "include_colab_link": true
    },
    "kernelspec": {
      "name": "python3",
      "display_name": "Python 3"
    },
    "language_info": {
      "name": "python"
    }
  },
  "cells": [
    {
      "cell_type": "markdown",
      "metadata": {
        "id": "view-in-github",
        "colab_type": "text"
      },
      "source": [
        "<a href=\"https://colab.research.google.com/github/BrunaKuntz/Python-Curso-em-Video/blob/main/Mundo02/Desafio039.ipynb\" target=\"_parent\"><img src=\"https://colab.research.google.com/assets/colab-badge.svg\" alt=\"Open In Colab\"/></a>"
      ]
    },
    {
      "cell_type": "markdown",
      "metadata": {
        "id": "xolHFjDi_Hj4"
      },
      "source": [
        "\n",
        "\n",
        "\n",
        "# **Desafio 039**\n",
        "**Python 3 - 2º Mundo**\n",
        "\n",
        "Descrição: Faça um programa que leia o ano de nascimento de um jovem e informe, de acordo com a sua idade, se ele ainda vai se alistar ao serviço militar, se é a hora exata de se alistar ou se já passou do tempo do alistamento. Seu programa também deverá mostrar o tempo que falta ou que passou do prazo.\n",
        "\n",
        "Link: https://www.youtube.com/watch?v=ePwP4gU_waY&t=12s"
      ]
    },
    {
      "cell_type": "code",
      "metadata": {
        "id": "8Lylf4Su-6aB"
      },
      "source": [
        "nasc = int(input('Em que ano você nasceu? '))\n",
        "from datetime import datetime\n",
        "date = datetime.today()\n",
        "ano = date.year\n",
        "idade = ano - nasc\n",
        "\n",
        "if idade < 18:\n",
        "    print(f'Faltam {18 - idade} para você se apresentar.')\n",
        "elif idade == 18:\n",
        "    print('Está na hora de se alistar.')\n",
        "else:\n",
        "    print(f'Já passou {idade - 18} anos do seu ano de alistamento.')"
      ],
      "execution_count": null,
      "outputs": []
    }
  ]
}