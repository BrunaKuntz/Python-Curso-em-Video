{
  "nbformat": 4,
  "nbformat_minor": 0,
  "metadata": {
    "colab": {
      "name": "DesafiosGuanabara.ipynb",
      "provenance": [],
      "collapsed_sections": [],
      "authorship_tag": "ABX9TyOeNmDReUkXyASzJ+iSE3mr",
      "include_colab_link": true
    },
    "kernelspec": {
      "name": "python3",
      "display_name": "Python 3"
    },
    "language_info": {
      "name": "python"
    }
  },
  "cells": [
    {
      "cell_type": "markdown",
      "metadata": {
        "id": "view-in-github",
        "colab_type": "text"
      },
      "source": [
        "<a href=\"https://colab.research.google.com/github/BrunaKuntz/Python-Curso-em-Video/blob/main/Mundo02/Desafio058.ipynb\" target=\"_parent\"><img src=\"https://colab.research.google.com/assets/colab-badge.svg\" alt=\"Open In Colab\"/></a>"
      ]
    },
    {
      "cell_type": "markdown",
      "metadata": {
        "id": "xolHFjDi_Hj4"
      },
      "source": [
        "\n",
        "# **Desafio 058**\n",
        "**Python 3 - 2º Mundo**\n",
        "\n",
        "Descrição: Melhore o jogo do DESAFIO 028 onde o computador vai \"pensar\" em um número entre 0 e 10. Só que agora o jogador vai tentar adivinhar até acertar, mostrando no final quantos palpites foram necessários para vencer.\n",
        "\n",
        "Link: https://www.youtube.com/watch?v=-QkOIHJ1Chw&t=14s"
      ]
    },
    {
      "cell_type": "code",
      "metadata": {
        "id": "8Lylf4Su-6aB"
      },
      "source": [
        "from random import choice\n",
        "num = [1, 2, 3, 4, 5, 6, 7, 8, 9, 10]\n",
        "num0 = choice(num)\n",
        "num2 = int(input('Adivinhe qual número de 1 a 10 o computador está pensando: '))\n",
        "counter = 0\n",
        "while num0 != num2:\n",
        "    counter += 1\n",
        "    if num2 < num0:\n",
        "      num2 = int(input('Mais... Tente mais uma vez: '))\n",
        "    elif num2 > num0:\n",
        "      num2 = int(input('Menos... Tente mais uma vez: '))\n",
        "print (f'O número que o computador pensou foi o {num0} e levou {counter+1} tentativas para você acertar.')\n"
      ],
      "execution_count": null,
      "outputs": []
    }
  ]
}