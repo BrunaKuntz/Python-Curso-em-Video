{
  "nbformat": 4,
  "nbformat_minor": 0,
  "metadata": {
    "colab": {
      "name": "DesafiosGuanabara.ipynb",
      "provenance": [],
      "collapsed_sections": [],
      "authorship_tag": "ABX9TyMvsMmv7bTydXuZC7/z3sm8",
      "include_colab_link": true
    },
    "kernelspec": {
      "name": "python3",
      "display_name": "Python 3"
    },
    "language_info": {
      "name": "python"
    }
  },
  "cells": [
    {
      "cell_type": "markdown",
      "metadata": {
        "id": "view-in-github",
        "colab_type": "text"
      },
      "source": [
        "<a href=\"https://colab.research.google.com/github/BrunaKuntz/Python-Curso-em-Video/blob/main/Mundo02/Desafio068.ipynb\" target=\"_parent\"><img src=\"https://colab.research.google.com/assets/colab-badge.svg\" alt=\"Open In Colab\"/></a>"
      ]
    },
    {
      "cell_type": "markdown",
      "metadata": {
        "id": "xolHFjDi_Hj4"
      },
      "source": [
        "\n",
        "# **Desafio 068**\n",
        "**Python 3 - 2º Mundo**\n",
        "\n",
        "Descrição: Faça um programa que jogue par ou ímpar com o computador. O jogo só será interrompido quando o jogador perder, mostrando o total de vitórias consecutivas que ele conquistou no final do jogo. \n",
        "\n",
        "Link: https://www.youtube.com/watch?v=EIzgKCCDdc0&t=5s"
      ]
    },
    {
      "cell_type": "code",
      "metadata": {
        "id": "8Lylf4Su-6aB"
      },
      "source": [
        "from random import choice\n",
        "Usuario = ' '\n",
        "usuariovalor = 0\n",
        "computador = 0\n",
        "s = 0\n",
        "v = 0\n",
        "resultado = ' '\n",
        "print('=============================')\n",
        "print('Vamos jogar par ou ímpar')\n",
        "print('=============================')\n",
        "while True:\n",
        "    usuariovalor = int(input('Escolha um valor: '))\n",
        "    Usuario = str(input(\"Par ou Ímpar? [P/I] \").upper().strip()[0])\n",
        "    computador = choice([1, 2, 3, 4, 5, 6, 7, 8, 9, 10])\n",
        "    s = computador + usuariovalor\n",
        "    if s % 2 == 0:\n",
        "        resultado = 'P'\n",
        "    elif s % 2 == 1:\n",
        "        resultado = 'I'\n",
        "    if Usuario == resultado:\n",
        "        print(f'Você jogou {usuariovalor} e o computador {computador}. Total de {s} deu {resultado}.')\n",
        "        print('Você ganhou! Jogue novamente!')\n",
        "        print('=============================')\n",
        "        v += 1\n",
        "    elif Usuario != resultado:\n",
        "        print(f'Você jogou {usuariovalor} e o computador {computador}. Total de {s} deu {resultado}.')\n",
        "        print('Você perdeu!')\n",
        "        break\n",
        "print(f'GAME OVER! Você venceu {v} vezes.')\n",
        "[]\n"
      ],
      "execution_count": null,
      "outputs": []
    }
  ]
}