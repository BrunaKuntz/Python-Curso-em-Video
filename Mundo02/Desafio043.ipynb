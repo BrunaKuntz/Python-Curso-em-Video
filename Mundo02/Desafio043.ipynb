{
  "nbformat": 4,
  "nbformat_minor": 0,
  "metadata": {
    "colab": {
      "name": "DesafiosGuanabara.ipynb",
      "provenance": [],
      "collapsed_sections": [],
      "authorship_tag": "ABX9TyO8eJjjljiozmwleJHRHxkO",
      "include_colab_link": true
    },
    "kernelspec": {
      "name": "python3",
      "display_name": "Python 3"
    },
    "language_info": {
      "name": "python"
    }
  },
  "cells": [
    {
      "cell_type": "markdown",
      "metadata": {
        "id": "view-in-github",
        "colab_type": "text"
      },
      "source": [
        "<a href=\"https://colab.research.google.com/github/BrunaKuntz/Python-Curso-em-Video/blob/main/Mundo02/Desafio043.ipynb\" target=\"_parent\"><img src=\"https://colab.research.google.com/assets/colab-badge.svg\" alt=\"Open In Colab\"/></a>"
      ]
    },
    {
      "cell_type": "markdown",
      "metadata": {
        "id": "xolHFjDi_Hj4"
      },
      "source": [
        "\n",
        "\n",
        "\n",
        "# **Desafio 043**\n",
        "**Python 3 - 2º Mundo**\n",
        "\n",
        "Descrição: Desenvolva uma lógica que leia o peso e a altura de uma pessoa, calcule seu Índice de Massa Corporal (IMC) e mostre seu status, de acordo com a tabela abaixo:\n",
        "- IMC abaixo de 18,5: Abaixo do Peso\n",
        "- Entre 18,5 e 25: Peso Ideal\n",
        "- 25 até 30: Sobrepeso\n",
        "- 30 até 40: Obesidade\n",
        "- Acima de 40: Obesidade Mórbida\n",
        "\n",
        "Link: https://www.youtube.com/watch?v=b7r34za963I&t=1s"
      ]
    },
    {
      "cell_type": "code",
      "metadata": {
        "id": "8Lylf4Su-6aB"
      },
      "source": [
        "peso = float(input('Digite o seu peso: '))\n",
        "altura = float(input('Digite a sua altura: '))\n",
        "imc = peso/altura**2\n",
        "\n",
        "if imc < 18.5:\n",
        "    print(f'Seu IMC é de {imc:.1f} e você está abaixo do peso.')\n",
        "elif 18.5 <= imc <= 25:\n",
        "    print(f'Seu IMC é de {imc:.1f} e você está no seu peso ideal.')\n",
        "elif 25 < imc <= 30:\n",
        "    print(f'Seu IMC é de {imc:.1f} e você está com sobrepeso')\n",
        "elif 30 < imc <= 40:\n",
        "    print(f'Seu IMC é de {imc:.1f} e você está com obesidade.')\n",
        "else:\n",
        "    print(f'Seu IMC é de {imc:.1f} e você está com obesidade mórbida.')\n"
      ],
      "execution_count": null,
      "outputs": []
    }
  ]
}