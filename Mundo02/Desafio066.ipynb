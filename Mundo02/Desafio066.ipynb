{
  "nbformat": 4,
  "nbformat_minor": 0,
  "metadata": {
    "colab": {
      "name": "DesafiosGuanabara.ipynb",
      "provenance": [],
      "collapsed_sections": [],
      "authorship_tag": "ABX9TyMCE7u5ycNKKcRfG0oOhGyp",
      "include_colab_link": true
    },
    "kernelspec": {
      "name": "python3",
      "display_name": "Python 3"
    },
    "language_info": {
      "name": "python"
    }
  },
  "cells": [
    {
      "cell_type": "markdown",
      "metadata": {
        "id": "view-in-github",
        "colab_type": "text"
      },
      "source": [
        "<a href=\"https://colab.research.google.com/github/BrunaKuntz/Python-Curso-em-Video/blob/main/Mundo02/Desafio066.ipynb\" target=\"_parent\"><img src=\"https://colab.research.google.com/assets/colab-badge.svg\" alt=\"Open In Colab\"/></a>"
      ]
    },
    {
      "cell_type": "markdown",
      "metadata": {
        "id": "xolHFjDi_Hj4"
      },
      "source": [
        "\n",
        "# **Desafio 066**\n",
        "**Python 3 - 2º Mundo**\n",
        "\n",
        "Descrição: Crie um programa que leia números inteiros pelo teclado. O programa só vai parar quando o usuário digitar o valor 999, que é a condição de parada. No final, mostre quantos números foram digitados e qual foi a soma entre elas (desconsiderando o flag).\n",
        "\n",
        "Link: https://www.youtube.com/watch?v=d2ug6quC1bk&t=8s"
      ]
    },
    {
      "cell_type": "code",
      "metadata": {
        "id": "8Lylf4Su-6aB"
      },
      "source": [
        "n = s = c = 0\n",
        "while True:\n",
        "    n = int(input('Digite um valor (999 para parar): '))\n",
        "    if n == 999:\n",
        "        break\n",
        "    s += n\n",
        "    c += 1\n",
        "print(f'Você digitou {c} números e a soma entre eles é {s}.')\n"
      ],
      "execution_count": null,
      "outputs": []
    }
  ]
}