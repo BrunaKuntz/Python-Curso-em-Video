{
  "nbformat": 4,
  "nbformat_minor": 0,
  "metadata": {
    "colab": {
      "name": "DesafiosGuanabara.ipynb",
      "provenance": [],
      "collapsed_sections": [],
      "authorship_tag": "ABX9TyOo6rwPDWVZ8AdGBLPFh9dN",
      "include_colab_link": true
    },
    "kernelspec": {
      "name": "python3",
      "display_name": "Python 3"
    },
    "language_info": {
      "name": "python"
    }
  },
  "cells": [
    {
      "cell_type": "markdown",
      "metadata": {
        "id": "view-in-github",
        "colab_type": "text"
      },
      "source": [
        "<a href=\"https://colab.research.google.com/github/BrunaKuntz/Python-Curso-em-Video/blob/main/Mundo02/Desafio037.ipynb\" target=\"_parent\"><img src=\"https://colab.research.google.com/assets/colab-badge.svg\" alt=\"Open In Colab\"/></a>"
      ]
    },
    {
      "cell_type": "markdown",
      "metadata": {
        "id": "xolHFjDi_Hj4"
      },
      "source": [
        "\n",
        "\n",
        "\n",
        "# **Desafio 037**\n",
        "**Python 3 - 2º Mundo**\n",
        "\n",
        "Descrição: Escreva um programa em Python que leia um número inteiro qualquer e peça para o usuário escolher qual será a base de conversão: 1 para binário, 2 para octal e 3 para hexadecimal.\n",
        "\n",
        "Link: https://www.youtube.com/watch?v=B3F0IjH5WAM&t=5s"
      ]
    },
    {
      "cell_type": "code",
      "metadata": {
        "id": "8Lylf4Su-6aB"
      },
      "source": [
        "num = int(input('Digite um número inteiro: '))\n",
        "\n",
        "print('Escolha uma das bases para conversão: ')\n",
        "bases = int(input('[1] converter para BINÁRIO\\n'\n",
        "                  '[2] converter para OCTAL\\n'\n",
        "                  '[3] converter para HEXADECIMAL\\n'\n",
        "                  'Sua opcão: '))\n",
        "if bases == 1:\n",
        "    print(f'{num} convertido para BINÁRIO é {str(bin(num))[2:]}')\n",
        "elif bases == 2:\n",
        "    print(f'{num} convertido para OCTAL é {oct(num)[2:]}')\n",
        "elif bases == 3:\n",
        "    print(f'{num} convertido para HEXADECIMAL é {hex(num)[2:]}')\n",
        "else:\n",
        "    print('Certeza que digitou certou? >:(')"
      ],
      "execution_count": null,
      "outputs": []
    }
  ]
}