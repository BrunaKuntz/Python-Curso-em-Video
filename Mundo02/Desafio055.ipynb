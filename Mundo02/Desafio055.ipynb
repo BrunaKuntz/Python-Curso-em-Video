{
  "nbformat": 4,
  "nbformat_minor": 0,
  "metadata": {
    "colab": {
      "name": "DesafiosGuanabara.ipynb",
      "provenance": [],
      "collapsed_sections": [],
      "authorship_tag": "ABX9TyOmQQjbQZUrFr3wDzTDgNZ1",
      "include_colab_link": true
    },
    "kernelspec": {
      "name": "python3",
      "display_name": "Python 3"
    },
    "language_info": {
      "name": "python"
    }
  },
  "cells": [
    {
      "cell_type": "markdown",
      "metadata": {
        "id": "view-in-github",
        "colab_type": "text"
      },
      "source": [
        "<a href=\"https://colab.research.google.com/github/BrunaKuntz/Python-Curso-em-Video/blob/main/Mundo02/Desafio055.ipynb\" target=\"_parent\"><img src=\"https://colab.research.google.com/assets/colab-badge.svg\" alt=\"Open In Colab\"/></a>"
      ]
    },
    {
      "cell_type": "markdown",
      "metadata": {
        "id": "xolHFjDi_Hj4"
      },
      "source": [
        "\n",
        "# **Desafio 055**\n",
        "**Python 3 - 2º Mundo**\n",
        "\n",
        "Descrição: Faça um programa que leia o peso de cinco pessoas. No final, mostre qual foi o maior e o menor peso lidos.\n",
        "\n",
        "Link: https://www.youtube.com/watch?v=Kjpb_IAOKRQ&t=1s"
      ]
    },
    {
      "cell_type": "code",
      "metadata": {
        "id": "8Lylf4Su-6aB"
      },
      "source": [
        "maiorpeso = 0\n",
        "menorpeso = 1000\n",
        "\n",
        "for i in range(1,6):\n",
        "    peso = float(input('Qual é o peso desta pessoa em kg? '))\n",
        "    if peso >= maiorpeso:\n",
        "        maiorpeso = peso\n",
        "    elif peso <= menorpeso:\n",
        "        menorpeso = peso\n",
        "print(f'O menor peso é: {menorpeso:.2f}kg')\n",
        "print(f'O maior peso é: {maiorpeso:.2f}kg')\n"
      ],
      "execution_count": null,
      "outputs": []
    }
  ]
}