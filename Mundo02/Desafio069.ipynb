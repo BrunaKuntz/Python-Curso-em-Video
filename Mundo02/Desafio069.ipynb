{
  "nbformat": 4,
  "nbformat_minor": 0,
  "metadata": {
    "colab": {
      "name": "DesafiosGuanabara.ipynb",
      "provenance": [],
      "collapsed_sections": [],
      "authorship_tag": "ABX9TyPFPHUMYoPkIbOBp1ACUjPT",
      "include_colab_link": true
    },
    "kernelspec": {
      "name": "python3",
      "display_name": "Python 3"
    },
    "language_info": {
      "name": "python"
    }
  },
  "cells": [
    {
      "cell_type": "markdown",
      "metadata": {
        "id": "view-in-github",
        "colab_type": "text"
      },
      "source": [
        "<a href=\"https://colab.research.google.com/github/BrunaKuntz/Python-Curso-em-Video/blob/main/Mundo02/Desafio069.ipynb\" target=\"_parent\"><img src=\"https://colab.research.google.com/assets/colab-badge.svg\" alt=\"Open In Colab\"/></a>"
      ]
    },
    {
      "cell_type": "markdown",
      "metadata": {
        "id": "xolHFjDi_Hj4"
      },
      "source": [
        "\n",
        "# **Desafio 069**\n",
        "**Python 3 - 2º Mundo**\n",
        "\n",
        "Descrição: Crie um programa que leia a idade e o sexo de várias pessoas. A cada pessoa cadastrada, o programa deverá perguntar se o usuário quer ou não continuar. No final, mostre:\n",
        "A) quantas pessoas tem mais de 18 anos.\n",
        "B) quantos homens foram cadastrados.\n",
        "C) quantas mulheres tem menos de 20 anos.  \n",
        "\n",
        "Link: https://www.youtube.com/watch?v=4Ca6iRJo3M0&t=2s"
      ]
    },
    {
      "cell_type": "code",
      "metadata": {
        "id": "8Lylf4Su-6aB"
      },
      "source": [
        "h = 0\n",
        "m20 = 0\n",
        "p18 = 0\n",
        "while True:\n",
        "    print('----------------------------')\n",
        "    print('    Cadastre uma pessoa     ')\n",
        "    print('----------------------------')\n",
        "    idade = int(input('Idade: '))\n",
        "    sex = str(input('Sexo: [M/F] ')).upper().strip()[0]\n",
        "    while sex != 'F' and sex != 'M':\n",
        "        sex = str(input('Sexo: [M/F] ')).upper().strip()[0]\n",
        "    if sex == 'F' and idade < 20:\n",
        "        m20 += 1\n",
        "    elif sex == \"M\":\n",
        "        h += 1\n",
        "    if idade > 18:\n",
        "        p18 += 1\n",
        "    resp = str(input('Quer continuar? [S/N] ')).upper().strip()[0]\n",
        "    while resp != 'N' and resp != 'S':\n",
        "        resp = str(input('Quer continuar? [S/N] ')).upper().strip()[0]\n",
        "    if resp == 'N':\n",
        "        break\n",
        "print('=====Fim do programa====')\n",
        "print(f'Total de pessoas com mais de 18 anos: {p18}')\n",
        "print(f'Total de homens cadastrados: {h}')\n",
        "print(f'Total de mulheres com menos de 20 anos: {m20}')\n"
      ],
      "execution_count": null,
      "outputs": []
    }
  ]
}