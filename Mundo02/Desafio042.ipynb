{
  "nbformat": 4,
  "nbformat_minor": 0,
  "metadata": {
    "colab": {
      "name": "DesafiosGuanabara.ipynb",
      "provenance": [],
      "collapsed_sections": [],
      "authorship_tag": "ABX9TyOR3bZKuKqsTIQeHn5MZi+9",
      "include_colab_link": true
    },
    "kernelspec": {
      "name": "python3",
      "display_name": "Python 3"
    },
    "language_info": {
      "name": "python"
    }
  },
  "cells": [
    {
      "cell_type": "markdown",
      "metadata": {
        "id": "view-in-github",
        "colab_type": "text"
      },
      "source": [
        "<a href=\"https://colab.research.google.com/github/BrunaKuntz/Python-Curso-em-Video/blob/main/Mundo02/Desafio042.ipynb\" target=\"_parent\"><img src=\"https://colab.research.google.com/assets/colab-badge.svg\" alt=\"Open In Colab\"/></a>"
      ]
    },
    {
      "cell_type": "markdown",
      "metadata": {
        "id": "xolHFjDi_Hj4"
      },
      "source": [
        "\n",
        "\n",
        "\n",
        "# **Desafio 042**\n",
        "**Python 3 - 2º Mundo**\n",
        "\n",
        "Descrição: Refaça o DESAFIO 035 dos triângulos, acrescentando o recurso de mostrar que tipo de triângulo será formado:\n",
        "- EQUILÁTERO: todos os lados iguais\n",
        "- ISÓSCELES: dois lados iguais, um diferente\n",
        "- ESCALENO: todos os lados diferentes\n",
        "\n",
        "Link: https://www.youtube.com/watch?v=ZX7sCPjcHA0"
      ]
    },
    {
      "cell_type": "code",
      "metadata": {
        "id": "8Lylf4Su-6aB"
      },
      "source": [
        "reta1 = int(input('Reta 1: '))\n",
        "reta2 = int(input('Reta 2: '))\n",
        "reta3 = int(input('Reta 3: '))\n",
        "if (reta1 + reta2 > reta3) and (reta2 + reta3 > reta1) and (reta3 + reta1 > reta2):\n",
        "    print('As retas formam um triângulo.')\n",
        "    if reta1 == reta2 == reta3:\n",
        "      print('E é um triângulo equilátero.')\n",
        "    elif reta1 == reta2 or reta2 == reta3 or reta1 == reta3:\n",
        "      print('E é um triângulo isósceles.')\n",
        "    else:\n",
        "      print('E é um triângulo escaleno.')\n",
        "else:\n",
        "    print('As retas não formam um triângulo.')\n"
      ],
      "execution_count": null,
      "outputs": []
    }
  ]
}