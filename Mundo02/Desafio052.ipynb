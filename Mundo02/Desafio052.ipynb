{
  "nbformat": 4,
  "nbformat_minor": 0,
  "metadata": {
    "colab": {
      "name": "DesafiosGuanabara.ipynb",
      "provenance": [],
      "collapsed_sections": [],
      "authorship_tag": "ABX9TyPIvgmLo5UU2RJtevLY7p09",
      "include_colab_link": true
    },
    "kernelspec": {
      "name": "python3",
      "display_name": "Python 3"
    },
    "language_info": {
      "name": "python"
    }
  },
  "cells": [
    {
      "cell_type": "markdown",
      "metadata": {
        "id": "view-in-github",
        "colab_type": "text"
      },
      "source": [
        "<a href=\"https://colab.research.google.com/github/BrunaKuntz/Python-Curso-em-Video/blob/main/Mundo02/Desafio052.ipynb\" target=\"_parent\"><img src=\"https://colab.research.google.com/assets/colab-badge.svg\" alt=\"Open In Colab\"/></a>"
      ]
    },
    {
      "cell_type": "markdown",
      "metadata": {
        "id": "xolHFjDi_Hj4"
      },
      "source": [
        "\n",
        "# **Desafio 052**\n",
        "**Python 3 - 2º Mundo**\n",
        "\n",
        "Descrição: Faça um programa que leia um número inteiro e diga se ele é ou não um número primo.\n",
        "\n",
        "Link: https://www.youtube.com/watch?v=Er5Hyd4LyVw&t=33s"
      ]
    },
    {
      "cell_type": "code",
      "metadata": {
        "id": "8Lylf4Su-6aB"
      },
      "source": [
        "num = int(input(\"Digite um número: \"))\n",
        "contador = 0\n",
        "\n",
        "for i in range(1, num + 1):\n",
        "    if num % i == 0:\n",
        "        contador += 1\n",
        "\n",
        "print(f\"O número {num} foi divisível {contador} vezes!\")\n",
        "\n",
        "if contador == 2:\n",
        "    print(\"O número é primo\")\n",
        "else:\n",
        "    print(\"O número não é primo\")\n"
      ],
      "execution_count": null,
      "outputs": []
    }
  ]
}