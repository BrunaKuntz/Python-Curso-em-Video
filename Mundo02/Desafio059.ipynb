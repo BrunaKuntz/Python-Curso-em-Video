{
  "nbformat": 4,
  "nbformat_minor": 0,
  "metadata": {
    "colab": {
      "name": "DesafiosGuanabara.ipynb",
      "provenance": [],
      "collapsed_sections": [],
      "authorship_tag": "ABX9TyNpoi6gcvEd0r2tXZhPSt1n",
      "include_colab_link": true
    },
    "kernelspec": {
      "name": "python3",
      "display_name": "Python 3"
    },
    "language_info": {
      "name": "python"
    }
  },
  "cells": [
    {
      "cell_type": "markdown",
      "metadata": {
        "id": "view-in-github",
        "colab_type": "text"
      },
      "source": [
        "<a href=\"https://colab.research.google.com/github/BrunaKuntz/Python-Curso-em-Video/blob/main/Mundo02/Desafio059.ipynb\" target=\"_parent\"><img src=\"https://colab.research.google.com/assets/colab-badge.svg\" alt=\"Open In Colab\"/></a>"
      ]
    },
    {
      "cell_type": "markdown",
      "metadata": {
        "id": "xolHFjDi_Hj4"
      },
      "source": [
        "\n",
        "# **Desafio 059**\n",
        "**Python 3 - 2º Mundo**\n",
        "\n",
        "Descrição: Crie um programa que leia dois valores e mostre um menu na tela:\n",
        "[ 1 ] somar\n",
        "[ 2 ] multiplicar\n",
        "[ 3 ] maior\n",
        "[ 4 ] novos números\n",
        "[ 5 ] sair do programa\n",
        "Seu programa deverá realizar a operação solicitada em cada caso.\n",
        "\n",
        "Link: https://www.youtube.com/watch?v=OBJL5vPj4-E&t=18s"
      ]
    },
    {
      "cell_type": "code",
      "metadata": {
        "id": "8Lylf4Su-6aB"
      },
      "source": [
        "n1 = int(input('Digite o primeiro valor: '))\n",
        "n2 = int(input('Digite o segundo valor: '))\n",
        "menu = 0\n",
        "while menu != 5:\n",
        "    print('=============================')\n",
        "    menu = int(input('[1] SOMAR \\n'\n",
        "                     '[2] MULTIPLICAR \\n'\n",
        "                     '[3] MAIOR \\n'\n",
        "                     '[4] NOVOS NÚMEROS \\n'\n",
        "                     '[5] SAIR DO PROGRAMA \\n'\n",
        "                     'Opção: '))\n",
        "    if menu == 1:\n",
        "        print(f'A soma entre {n1} e {n2} é: {n1 + n2}.')\n",
        "    elif menu == 2:\n",
        "        print(f'A multiplicação entre {n1} e {n2} é: {n1*n2}')\n",
        "    elif menu == 3:\n",
        "        if n1 > n2:\n",
        "            print(f'{n1} é o maior número.')\n",
        "        elif n2 > n1:\n",
        "            print(f'{n2} é o maior número.')\n",
        "        else:\n",
        "            print(f'{n1} e {n2} são iguais.')\n",
        "    elif menu == 4:\n",
        "        n1 = int(input('Digite o primeiro valor: '))\n",
        "        n2 = int(input('Digite o segundo valor: '))\n",
        "    elif menu != 1 and menu != 2 and menu != 3 and menu != 4 and menu != 5:\n",
        "        print('Opção inválida. Tente novamente.')\n",
        "print('Obrigada por usar nosso programa!')\n"
      ],
      "execution_count": null,
      "outputs": []
    }
  ]
}