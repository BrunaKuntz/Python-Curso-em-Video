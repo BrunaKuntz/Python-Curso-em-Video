{
  "nbformat": 4,
  "nbformat_minor": 0,
  "metadata": {
    "colab": {
      "name": "DesafiosGuanabara.ipynb",
      "provenance": [],
      "collapsed_sections": [],
      "authorship_tag": "ABX9TyM7wEohF1fk9LCMgCaEuGhN",
      "include_colab_link": true
    },
    "kernelspec": {
      "name": "python3",
      "display_name": "Python 3"
    },
    "language_info": {
      "name": "python"
    }
  },
  "cells": [
    {
      "cell_type": "markdown",
      "metadata": {
        "id": "view-in-github",
        "colab_type": "text"
      },
      "source": [
        "<a href=\"https://colab.research.google.com/github/BrunaKuntz/Python-Curso-em-Video/blob/main/Mundo02/Desafio056.ipynb\" target=\"_parent\"><img src=\"https://colab.research.google.com/assets/colab-badge.svg\" alt=\"Open In Colab\"/></a>"
      ]
    },
    {
      "cell_type": "markdown",
      "metadata": {
        "id": "xolHFjDi_Hj4"
      },
      "source": [
        "\n",
        "# **Desafio 056**\n",
        "**Python 3 - 2º Mundo**\n",
        "\n",
        "Descrição: Desenvolva um programa que leia o nome, idade e sexo de 4 pessoas. No final do programa, mostre: a média de idade do grupo, qual é o nome do homem mais velho e quantas mulheres têm menos de 20 anos.\n",
        "\n",
        "Link: https://www.youtube.com/watch?v=fokDF4th0IY&t=33s"
      ]
    },
    {
      "cell_type": "code",
      "metadata": {
        "id": "8Lylf4Su-6aB"
      },
      "source": [
        "somaidade = 0\n",
        "homemvelho = 0\n",
        "countmulheres = 0\n",
        "nomehomem = '...'\n",
        "\n",
        "for i in range(1, 5): \n",
        "    print('=======================')\n",
        "    nome = str(input('Nome: '))\n",
        "    idade = int(input('Idade: '))\n",
        "    sexo = str(input('Sexo (F/M): '))\n",
        "    somaidade += idade\n",
        "    if sexo == 'M':\n",
        "        if idade > homemvelho:\n",
        "            homemvelho = idade\n",
        "            nomehomem = nome\n",
        "    elif sexo == 'F':\n",
        "        if idade < 20:\n",
        "            countmulheres += 1\n",
        "\n",
        "media = somaidade/4\n",
        "print(f'Média de idade do grupo: {media}')\n",
        "print(f'Nome do homem mais velho: {nomehomem} com {homemvelho}')\n",
        "print(f'Quantidade mulheres com menos de 20: {countmulheres}')\n"
      ],
      "execution_count": null,
      "outputs": []
    }
  ]
}