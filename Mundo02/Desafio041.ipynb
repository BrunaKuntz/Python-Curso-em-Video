{
  "nbformat": 4,
  "nbformat_minor": 0,
  "metadata": {
    "colab": {
      "name": "DesafiosGuanabara.ipynb",
      "provenance": [],
      "collapsed_sections": [],
      "authorship_tag": "ABX9TyM7/Et88K3zvWtrcTJKkgpH",
      "include_colab_link": true
    },
    "kernelspec": {
      "name": "python3",
      "display_name": "Python 3"
    },
    "language_info": {
      "name": "python"
    }
  },
  "cells": [
    {
      "cell_type": "markdown",
      "metadata": {
        "id": "view-in-github",
        "colab_type": "text"
      },
      "source": [
        "<a href=\"https://colab.research.google.com/github/BrunaKuntz/Python-Curso-em-Video/blob/main/Mundo02/Desafio041.ipynb\" target=\"_parent\"><img src=\"https://colab.research.google.com/assets/colab-badge.svg\" alt=\"Open In Colab\"/></a>"
      ]
    },
    {
      "cell_type": "markdown",
      "metadata": {
        "id": "xolHFjDi_Hj4"
      },
      "source": [
        "\n",
        "\n",
        "\n",
        "# **Desafio 041**\n",
        "**Python 3 - 2º Mundo**\n",
        "\n",
        "Descrição: A Confederação Nacional de Natação precisa de um programa que leia o ano de nascimento de um atleta e mostre sua categoria, de acordo com a idade:\n",
        "- Até 9 anos: MIRIM\n",
        "- Até 14 anos: INFANTIL\n",
        "- Até 19 anos: JÚNIOR\n",
        "- Até 25 anos: SÊNIOR\n",
        "- Acima de 25 anos: MASTER\n",
        "\n",
        "Link: https://www.youtube.com/watch?v=ZiC5NgSGJXU&t=1s"
      ]
    },
    {
      "cell_type": "code",
      "metadata": {
        "id": "8Lylf4Su-6aB"
      },
      "source": [
        "nasc = int(input('Em que ano o atleta nasceu? '))\n",
        "from datetime import datetime\n",
        "date = datetime.today()\n",
        "ano = date.year\n",
        "idade = ano - nasc\n",
        "print(f'O atleta tem {idade} anos. ')\n",
        "\n",
        "if idade <= 9:\n",
        "    print('CATEGORIA MIRIM')\n",
        "elif 9 < idade <= 14:\n",
        "    print('CATEGORIA INFANTIL')\n",
        "elif 14 < idade <= 19:\n",
        "    print('CATEGORIA JUNIOR')\n",
        "elif 19 < idade <= 20:\n",
        "    print('CATEGORIA SÊNIOR')\n",
        "else:\n",
        "    print('CATEGORIA MASTER')\n"
      ],
      "execution_count": null,
      "outputs": []
    }
  ]
}