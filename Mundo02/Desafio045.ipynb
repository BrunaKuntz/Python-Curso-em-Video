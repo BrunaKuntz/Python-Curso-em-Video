{
  "nbformat": 4,
  "nbformat_minor": 0,
  "metadata": {
    "colab": {
      "name": "DesafiosGuanabara.ipynb",
      "provenance": [],
      "collapsed_sections": [],
      "authorship_tag": "ABX9TyOg+r8Qyr9Yr2TGRBubQ5bH",
      "include_colab_link": true
    },
    "kernelspec": {
      "name": "python3",
      "display_name": "Python 3"
    },
    "language_info": {
      "name": "python"
    }
  },
  "cells": [
    {
      "cell_type": "markdown",
      "metadata": {
        "id": "view-in-github",
        "colab_type": "text"
      },
      "source": [
        "<a href=\"https://colab.research.google.com/github/BrunaKuntz/Python-Curso-em-Video/blob/main/Mundo02/Desafio045.ipynb\" target=\"_parent\"><img src=\"https://colab.research.google.com/assets/colab-badge.svg\" alt=\"Open In Colab\"/></a>"
      ]
    },
    {
      "cell_type": "markdown",
      "metadata": {
        "id": "xolHFjDi_Hj4"
      },
      "source": [
        "\n",
        "\n",
        "\n",
        "# **Desafio 045**\n",
        "**Python 3 - 2º Mundo**\n",
        "\n",
        "Descrição: Crie um programa que faça o computador jogar Jokenpô com você.\n",
        "\n",
        "Link: https://www.youtube.com/watch?v=tapTa6KVG-A&t=3s"
      ]
    },
    {
      "cell_type": "code",
      "metadata": {
        "id": "8Lylf4Su-6aB"
      },
      "source": [
        "import random\n",
        "\n",
        "user = str(input('Você quer pedra, papel ou tesoura? '))\n",
        "lista = ['pedra', 'papel', 'tesoura']\n",
        "\n",
        "from random import choice\n",
        "pc = choice(lista)\n",
        "\n",
        "print(f'O computador escolheu {pc}')\n",
        "\n",
        "if user == pc:\n",
        "    print('Empatou!')\n",
        "elif user == 'pedra' and pc == 'tesoura':\n",
        "    print('Você ganhou!')\n",
        "elif user == 'pedra' and pc == 'papel':\n",
        "    print('Você perdeu!')\n",
        "elif user == 'tesoura' and pc == 'pedra':\n",
        "    print('Você perdeu!')\n",
        "elif user == 'tesoura' and pc == 'papel':\n",
        "    print('Você ganhou!')\n",
        "elif user == 'papel' and pc == 'pedra':\n",
        "    print('Você ganhou!')\n",
        "elif user == 'papel' and pc == 'tesoura':\n",
        "    print('Você perdeu!')\n",
        "else:\n",
        "    print('Certeza que você digitou corretamente?')\n"
      ],
      "execution_count": null,
      "outputs": []
    }
  ]
}