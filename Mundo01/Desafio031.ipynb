{
  "nbformat": 4,
  "nbformat_minor": 0,
  "metadata": {
    "colab": {
      "name": "DesafiosGuanabara.ipynb",
      "provenance": [],
      "collapsed_sections": [],
      "authorship_tag": "ABX9TyMjOFvzgW4Ix/Jl3tpwwtjW",
      "include_colab_link": true
    },
    "kernelspec": {
      "name": "python3",
      "display_name": "Python 3"
    },
    "language_info": {
      "name": "python"
    }
  },
  "cells": [
    {
      "cell_type": "markdown",
      "metadata": {
        "id": "view-in-github",
        "colab_type": "text"
      },
      "source": [
        "<a href=\"https://colab.research.google.com/github/BrunaKuntz/Python-Curso-em-Video/blob/main/Mundo01/Desafio031.ipynb\" target=\"_parent\"><img src=\"https://colab.research.google.com/assets/colab-badge.svg\" alt=\"Open In Colab\"/></a>"
      ]
    },
    {
      "cell_type": "markdown",
      "metadata": {
        "id": "xolHFjDi_Hj4"
      },
      "source": [
        "\n",
        "\n",
        "\n",
        "# **Desafio 031**\n",
        "**Python 3 - 1º Mundo**\n",
        "\n",
        "Descrição: Desenvolva um programa que pergunte a distância de uma viagem em Km. Calcule o preço da passagem, cobrando R$0,50 por Km para viagens de até 200Km e R$0,45 parta viagens mais longas.\n",
        "\n",
        "Link: https://www.youtube.com/watch?v=PGqHyzWoagc&t=12s"
      ]
    },
    {
      "cell_type": "code",
      "metadata": {
        "id": "8Lylf4Su-6aB"
      },
      "source": [
        "km = int(input('Quantos km de viagem tem? '))\n",
        "if km <= 200:\n",
        "    v = (km * 0.5)\n",
        "    print(f'A passagem custa R${v:.2f}')\n",
        "else:\n",
        "    v = (km * 0.45)\n",
        "    print (f'A passagem custa R${v:.2f}')"
      ],
      "execution_count": null,
      "outputs": []
    }
  ]
}