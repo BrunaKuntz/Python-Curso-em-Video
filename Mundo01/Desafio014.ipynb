{
  "nbformat": 4,
  "nbformat_minor": 0,
  "metadata": {
    "colab": {
      "name": "DesafiosGuanabara.ipynb",
      "provenance": [],
      "collapsed_sections": [],
      "authorship_tag": "ABX9TyPKI8SZfgQL32vcIVcxUytD",
      "include_colab_link": true
    },
    "kernelspec": {
      "name": "python3",
      "display_name": "Python 3"
    },
    "language_info": {
      "name": "python"
    }
  },
  "cells": [
    {
      "cell_type": "markdown",
      "metadata": {
        "id": "view-in-github",
        "colab_type": "text"
      },
      "source": [
        "<a href=\"https://colab.research.google.com/github/BrunaKuntz/Python-Curso-em-Video/blob/main/Mundo01/Desafio014.ipynb\" target=\"_parent\"><img src=\"https://colab.research.google.com/assets/colab-badge.svg\" alt=\"Open In Colab\"/></a>"
      ]
    },
    {
      "cell_type": "markdown",
      "metadata": {
        "id": "xolHFjDi_Hj4"
      },
      "source": [
        "\n",
        "\n",
        "\n",
        "# **Desafio 014**\n",
        "**Python 3 - 1º Mundo**\n",
        "\n",
        "Descrição: Escreva um programa que converta uma temperatura digitando em graus Celsius e converta para graus Fahrenheit.\n",
        "\n",
        "\n",
        "Link: https://www.youtube.com/watch?v=9l_Gay8BuAw&list=TLPQMTMwNTIwMjH5tRDtoC1oig&index=15"
      ]
    },
    {
      "cell_type": "code",
      "metadata": {
        "id": "8Lylf4Su-6aB"
      },
      "source": [
        "c = float(input('Qual é a temperatura em °C: '))\n",
        "f = 1.8 * c + 32\n",
        "print(f'A temperatura {c}°C é igual a {f}°F')"
      ],
      "execution_count": null,
      "outputs": []
    }
  ]
}