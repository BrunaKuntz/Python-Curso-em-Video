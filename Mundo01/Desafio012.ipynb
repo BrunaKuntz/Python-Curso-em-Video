{
  "nbformat": 4,
  "nbformat_minor": 0,
  "metadata": {
    "colab": {
      "name": "DesafiosGuanabara.ipynb",
      "provenance": [],
      "collapsed_sections": [],
      "authorship_tag": "ABX9TyPt7CQHALSKAYLmMgByNXMq",
      "include_colab_link": true
    },
    "kernelspec": {
      "name": "python3",
      "display_name": "Python 3"
    },
    "language_info": {
      "name": "python"
    }
  },
  "cells": [
    {
      "cell_type": "markdown",
      "metadata": {
        "id": "view-in-github",
        "colab_type": "text"
      },
      "source": [
        "<a href=\"https://colab.research.google.com/github/BrunaKuntz/Python-Curso-em-Video/blob/main/Mundo01/Desafio012.ipynb\" target=\"_parent\"><img src=\"https://colab.research.google.com/assets/colab-badge.svg\" alt=\"Open In Colab\"/></a>"
      ]
    },
    {
      "cell_type": "markdown",
      "metadata": {
        "id": "xolHFjDi_Hj4"
      },
      "source": [
        "\n",
        "\n",
        "\n",
        "# **Desafio 012**\n",
        "**Python 3 - 1º Mundo**\n",
        "\n",
        "Descrição: Faça um algoritmo que leia o preço de um produto e mostre seu novo preço, com 5% de desconto.\n",
        "\n",
        "Link: https://www.youtube.com/watch?v=4MAmKOT9FeU"
      ]
    },
    {
      "cell_type": "code",
      "metadata": {
        "id": "8Lylf4Su-6aB"
      },
      "source": [
        "valor = float(input('Qual o valor original? R$ '))\n",
        "des = (valor*5)/100\n",
        "nvvalor = valor - des\n",
        "print(f'O novo valor será de R$ {nvvalor:.2f}.')"
      ],
      "execution_count": null,
      "outputs": []
    }
  ]
}