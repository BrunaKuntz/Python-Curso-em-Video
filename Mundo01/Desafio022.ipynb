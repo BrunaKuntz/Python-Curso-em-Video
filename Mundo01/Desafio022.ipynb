{
  "nbformat": 4,
  "nbformat_minor": 0,
  "metadata": {
    "colab": {
      "name": "DesafiosGuanabara.ipynb",
      "provenance": [],
      "collapsed_sections": [],
      "authorship_tag": "ABX9TyNWNFvERKX390tDrY5kN4r+",
      "include_colab_link": true
    },
    "kernelspec": {
      "name": "python3",
      "display_name": "Python 3"
    },
    "language_info": {
      "name": "python"
    }
  },
  "cells": [
    {
      "cell_type": "markdown",
      "metadata": {
        "id": "view-in-github",
        "colab_type": "text"
      },
      "source": [
        "<a href=\"https://colab.research.google.com/github/BrunaKuntz/Python-Curso-em-Video/blob/main/Mundo01/Desafio022.ipynb\" target=\"_parent\"><img src=\"https://colab.research.google.com/assets/colab-badge.svg\" alt=\"Open In Colab\"/></a>"
      ]
    },
    {
      "cell_type": "markdown",
      "metadata": {
        "id": "xolHFjDi_Hj4"
      },
      "source": [
        "\n",
        "\n",
        "\n",
        "# **Desafio 022**\n",
        "**Python 3 - 1º Mundo**\n",
        "\n",
        "Descrição: Crie um programa que leia o nome completo de uma pessoa e mostre: \n",
        "- O nome com todas as letras maiúsculas e minúsculas.\n",
        "- Quantas letras ao todo (sem considerar espaços).\n",
        "- Quantas letras tem o primeiro nome.\n",
        "\n",
        "\n",
        "Link: https://www.youtube.com/watch?v=EQQt-6QqXOs"
      ]
    },
    {
      "cell_type": "code",
      "metadata": {
        "id": "8Lylf4Su-6aB"
      },
      "source": [
        "nome = str(input('Digite o seu nome completo: '))\n",
        "frase = nome\n",
        "split = frase.split()\n",
        "primeironome = split[0]\n",
        "print('Seu nome em maiúsculas é ', frase.upper())\n",
        "print('Seu nome em minúsculas é ', frase.lower())\n",
        "print('Seu nome tem ao todo ', len(frase) - frase.count(' '), 'letras')\n",
        "print('Seu primeiro nome é ', primeironome, 'e ele tem ', len(primeironome), 'letras.')\n"
      ],
      "execution_count": null,
      "outputs": []
    }
  ]
}