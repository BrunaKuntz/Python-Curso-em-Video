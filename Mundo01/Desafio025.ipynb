{
  "nbformat": 4,
  "nbformat_minor": 0,
  "metadata": {
    "colab": {
      "name": "DesafiosGuanabara.ipynb",
      "provenance": [],
      "collapsed_sections": [],
      "authorship_tag": "ABX9TyOE2WZZUCBWPiMQW+REcv4V",
      "include_colab_link": true
    },
    "kernelspec": {
      "name": "python3",
      "display_name": "Python 3"
    },
    "language_info": {
      "name": "python"
    }
  },
  "cells": [
    {
      "cell_type": "markdown",
      "metadata": {
        "id": "view-in-github",
        "colab_type": "text"
      },
      "source": [
        "<a href=\"https://colab.research.google.com/github/BrunaKuntz/Python-Curso-em-Video/blob/main/Mundo01/Desafio025.ipynb\" target=\"_parent\"><img src=\"https://colab.research.google.com/assets/colab-badge.svg\" alt=\"Open In Colab\"/></a>"
      ]
    },
    {
      "cell_type": "markdown",
      "metadata": {
        "id": "xolHFjDi_Hj4"
      },
      "source": [
        "\n",
        "\n",
        "\n",
        "# **Desafio 025**\n",
        "**Python 3 - 1º Mundo**\n",
        "\n",
        "Descrição: Crie um programa que leia o nome de uma pessoa e diga se ela tem \"SILVA\" no nome.\n",
        "\n",
        "\n",
        "Link: https://www.youtube.com/watch?v=WHWGz2Dy1ZU&t=23s"
      ]
    },
    {
      "cell_type": "code",
      "metadata": {
        "id": "8Lylf4Su-6aB"
      },
      "source": [
        "nome = str(input('Qual é o seu nome completo? '))\n",
        "print('Tem Silva no nome: ', 'Silva' in nome)\n"
      ],
      "execution_count": null,
      "outputs": []
    }
  ]
}