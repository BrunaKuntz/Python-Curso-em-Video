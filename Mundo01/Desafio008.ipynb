{
  "nbformat": 4,
  "nbformat_minor": 0,
  "metadata": {
    "colab": {
      "name": "DesafiosGuanabara.ipynb",
      "provenance": [],
      "collapsed_sections": [],
      "authorship_tag": "ABX9TyMMpxrFXV4laCGCD38IO2EC",
      "include_colab_link": true
    },
    "kernelspec": {
      "name": "python3",
      "display_name": "Python 3"
    },
    "language_info": {
      "name": "python"
    }
  },
  "cells": [
    {
      "cell_type": "markdown",
      "metadata": {
        "id": "view-in-github",
        "colab_type": "text"
      },
      "source": [
        "<a href=\"https://colab.research.google.com/github/BrunaKuntz/Python-Curso-em-Video/blob/main/Mundo01/Desafio008.ipynb\" target=\"_parent\"><img src=\"https://colab.research.google.com/assets/colab-badge.svg\" alt=\"Open In Colab\"/></a>"
      ]
    },
    {
      "cell_type": "markdown",
      "metadata": {
        "id": "xolHFjDi_Hj4"
      },
      "source": [
        "\n",
        "\n",
        "\n",
        "# **Desafio 008**\n",
        "**Python 3 - 1º Mundo**\n",
        "\n",
        "Descrição: Escreva um programa que leia um valor em metros e o exiba convertido em centímetros e milímetros.\n",
        "\n",
        "Link: https://www.youtube.com/watch?v=KjcdG05EAZc&list=PLHz_AreHm4dm6wYOIW20Nyg12TAjmMGT-&index=9"
      ]
    },
    {
      "cell_type": "code",
      "metadata": {
        "id": "8Lylf4Su-6aB"
      },
      "source": [
        "m = float(input('Escreva o tamanho em metros: '))\n",
        "dam = m/10\n",
        "hm = dam/10\n",
        "km = hm/10\n",
        "dm = m*10\n",
        "cm = dm*10\n",
        "mm = cm*10\n",
        "print(f'O valor {m}m equivale a: ')\n",
        "print(f'{km}km')\n",
        "print(f'{hm}hm')\n",
        "print(f'{dam}dam')\n",
        "print(f'{dm}dm')\n",
        "print(f'{cm}cm')\n",
        "print(f'{mm}mm')\n",
        "\n"
      ],
      "execution_count": null,
      "outputs": []
    }
  ]
}