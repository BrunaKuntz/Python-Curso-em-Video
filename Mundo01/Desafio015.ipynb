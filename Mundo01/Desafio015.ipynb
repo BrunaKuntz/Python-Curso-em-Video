{
  "nbformat": 4,
  "nbformat_minor": 0,
  "metadata": {
    "colab": {
      "name": "DesafiosGuanabara.ipynb",
      "provenance": [],
      "collapsed_sections": [],
      "authorship_tag": "ABX9TyNiMmz5s6JZN++0d/h5cp5+",
      "include_colab_link": true
    },
    "kernelspec": {
      "name": "python3",
      "display_name": "Python 3"
    },
    "language_info": {
      "name": "python"
    }
  },
  "cells": [
    {
      "cell_type": "markdown",
      "metadata": {
        "id": "view-in-github",
        "colab_type": "text"
      },
      "source": [
        "<a href=\"https://colab.research.google.com/github/BrunaKuntz/Python-Curso-em-Video/blob/main/Mundo01/Desafio015.ipynb\" target=\"_parent\"><img src=\"https://colab.research.google.com/assets/colab-badge.svg\" alt=\"Open In Colab\"/></a>"
      ]
    },
    {
      "cell_type": "markdown",
      "metadata": {
        "id": "xolHFjDi_Hj4"
      },
      "source": [
        "\n",
        "\n",
        "\n",
        "# **Desafio 015**\n",
        "**Python 3 - 1º Mundo**\n",
        "\n",
        "Descrição: Escreva um programa que pergunte a quantidade de Km percorridos por um carro alugado e a quantidade de dias pelos quais ele foi alugado. Calcule o preço a pagar, sabendo que o carro custa R$60 por dia e R$0,15 por Km rodado.\n",
        "\n",
        "\n",
        "Link: https://www.youtube.com/watch?v=I4NYUeetLAc&list=TLPQMTMwNTIwMjH5tRDtoC1oig&index=16"
      ]
    },
    {
      "cell_type": "code",
      "metadata": {
        "id": "8Lylf4Su-6aB"
      },
      "source": [
        "km = float(input('Quantos km você rodou com o carro? '))\n",
        "d = int(input('Quantos dias você ficou com o carro? '))\n",
        "valor = (d*60) + (km * 0.15)\n",
        "print(f'Você terá que pagar R${valor:.2f}')"
      ],
      "execution_count": null,
      "outputs": []
    }
  ]
}