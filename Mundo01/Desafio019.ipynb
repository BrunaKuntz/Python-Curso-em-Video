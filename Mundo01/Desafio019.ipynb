{
  "nbformat": 4,
  "nbformat_minor": 0,
  "metadata": {
    "colab": {
      "name": "DesafiosGuanabara.ipynb",
      "provenance": [],
      "collapsed_sections": [],
      "authorship_tag": "ABX9TyOWy1Lr7WydBuxbs54Pqado",
      "include_colab_link": true
    },
    "kernelspec": {
      "name": "python3",
      "display_name": "Python 3"
    },
    "language_info": {
      "name": "python"
    }
  },
  "cells": [
    {
      "cell_type": "markdown",
      "metadata": {
        "id": "view-in-github",
        "colab_type": "text"
      },
      "source": [
        "<a href=\"https://colab.research.google.com/github/BrunaKuntz/Python-Curso-em-Video/blob/main/Mundo01/Desafio019.ipynb\" target=\"_parent\"><img src=\"https://colab.research.google.com/assets/colab-badge.svg\" alt=\"Open In Colab\"/></a>"
      ]
    },
    {
      "cell_type": "markdown",
      "metadata": {
        "id": "xolHFjDi_Hj4"
      },
      "source": [
        "\n",
        "\n",
        "\n",
        "# **Desafio 019**\n",
        "**Python 3 - 1º Mundo**\n",
        "\n",
        "Descrição: Um professor quer sortear um dos seus quatro alunos para apagar o quadro. Faça um programa que ajude ele, lendo o nome dos alunos e escrevendo na tela o nome do escolhido.\n",
        "\n",
        "\n",
        "Link: https://www.youtube.com/watch?v=_Nk02-mfB5I&list=TLPQMTMwNTIwMjH5tRDtoC1oig&index=20"
      ]
    },
    {
      "cell_type": "code",
      "metadata": {
        "id": "8Lylf4Su-6aB"
      },
      "source": [
        "import random\n",
        "nome1 = input('Qual o nome do aluno 1? ')\n",
        "nome2 = input('Aluno 2? ')\n",
        "nome3 = input('Aluno 3? ')\n",
        "nome4 = input('Aluno 4? ')\n",
        "\n",
        "alunos = [nome1, nome2, nome3, nome4]\n",
        "escolhido = random.choice(alunos)\n",
        "print(f'O aluno escolhido foi {escolhido}.')"
      ],
      "execution_count": null,
      "outputs": []
    }
  ]
}