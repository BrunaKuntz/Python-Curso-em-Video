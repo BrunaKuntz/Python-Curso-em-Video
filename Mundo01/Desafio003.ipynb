{
  "nbformat": 4,
  "nbformat_minor": 0,
  "metadata": {
    "colab": {
      "name": "DesafiosGuanabara.ipynb",
      "provenance": [],
      "collapsed_sections": [],
      "authorship_tag": "ABX9TyN7Yx2jXFgYS3t24JHACCod",
      "include_colab_link": true
    },
    "kernelspec": {
      "name": "python3",
      "display_name": "Python 3"
    },
    "language_info": {
      "name": "python"
    }
  },
  "cells": [
    {
      "cell_type": "markdown",
      "metadata": {
        "id": "view-in-github",
        "colab_type": "text"
      },
      "source": [
        "<a href=\"https://colab.research.google.com/github/BrunaKuntz/Python-Curso-em-Video/blob/main/Desafio003.ipynb\" target=\"_parent\"><img src=\"https://colab.research.google.com/assets/colab-badge.svg\" alt=\"Open In Colab\"/></a>"
      ]
    },
    {
      "cell_type": "markdown",
      "metadata": {
        "id": "xolHFjDi_Hj4"
      },
      "source": [
        "# **Desafio 003**\n",
        "**Python 3 - 1º Mundo**\n",
        "\n",
        "Descrição: Criar um programa que some 2 números dados pelo usuário.\n",
        "\n",
        "\n",
        "Link: https://www.youtube.com/watch?v=PB254Cfjlyk&list=PLHz_AreHm4dm6wYOIW20Nyg12TAjmMGT-&index=3"
      ]
    },
    {
      "cell_type": "code",
      "metadata": {
        "id": "8Lylf4Su-6aB"
      },
      "source": [
        "n1 = int(input('Digite o primeiro número: '))\n",
        "n2 = int(input('Digite o segundo número: '))\n",
        "s = n1 + n2\n",
        "print(f'A soma dos números é: {s}')"
      ],
      "execution_count": null,
      "outputs": []
    }
  ]
}
