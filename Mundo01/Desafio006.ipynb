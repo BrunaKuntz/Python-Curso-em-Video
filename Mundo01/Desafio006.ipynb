{
  "nbformat": 4,
  "nbformat_minor": 0,
  "metadata": {
    "colab": {
      "name": "DesafiosGuanabara.ipynb",
      "provenance": [],
      "collapsed_sections": [],
      "authorship_tag": "ABX9TyMpr22Ix+8cqSdx1mUBjeql",
      "include_colab_link": true
    },
    "kernelspec": {
      "name": "python3",
      "display_name": "Python 3"
    },
    "language_info": {
      "name": "python"
    }
  },
  "cells": [
    {
      "cell_type": "markdown",
      "metadata": {
        "id": "view-in-github",
        "colab_type": "text"
      },
      "source": [
        "<a href=\"https://colab.research.google.com/github/BrunaKuntz/Python-Curso-em-Video/blob/main/Mundo01/Desafio006.ipynb\" target=\"_parent\"><img src=\"https://colab.research.google.com/assets/colab-badge.svg\" alt=\"Open In Colab\"/></a>"
      ]
    },
    {
      "cell_type": "markdown",
      "metadata": {
        "id": "xolHFjDi_Hj4"
      },
      "source": [
        "\n",
        "\n",
        "\n",
        "# **Desafio 006**\n",
        "**Python 3 - 1º Mundo**\n",
        "\n",
        "Descrição: Criar um programa que leia um número e mostre seu dobro, triplo e raiz quadrada.\n",
        "\n",
        "Link: https://www.youtube.com/watch?v=mqcNw_dhl8I&list=PLHz_AreHm4dm6wYOIW20Nyg12TAjmMGT-&index=7"
      ]
    },
    {
      "cell_type": "code",
      "metadata": {
        "id": "8Lylf4Su-6aB",
        "colab": {
          "base_uri": "https://localhost:8080/"
        },
        "outputId": "df6c943c-5411-436a-e67f-20440c8e6b7c"
      },
      "source": [
        "n = int(input('Digite um número: '))\n",
        "print(f'Seu dobro é: {(n * 2)}')\n",
        "print(f'Seu triplo é: {(n * 3)}')\n",
        "print(f'Sua raiz quadrada é: {(n**(1/2)):.2f}')\n"
      ],
     
        }
      ]
    }
  ]
}
