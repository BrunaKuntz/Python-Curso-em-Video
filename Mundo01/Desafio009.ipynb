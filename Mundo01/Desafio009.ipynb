{
  "nbformat": 4,
  "nbformat_minor": 0,
  "metadata": {
    "colab": {
      "name": "DesafiosGuanabara.ipynb",
      "provenance": [],
      "collapsed_sections": [],
      "authorship_tag": "ABX9TyO6/SgeCZ0SEHLI6mdeuKIe",
      "include_colab_link": true
    },
    "kernelspec": {
      "name": "python3",
      "display_name": "Python 3"
    },
    "language_info": {
      "name": "python"
    }
  },
  "cells": [
    {
      "cell_type": "markdown",
      "metadata": {
        "id": "view-in-github",
        "colab_type": "text"
      },
      "source": [
        "<a href=\"https://colab.research.google.com/github/BrunaKuntz/Python-Curso-em-Video/blob/main/Mundo01/Desafio009.ipynb\" target=\"_parent\"><img src=\"https://colab.research.google.com/assets/colab-badge.svg\" alt=\"Open In Colab\"/></a>"
      ]
    },
    {
      "cell_type": "markdown",
      "metadata": {
        "id": "xolHFjDi_Hj4"
      },
      "source": [
        "\n",
        "\n",
        "\n",
        "# **Desafio 009**\n",
        "**Python 3 - 1º Mundo**\n",
        "\n",
        "Descrição: Faça um programa que leia um número Inteiro qualquer e mostre na tela a sua tabuada.\n",
        "\n",
        "Link: https://www.youtube.com/watch?v=qajq3SI0QQs&list=PLHz_AreHm4dm6wYOIW20Nyg12TAjmMGT-&index=10"
      ]
    },
    {
      "cell_type": "code",
      "metadata": {
        "id": "8Lylf4Su-6aB"
      },
      "source": [
        "n = int(input('Digite um número: '))\n",
        "print(n, ' x 1  = {}'.format(n*1))\n",
        "print(n, ' x 2  = {}'.format(n*2))\n",
        "print(n, ' x 3  = {}'. format(n*3))\n",
        "print(n, ' x 4  = {}'.format(n*4))\n",
        "print(n, ' x 5  = {}'.format(n*5))\n",
        "print(n, ' x 6  = {}'.format(n*6))\n",
        "print(n, ' x 7  = {}'.format(n*7))\n",
        "print(n, ' x 8  = {}'.format(n*8))\n",
        "print(n, ' x 9  = {}'.format(n*9))\n",
        "print(n, ' x 10 = {}'.format(n*10))\n",
        "\n",
        "\n"
      ],
      "execution_count": null,
      "outputs": []
    }
  ]
}