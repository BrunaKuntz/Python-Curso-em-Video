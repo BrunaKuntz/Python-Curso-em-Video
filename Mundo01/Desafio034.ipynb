{
  "nbformat": 4,
  "nbformat_minor": 0,
  "metadata": {
    "colab": {
      "name": "DesafiosGuanabara.ipynb",
      "provenance": [],
      "collapsed_sections": [],
      "authorship_tag": "ABX9TyO08YiNWrUpWa6lUMdQ9Bcd",
      "include_colab_link": true
    },
    "kernelspec": {
      "name": "python3",
      "display_name": "Python 3"
    },
    "language_info": {
      "name": "python"
    }
  },
  "cells": [
    {
      "cell_type": "markdown",
      "metadata": {
        "id": "view-in-github",
        "colab_type": "text"
      },
      "source": [
        "<a href=\"https://colab.research.google.com/github/BrunaKuntz/Python-Curso-em-Video/blob/main/Mundo01/Desafio034.ipynb\" target=\"_parent\"><img src=\"https://colab.research.google.com/assets/colab-badge.svg\" alt=\"Open In Colab\"/></a>"
      ]
    },
    {
      "cell_type": "markdown",
      "metadata": {
        "id": "xolHFjDi_Hj4"
      },
      "source": [
        "\n",
        "\n",
        "\n",
        "# **Desafio 034**\n",
        "**Python 3 - 1º Mundo**\n",
        "\n",
        "Descrição: Escreva um programa que pergunte o salário de um funcionário e calcule o valor do seu aumento. Para salários superiores a R$1250,00, calcule um aumento de 10%. Para os inferiores ou iguais, o aumento é de 15%.\n",
        "\n",
        "Link: https://www.youtube.com/watch?v=Sfadj_AzKHw"
      ]
    },
    {
      "cell_type": "code",
      "metadata": {
        "id": "8Lylf4Su-6aB"
      },
      "source": [
        "sal = float(input('Qual o seu salário? R$'))\n",
        "if sal > 1250:\n",
        "    print(f'Seu novo salário vai ser de {sal + (sal * 10 / 100):.2f}.')\n",
        "else:\n",
        "    print(f'Seu novo salário é de {sal + (sal * 15 / 100):.2f}')\n"
      ],
      "execution_count": null,
      "outputs": []
    }
  ]
}