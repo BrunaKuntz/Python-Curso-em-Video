{
  "nbformat": 4,
  "nbformat_minor": 0,
  "metadata": {
    "colab": {
      "name": "DesafiosGuanabara.ipynb",
      "provenance": [],
      "collapsed_sections": [],
      "authorship_tag": "ABX9TyPAGvnYTpClVVvLCS6Q3Q9d",
      "include_colab_link": true
    },
    "kernelspec": {
      "name": "python3",
      "display_name": "Python 3"
    },
    "language_info": {
      "name": "python"
    }
  },
  "cells": [
    {
      "cell_type": "markdown",
      "metadata": {
        "id": "view-in-github",
        "colab_type": "text"
      },
      "source": [
        "<a href=\"https://colab.research.google.com/github/BrunaKuntz/Python-Curso-em-Video/blob/main/Mundo01/Desafio020.ipynb\" target=\"_parent\"><img src=\"https://colab.research.google.com/assets/colab-badge.svg\" alt=\"Open In Colab\"/></a>"
      ]
    },
    {
      "cell_type": "markdown",
      "metadata": {
        "id": "xolHFjDi_Hj4"
      },
      "source": [
        "\n",
        "\n",
        "\n",
        "# **Desafio 020**\n",
        "**Python 3 - 1º Mundo**\n",
        "\n",
        "Descrição: O mesmo professor do desafio 019 quer sortear a ordem de apresentação de trabalhos dos alunos. Faça um programa que leia o nome dos quatro alunos e mostre a ordem sorteada.\n",
        "\n",
        "\n",
        "Link: https://www.youtube.com/watch?v=OPh0nngbBSY&list=TLPQMTMwNTIwMjH5tRDtoC1oig&index=20"
      ]
    },
    {
      "cell_type": "code",
      "metadata": {
        "id": "8Lylf4Su-6aB"
      },
      "source": [
        "import random\n",
        "nome1 = input('Qual o nome do aluno 1? ')\n",
        "nome2 = input('Aluno 2? ')\n",
        "nome3 = input('Aluno 3? ')\n",
        "nome4 = input('Aluno 4? ')\n",
        "\n",
        "alunos = [nome1, nome2, nome3, nome4]\n",
        "random.shuffle(alunos)\n",
        "print('Lista alunos: ')\n",
        "print('1°', alunos[0])\n",
        "print('2°', alunos[1])\n",
        "print('3°', alunos[2])\n",
        "print('4°', alunos[3])"
      ],
      "execution_count": null,
      "outputs": []
    }
  ]
}