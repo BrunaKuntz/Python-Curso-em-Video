{
  "nbformat": 4,
  "nbformat_minor": 0,
  "metadata": {
    "colab": {
      "name": "DesafiosGuanabara.ipynb",
      "provenance": [],
      "collapsed_sections": [],
      "authorship_tag": "ABX9TyNN3ABAVuqmSnNba1j3qyGM",
      "include_colab_link": true
    },
    "kernelspec": {
      "name": "python3",
      "display_name": "Python 3"
    },
    "language_info": {
      "name": "python"
    }
  },
  "cells": [
    {
      "cell_type": "markdown",
      "metadata": {
        "id": "view-in-github",
        "colab_type": "text"
      },
      "source": [
        "<a href=\"https://colab.research.google.com/github/BrunaKuntz/Python-Curso-em-Video/blob/main/Mundo01/Desafio032.ipynb\" target=\"_parent\"><img src=\"https://colab.research.google.com/assets/colab-badge.svg\" alt=\"Open In Colab\"/></a>"
      ]
    },
    {
      "cell_type": "markdown",
      "metadata": {
        "id": "xolHFjDi_Hj4"
      },
      "source": [
        "\n",
        "\n",
        "\n",
        "# **Desafio 032**\n",
        "**Python 3 - 1º Mundo**\n",
        "\n",
        "Descrição: Faça um programa que leia um ano qualquer e mostre se ele é bissexto.\n",
        "\n",
        "Link: https://www.youtube.com/watch?v=cyGY_83m4Xw"
      ]
    },
    {
      "cell_type": "code",
      "metadata": {
        "id": "8Lylf4Su-6aB"
      },
      "source": [
        "from datetime import date\n",
        "ano = int(input('Que ano você quer analisar? Para ver o ano atual digite 0: '))\n",
        "if ano == 0:\n",
        "    ano = date.today().year\n",
        "if (ano % 4 == 0 and ano % 100 != 0) or (ano % 400 == 0):\n",
        "    print (f'O ano {ano} é bissexto.')\n",
        "else:\n",
        "    print(f'O ano {ano} não é bissexto.')"
      ],
      "execution_count": null,
      "outputs": []
    }
  ]
}