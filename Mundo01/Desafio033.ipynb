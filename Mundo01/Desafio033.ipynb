{
  "nbformat": 4,
  "nbformat_minor": 0,
  "metadata": {
    "colab": {
      "name": "DesafiosGuanabara.ipynb",
      "provenance": [],
      "collapsed_sections": [],
      "authorship_tag": "ABX9TyOEuMKHmh3cIOMR4riqX0fq",
      "include_colab_link": true
    },
    "kernelspec": {
      "name": "python3",
      "display_name": "Python 3"
    },
    "language_info": {
      "name": "python"
    }
  },
  "cells": [
    {
      "cell_type": "markdown",
      "metadata": {
        "id": "view-in-github",
        "colab_type": "text"
      },
      "source": [
        "<a href=\"https://colab.research.google.com/github/BrunaKuntz/Python-Curso-em-Video/blob/main/Mundo01/Desafio033.ipynb\" target=\"_parent\"><img src=\"https://colab.research.google.com/assets/colab-badge.svg\" alt=\"Open In Colab\"/></a>"
      ]
    },
    {
      "cell_type": "markdown",
      "metadata": {
        "id": "xolHFjDi_Hj4"
      },
      "source": [
        "\n",
        "\n",
        "\n",
        "# **Desafio 033**\n",
        "**Python 3 - 1º Mundo**\n",
        "\n",
        "Descrição: Faça um programa que leia três números e mostre qual é o maior e qual é o menor.\n",
        "\n",
        "Link: https://www.youtube.com/watch?v=a_8FbW5oH6I"
      ]
    },
    {
      "cell_type": "code",
      "metadata": {
        "id": "8Lylf4Su-6aB"
      },
      "source": [
        "num1 = float(input('Digite o primeiro número: '))\n",
        "num2 = float(input('Digite o segundo número: '))\n",
        "num3 = float(input('Digite o terceiro número: '))\n",
        "if num1 > num2 and num1 > num3:\n",
        "    print(f'O maior número é o {num1:.0f}')\n",
        "if num2 > num1 and num2 > num3:\n",
        "    print(f'O maior número é o número {num2:.0f}')\n",
        "if num3 > num1 and num3 > num2:\n",
        "    print(f'O maior número e o {num3:.0f}')\n",
        "if num1 < num2 and num1 < num3:\n",
        "    print(f'O menor número é o {num1:.0f}')\n",
        "if num2 < num1 and num2 < num3:\n",
        "    print(f'O menor número é o número {num2:.0f}')\n",
        "if num3 < num1 and num3 < num2:\n",
        "    print(f'O menor número e o {num3:.0f}')"
      ],
      "execution_count": null,
      "outputs": []
    }
  ]
}