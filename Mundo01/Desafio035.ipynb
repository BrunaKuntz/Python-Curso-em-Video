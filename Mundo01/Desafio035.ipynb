{
  "nbformat": 4,
  "nbformat_minor": 0,
  "metadata": {
    "colab": {
      "name": "DesafiosGuanabara.ipynb",
      "provenance": [],
      "collapsed_sections": [],
      "authorship_tag": "ABX9TyO/Lns4Y/L2dhKY0NJZ7In5",
      "include_colab_link": true
    },
    "kernelspec": {
      "name": "python3",
      "display_name": "Python 3"
    },
    "language_info": {
      "name": "python"
    }
  },
  "cells": [
    {
      "cell_type": "markdown",
      "metadata": {
        "id": "view-in-github",
        "colab_type": "text"
      },
      "source": [
        "<a href=\"https://colab.research.google.com/github/BrunaKuntz/Python-Curso-em-Video/blob/main/Mundo01/Desafio035.ipynb\" target=\"_parent\"><img src=\"https://colab.research.google.com/assets/colab-badge.svg\" alt=\"Open In Colab\"/></a>"
      ]
    },
    {
      "cell_type": "markdown",
      "metadata": {
        "id": "xolHFjDi_Hj4"
      },
      "source": [
        "\n",
        "\n",
        "\n",
        "# **Desafio 035**\n",
        "**Python 3 - 1º Mundo**\n",
        "\n",
        "Descrição: Desenvolva um programa que leia o comprimento de três retas e diga ao usuário se elas podem ou não formar um triângulo.\n",
        "\n",
        "Link: https://www.youtube.com/watch?v=NZiNphKkxhg&t=6s"
      ]
    },
    {
      "cell_type": "code",
      "metadata": {
        "id": "8Lylf4Su-6aB"
      },
      "source": [
        "reta1 = float(input('Reta 1: '))\n",
        "reta2 = float(input('Reta 2: '))\n",
        "reta3 = float(input('Reta 3: '))\n",
        "if (reta1 + reta2 > reta3) and (reta2 + reta3 > reta1) and (reta3 + reta1 > reta2):\n",
        "    print('As retas formam um triângulo.')\n",
        "else:\n",
        "    print('As retas não formam um triângulo.')"
      ],
      "execution_count": null,
      "outputs": []
    }
  ]
}