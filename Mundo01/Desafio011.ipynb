{
  "nbformat": 4,
  "nbformat_minor": 0,
  "metadata": {
    "colab": {
      "name": "DesafiosGuanabara.ipynb",
      "provenance": [],
      "collapsed_sections": [],
      "authorship_tag": "ABX9TyN+IWrdQ6kbNAIn3z5t7yAb",
      "include_colab_link": true
    },
    "kernelspec": {
      "name": "python3",
      "display_name": "Python 3"
    },
    "language_info": {
      "name": "python"
    }
  },
  "cells": [
    {
      "cell_type": "markdown",
      "metadata": {
        "id": "view-in-github",
        "colab_type": "text"
      },
      "source": [
        "<a href=\"https://colab.research.google.com/github/BrunaKuntz/Python-Curso-em-Video/blob/main/Mundo01/Desafio011.ipynb\" target=\"_parent\"><img src=\"https://colab.research.google.com/assets/colab-badge.svg\" alt=\"Open In Colab\"/></a>"
      ]
    },
    {
      "cell_type": "markdown",
      "metadata": {
        "id": "xolHFjDi_Hj4"
      },
      "source": [
        "\n",
        "\n",
        "\n",
        "# **Desafio 011**\n",
        "**Python 3 - 1º Mundo**\n",
        "\n",
        "Descrição: Faça um programa que leia a largura e a altura de uma parede em metros, calcule a sua área e a quantidade de tinta necessária para pintá-la, sabendo que cada litro de tinta pinta uma área de 2 metros quadrados.\n",
        "\n",
        "Link: https://www.youtube.com/watch?v=mzSJpn9ldt4&list=PLHz_AreHm4dm6wYOIW20Nyg12TAjmMGT-&index=12"
      ]
    },
    {
      "cell_type": "code",
      "metadata": {
        "id": "8Lylf4Su-6aB"
      },
      "source": [
        "altura = float(input('Qual a altura da sua parede? '))\n",
        "largura = float(input('Qual a largura da sua parede? '))\n",
        "area = altura*largura\n",
        "litros = area/2\n",
        "print(f'Para pintar uma área de {area}m² e você vai precisar de {litros} litros de tinta.')\n"
      ],
      "execution_count": null,
      "outputs": []
    }
  ]
}