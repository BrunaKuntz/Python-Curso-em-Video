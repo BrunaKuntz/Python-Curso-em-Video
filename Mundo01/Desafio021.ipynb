{
  "nbformat": 4,
  "nbformat_minor": 0,
  "metadata": {
    "colab": {
      "name": "DesafiosGuanabara.ipynb",
      "provenance": [],
      "collapsed_sections": [],
      "authorship_tag": "ABX9TyP2lCaLCmqUQCzR4RvV10Kc",
      "include_colab_link": true
    },
    "kernelspec": {
      "name": "python3",
      "display_name": "Python 3"
    },
    "language_info": {
      "name": "python"
    }
  },
  "cells": [
    {
      "cell_type": "markdown",
      "metadata": {
        "id": "view-in-github",
        "colab_type": "text"
      },
      "source": [
        "<a href=\"https://colab.research.google.com/github/BrunaKuntz/Python-Curso-em-Video/blob/main/Mundo01/Desafio021.ipynb\" target=\"_parent\"><img src=\"https://colab.research.google.com/assets/colab-badge.svg\" alt=\"Open In Colab\"/></a>"
      ]
    },
    {
      "cell_type": "markdown",
      "metadata": {
        "id": "xolHFjDi_Hj4"
      },
      "source": [
        "\n",
        "\n",
        "\n",
        "# **Desafio 021**\n",
        "**Python 3 - 1º Mundo**\n",
        "\n",
        "Descrição: Faça um programa em Python que abra e reproduza o áudio de um arquivo MP3.\n",
        "\n",
        "\n",
        "Link: https://www.youtube.com/watch?v=9FiEji_fzvk&list=TLPQMTMwNTIwMjH5tRDtoC1oig&index=22"
      ]
    },
    {
      "cell_type": "code",
      "metadata": {
        "id": "8Lylf4Su-6aB"
      },
      "source": [
        "import pygame\n",
        "pygame.mixer.init()\n",
        "pygame.mixer.music.load('funk.mp3')\n",
        "pygame.mixer.music.play()\n",
        "while(pygame.mixer.music.get_busy()): pass"
      ],
      "execution_count": null,
      "outputs": []
    }
  ]
}