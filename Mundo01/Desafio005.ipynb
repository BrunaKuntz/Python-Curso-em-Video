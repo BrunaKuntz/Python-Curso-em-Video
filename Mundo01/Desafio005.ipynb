{
  "nbformat": 4,
  "nbformat_minor": 0,
  "metadata": {
    "colab": {
      "name": "DesafiosGuanabara.ipynb",
      "provenance": [],
      "collapsed_sections": [],
      "authorship_tag": "ABX9TyOWPXO8C1k36WvuYnyJBekF",
      "include_colab_link": true
    },
    "kernelspec": {
      "name": "python3",
      "display_name": "Python 3"
    },
    "language_info": {
      "name": "python"
    }
  },
  "cells": [
    {
      "cell_type": "markdown",
      "metadata": {
        "id": "view-in-github",
        "colab_type": "text"
      },
      "source": [
        "<a href=\"https://colab.research.google.com/github/BrunaKuntz/Python-Curso-em-Video/blob/main/Desafio005.ipynb\" target=\"_parent\"><img src=\"https://colab.research.google.com/assets/colab-badge.svg\" alt=\"Open In Colab\"/></a>"
      ]
    },
    {
      "cell_type": "markdown",
      "metadata": {
        "id": "xolHFjDi_Hj4"
      },
      "source": [
        "\n",
        "\n",
        "\n",
        "# **Desafio 005**\n",
        "**Python 3 - 1º Mundo**\n",
        "\n",
        "Descrição: Criar um programa que leia um número e mostre seu antecessor e sucessor.\n",
        "\n",
        "\n",
        "Link: https://www.youtube.com/watch?v=664e0G_S9nU&list=PLHz_AreHm4dm6wYOIW20Nyg12TAjmMGT-&index=5"
      ]
    },
    {
      "cell_type": "code",
      "metadata": {
        "id": "8Lylf4Su-6aB"
      },
      "source": [
        "n = int(input('Digite um número: '))\n",
        "print(f'Seu antecessor é: {(n-1)}')\n",
        "print(f'Seu sucessor é: {(n+1)}')\n"
      ],
      "execution_count": null,
      "outputs": []
    }
  ]
}
