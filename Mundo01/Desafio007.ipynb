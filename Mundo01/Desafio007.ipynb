{
  "nbformat": 4,
  "nbformat_minor": 0,
  "metadata": {
    "colab": {
      "name": "DesafiosGuanabara.ipynb",
      "provenance": [],
      "collapsed_sections": [],
      "authorship_tag": "ABX9TyPshdPoRNXBs0HOdOzGmFmd",
      "include_colab_link": true
    },
    "kernelspec": {
      "name": "python3",
      "display_name": "Python 3"
    },
    "language_info": {
      "name": "python"
    }
  },
  "cells": [
    {
      "cell_type": "markdown",
      "metadata": {
        "id": "view-in-github",
        "colab_type": "text"
      },
      "source": [
        "<a href=\"https://colab.research.google.com/github/BrunaKuntz/Python-Curso-em-Video/blob/main/Mundo01/Desafio007.ipynb\" target=\"_parent\"><img src=\"https://colab.research.google.com/assets/colab-badge.svg\" alt=\"Open In Colab\"/></a>"
      ]
    },
    {
      "cell_type": "markdown",
      "metadata": {
        "id": "xolHFjDi_Hj4"
      },
      "source": [
        "\n",
        "\n",
        "\n",
        "# **Desafio 007**\n",
        "**Python 3 - 1º Mundo**\n",
        "\n",
        "Descrição: Criar um programa que leia as duas notas de um aluno, calcule e mostre a sua média.\n",
        "\n",
        "Link: https://www.youtube.com/watch?v=_QfISzy0IKs&list=PLHz_AreHm4dm6wYOIW20Nyg12TAjmMGT-&index=8"
      ]
    },
    {
      "cell_type": "code",
      "metadata": {
        "id": "8Lylf4Su-6aB"
      },
      "source": [
        "nome = input('Escreva o nome do aluno: ')\n",
        "n1 = float(input('Nota 1: '))\n",
        "n2 = float(input('Nota 2: '))\n",
        "print(f'A média do aluno {nome} é de {((n1+n2)/2)}.')\n"
      ],
      "execution_count": null,
      "outputs": []
    }
  ]
}