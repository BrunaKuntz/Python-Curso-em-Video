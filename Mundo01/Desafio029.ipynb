{
  "nbformat": 4,
  "nbformat_minor": 0,
  "metadata": {
    "colab": {
      "name": "DesafiosGuanabara.ipynb",
      "provenance": [],
      "collapsed_sections": [],
      "authorship_tag": "ABX9TyOq54uI1+UThu0ruUR/NW+p",
      "include_colab_link": true
    },
    "kernelspec": {
      "name": "python3",
      "display_name": "Python 3"
    },
    "language_info": {
      "name": "python"
    }
  },
  "cells": [
    {
      "cell_type": "markdown",
      "metadata": {
        "id": "view-in-github",
        "colab_type": "text"
      },
      "source": [
        "<a href=\"https://colab.research.google.com/github/BrunaKuntz/Python-Curso-em-Video/blob/main/Mundo01/Desafio029.ipynb\" target=\"_parent\"><img src=\"https://colab.research.google.com/assets/colab-badge.svg\" alt=\"Open In Colab\"/></a>"
      ]
    },
    {
      "cell_type": "markdown",
      "metadata": {
        "id": "xolHFjDi_Hj4"
      },
      "source": [
        "\n",
        "\n",
        "\n",
        "# **Desafio 029**\n",
        "**Python 3 - 1º Mundo**\n",
        "\n",
        "Descrição: Escreva um programa que leia a velocidade de um carro. Se ele ultrapassar 80Km/h, mostre uma mensagem dizendo que ele foi multado. A multa vai custar R$7,00 por cada Km acima do limite.\n",
        "\n",
        "Link: https://www.youtube.com/watch?v=hgJ_ETNGSj8&t=17s"
      ]
    },
    {
      "cell_type": "code",
      "metadata": {
        "id": "8Lylf4Su-6aB"
      },
      "source": [
        "v = float(input('Qual é a velocidade do carro? '))\n",
        "multa = (v - 80) * 7\n",
        "if v > 80:\n",
        "    print('Você foi multado.')\n",
        "    print(f'O valor da sua multa é de R${multa:.0f},00. ')\n",
        "else:\n",
        "    print('Você está dentro da velocidade exigida.')"
      ],
      "execution_count": null,
      "outputs": []
    }
  ]
}