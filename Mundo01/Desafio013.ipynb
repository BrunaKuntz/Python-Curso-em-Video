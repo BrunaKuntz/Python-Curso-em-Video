{
  "nbformat": 4,
  "nbformat_minor": 0,
  "metadata": {
    "colab": {
      "name": "DesafiosGuanabara.ipynb",
      "provenance": [],
      "collapsed_sections": [],
      "authorship_tag": "ABX9TyOTZ4ALUu19YxNKoyp+h6qp",
      "include_colab_link": true
    },
    "kernelspec": {
      "name": "python3",
      "display_name": "Python 3"
    },
    "language_info": {
      "name": "python"
    }
  },
  "cells": [
    {
      "cell_type": "markdown",
      "metadata": {
        "id": "view-in-github",
        "colab_type": "text"
      },
      "source": [
        "<a href=\"https://colab.research.google.com/github/BrunaKuntz/Python-Curso-em-Video/blob/main/Mundo01/Desafio013.ipynb\" target=\"_parent\"><img src=\"https://colab.research.google.com/assets/colab-badge.svg\" alt=\"Open In Colab\"/></a>"
      ]
    },
    {
      "cell_type": "markdown",
      "metadata": {
        "id": "xolHFjDi_Hj4"
      },
      "source": [
        "\n",
        "\n",
        "\n",
        "# **Desafio 013**\n",
        "**Python 3 - 1º Mundo**\n",
        "\n",
        "Descrição: Faça um algoritmo que leia o salário de um funcionário e mostre seu novo salário, com 15% de aumento.\n",
        "\n",
        "Link: https://www.youtube.com/watch?v=cTkivN8XcJ0&list=TLPQMTMwNTIwMjH5tRDtoC1oig&index=14"
      ]
    },
    {
      "cell_type": "code",
      "metadata": {
        "id": "8Lylf4Su-6aB"
      },
      "source": [
        "si = float(input('Qual o seu salário? R$'))\n",
        "aum = (si*15)/100\n",
        "sa = si + aum\n",
        "print(f'Seu novo salário é de R${sa:.2f}.')"
      ],
      "execution_count": null,
      "outputs": []
    }
  ]
}