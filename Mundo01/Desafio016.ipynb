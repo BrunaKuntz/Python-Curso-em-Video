{
  "nbformat": 4,
  "nbformat_minor": 0,
  "metadata": {
    "colab": {
      "name": "DesafiosGuanabara.ipynb",
      "provenance": [],
      "collapsed_sections": [],
      "authorship_tag": "ABX9TyOmaNay7BM5CYvagx4dPeGa",
      "include_colab_link": true
    },
    "kernelspec": {
      "name": "python3",
      "display_name": "Python 3"
    },
    "language_info": {
      "name": "python"
    }
  },
  "cells": [
    {
      "cell_type": "markdown",
      "metadata": {
        "id": "view-in-github",
        "colab_type": "text"
      },
      "source": [
        "<a href=\"https://colab.research.google.com/github/BrunaKuntz/Python-Curso-em-Video/blob/main/Mundo01/Desafio016.ipynb\" target=\"_parent\"><img src=\"https://colab.research.google.com/assets/colab-badge.svg\" alt=\"Open In Colab\"/></a>"
      ]
    },
    {
      "cell_type": "markdown",
      "metadata": {
        "id": "xolHFjDi_Hj4"
      },
      "source": [
        "\n",
        "\n",
        "\n",
        "# **Desafio 016*\n",
        "**Python 3 - 1º Mundo**\n",
        "\n",
        "Descrição: Crie um programa que leia um número Real qualquer pelo teclado e mostre na tela a sua porção Inteira.\n",
        "\n",
        "\n",
        "Link: https://www.youtube.com/watch?v=-iSbDpl5Jhw&list=TLPQMTMwNTIwMjH5tRDtoC1oig&index=17"
      ]
    },
    {
      "cell_type": "code",
      "metadata": {
        "id": "8Lylf4Su-6aB"
      },
      "source": [
        "from math import trunc\n",
        "num = float(input('Digite um número: '))\n",
        "print(f'A parte inteira de {num} é {trunc(num)}')"
      ],
      "execution_count": null,
      "outputs": []
    }
  ]
}