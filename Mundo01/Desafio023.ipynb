{
  "nbformat": 4,
  "nbformat_minor": 0,
  "metadata": {
    "colab": {
      "name": "DesafiosGuanabara.ipynb",
      "provenance": [],
      "collapsed_sections": [],
      "authorship_tag": "ABX9TyP+gGfLH3zMiRHLaEwd3+Zt",
      "include_colab_link": true
    },
    "kernelspec": {
      "name": "python3",
      "display_name": "Python 3"
    },
    "language_info": {
      "name": "python"
    }
  },
  "cells": [
    {
      "cell_type": "markdown",
      "metadata": {
        "id": "view-in-github",
        "colab_type": "text"
      },
      "source": [
        "<a href=\"https://colab.research.google.com/github/BrunaKuntz/Python-Curso-em-Video/blob/main/Mundo01/Desafio023.ipynb\" target=\"_parent\"><img src=\"https://colab.research.google.com/assets/colab-badge.svg\" alt=\"Open In Colab\"/></a>"
      ]
    },
    {
      "cell_type": "markdown",
      "metadata": {
        "id": "xolHFjDi_Hj4"
      },
      "source": [
        "\n",
        "\n",
        "\n",
        "# **Desafio 023**\n",
        "**Python 3 - 1º Mundo**\n",
        "\n",
        "Descrição: Faça um programa que leia um número de 0 a 9999 e mostre na tela cada um dos dígitos separados.\n",
        "\n",
        "\n",
        "Link: https://www.youtube.com/watch?v=wD2aerLMBWA&t=12s"
      ]
    },
    {
      "cell_type": "code",
      "metadata": {
        "id": "8Lylf4Su-6aB"
      },
      "source": [
        "num = int(input('Digite um número de 0 a 9999: '))\n",
        "u = num // 1 % 10\n",
        "d = num // 10 % 10\n",
        "c = num // 100 % 10\n",
        "m = num // 1000 % 10\n",
        "print(f'Analisando o número {num}')\n",
        "print('-------------------------')\n",
        "print(f'unidade: {u}')\n",
        "print(f' dezena: {d}')\n",
        "print(f'centena: {c}')\n",
        "print(f' milhar: {m}')\n",
        "\n"
      ],
      "execution_count": null,
      "outputs": []
    },
    {
      "cell_type": "code",
      "metadata": {
        "id": "I2bf69hnMLVa"
      },
      "source": [
        "error -------------------------------------------------------------------------\n",
        "# num = str(input('Digite um número de 0 a 9999: '))\n",
        "# print('unidade: ', num[3])\n",
        "# print('dezena:  ', num[2])\n",
        "# print('centena: ', num[1])\n",
        "# print('milhar:  ', num[0])"
      ],
      "execution_count": null,
      "outputs": []
    }
  ]
}