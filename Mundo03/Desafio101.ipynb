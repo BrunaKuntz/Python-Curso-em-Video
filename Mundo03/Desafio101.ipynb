{
  "nbformat": 4,
  "nbformat_minor": 0,
  "metadata": {
    "colab": {
      "name": "DesafiosGuanabara.ipynb",
      "provenance": [],
      "collapsed_sections": [],
      "authorship_tag": "ABX9TyPMag+oZ8j4cG9rvzoEWWAu",
      "include_colab_link": true
    },
    "kernelspec": {
      "name": "python3",
      "display_name": "Python 3"
    },
    "language_info": {
      "name": "python"
    }
  },
  "cells": [
    {
      "cell_type": "markdown",
      "metadata": {
        "id": "view-in-github",
        "colab_type": "text"
      },
      "source": [
        "<a href=\"https://colab.research.google.com/github/BrunaKuntz/Python-Curso-em-Video/blob/main/Mundo03/Desafio101.ipynb\" target=\"_parent\"><img src=\"https://colab.research.google.com/assets/colab-badge.svg\" alt=\"Open In Colab\"/></a>"
      ]
    },
    {
      "cell_type": "markdown",
      "metadata": {
        "id": "xolHFjDi_Hj4"
      },
      "source": [
        "\n",
        "# **Desafio 101**\n",
        "**Python 3 - 3º Mundo**\n",
        "\n",
        "Descrição: Crie um programa que tenha uma função chamada voto() que vai receber como parâmetro o ano de nascimento de uma pessoa, retornando um valor literal indicando se uma pessoa tem voto NEGADO, OPCIONAL e OBRIGATÓRIO nas eleições.\n",
        "\n",
        "Link: https://www.youtube.com/watch?v=czDcimdc3GU&t=67s"
      ]
    },
    {
      "cell_type": "code",
      "metadata": {
        "id": "8Lylf4Su-6aB"
      },
      "source": [
        "from datetime import datetime\n",
        "\n",
        "\n",
        "def voto(ano):\n",
        "    anohoje = int(datetime.now().strftime(\"%Y\"))\n",
        "    idade = anohoje - ano\n",
        "    if idade < 16:\n",
        "        return f'Com {anohoje - ano} anos: VOTO NEGADO'\n",
        "    elif 16 <= idade < 18:\n",
        "        return f'Com {anohoje - ano} anos: VOTO OPCIONAL'\n",
        "    elif 18 <= idade < 65:\n",
        "        return f'Com {anohoje - ano} anos: VOTO OBRIGATÓRIO'\n",
        "    else:\n",
        "        return f'Com {anohoje - ano} anos: VOTO OPCIONAL'\n",
        "\n",
        "\n",
        "# Programa principal\n",
        "print(voto(1999))\n"
      ],
      "execution_count": null,
      "outputs": []
    }
  ]
}