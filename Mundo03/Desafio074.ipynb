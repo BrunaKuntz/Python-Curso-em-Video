{
  "nbformat": 4,
  "nbformat_minor": 0,
  "metadata": {
    "colab": {
      "name": "DesafiosGuanabara.ipynb",
      "provenance": [],
      "collapsed_sections": [],
      "authorship_tag": "ABX9TyMDzsLCrRSNUEu6SQVKfhEf",
      "include_colab_link": true
    },
    "kernelspec": {
      "name": "python3",
      "display_name": "Python 3"
    },
    "language_info": {
      "name": "python"
    }
  },
  "cells": [
    {
      "cell_type": "markdown",
      "metadata": {
        "id": "view-in-github",
        "colab_type": "text"
      },
      "source": [
        "<a href=\"https://colab.research.google.com/github/BrunaKuntz/Python-Curso-em-Video/blob/main/Mundo03/Desafio074.ipynb\" target=\"_parent\"><img src=\"https://colab.research.google.com/assets/colab-badge.svg\" alt=\"Open In Colab\"/></a>"
      ]
    },
    {
      "cell_type": "markdown",
      "metadata": {
        "id": "xolHFjDi_Hj4"
      },
      "source": [
        "\n",
        "# **Desafio 074**\n",
        "**Python 3 - 3º Mundo**\n",
        "\n",
        "Descrição: Crie um programa que vai gerar cinco números aleatórios e colocar em uma tupla. Depois disso, mostre a listagem de números gerados e também indique o menor e o maior valor que estão na tupla.\n",
        "\n",
        "Link: https://www.youtube.com/watch?v=mlwt2CRQkTQ&t=13s"
      ]
    },
    {
      "cell_type": "code",
      "metadata": {
        "id": "8Lylf4Su-6aB"
      },
      "source": [
        "from random import randint\n",
        "n1 = randint(1, 10)\n",
        "n2 = randint(1, 10)\n",
        "n3 = randint(1, 10)\n",
        "n4 = randint(1, 10)\n",
        "n5 = randint(1, 10)\n",
        "sorteados = (n1, n2, n3, n4, n5)\n",
        "maior = 0\n",
        "menor = 11\n",
        "for c in sorteados:\n",
        "    if c > maior:\n",
        "        maior = c\n",
        "    elif c < menor:\n",
        "        menor = c\n",
        "print(f'Valores sorteados: {sorteados}')\n",
        "print(f'O maior valor sorteado foi {maior}')\n",
        "print(f'O menor valor sorteado foi {menor}')\n"
      ],
      "execution_count": null,
      "outputs": []
    }
  ]
}