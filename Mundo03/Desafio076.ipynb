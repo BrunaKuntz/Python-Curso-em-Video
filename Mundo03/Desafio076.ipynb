{
  "nbformat": 4,
  "nbformat_minor": 0,
  "metadata": {
    "colab": {
      "name": "DesafiosGuanabara.ipynb",
      "provenance": [],
      "collapsed_sections": [],
      "authorship_tag": "ABX9TyM+2NVkbFKg/0edQ5XeTJe/",
      "include_colab_link": true
    },
    "kernelspec": {
      "name": "python3",
      "display_name": "Python 3"
    },
    "language_info": {
      "name": "python"
    }
  },
  "cells": [
    {
      "cell_type": "markdown",
      "metadata": {
        "id": "view-in-github",
        "colab_type": "text"
      },
      "source": [
        "<a href=\"https://colab.research.google.com/github/BrunaKuntz/Python-Curso-em-Video/blob/main/Mundo03/Desafio076.ipynb\" target=\"_parent\"><img src=\"https://colab.research.google.com/assets/colab-badge.svg\" alt=\"Open In Colab\"/></a>"
      ]
    },
    {
      "cell_type": "markdown",
      "metadata": {
        "id": "xolHFjDi_Hj4"
      },
      "source": [
        "\n",
        "# **Desafio 076**\n",
        "**Python 3 - 3º Mundo**\n",
        "\n",
        "Descrição: Crie um programa que tenha uma tupla única com nomes de produtos e seus respectivos preços, na sequência. No final, mostre uma listagem de preços, organizando os dados em forma tabular.\n",
        "\n",
        "Link: https://www.youtube.com/watch?v=Qp2cXfCHk2I&t=34s"
      ]
    },
    {
      "cell_type": "code",
      "metadata": {
        "id": "8Lylf4Su-6aB"
      },
      "source": [
        "tupla = ('Lápis', 1.75, 'Borracha', 2,  'Caderno', 15.9, 'Estojo', 25, 'Transferidor', 4.2, 'Compasso', 9.99, 'Mochila', 120.32, 'Canetas', 22.3, 'Livro', 34.9)\n",
        "print(\"-\" * 40)\n",
        "print('LISTAGEM DE PREÇO')\n",
        "print(\"-\" * 40)\n",
        "for c in range(0, len(tupla), 2):\n",
        "    print(tupla[c], \".\" * (30 - len(tupla[c])), \"R$\", f'{f\"{tupla[c + 1]:.2f}\":>6}')\n",
        "print(\"-\" * 40)\n"
      ],
      "execution_count": null,
      "outputs": []
    }
  ]
}