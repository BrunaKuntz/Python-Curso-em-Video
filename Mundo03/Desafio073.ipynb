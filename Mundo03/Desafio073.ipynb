{
  "nbformat": 4,
  "nbformat_minor": 0,
  "metadata": {
    "colab": {
      "name": "DesafiosGuanabara.ipynb",
      "provenance": [],
      "collapsed_sections": [],
      "authorship_tag": "ABX9TyP39qzn5N1buA4uMs8p7bf4",
      "include_colab_link": true
    },
    "kernelspec": {
      "name": "python3",
      "display_name": "Python 3"
    },
    "language_info": {
      "name": "python"
    }
  },
  "cells": [
    {
      "cell_type": "markdown",
      "metadata": {
        "id": "view-in-github",
        "colab_type": "text"
      },
      "source": [
        "<a href=\"https://colab.research.google.com/github/BrunaKuntz/Python-Curso-em-Video/blob/main/Mundo03/Desafio073.ipynb\" target=\"_parent\"><img src=\"https://colab.research.google.com/assets/colab-badge.svg\" alt=\"Open In Colab\"/></a>"
      ]
    },
    {
      "cell_type": "markdown",
      "metadata": {
        "id": "xolHFjDi_Hj4"
      },
      "source": [
        "\n",
        "# **Desafio 073**\n",
        "**Python 3 - 3º Mundo**\n",
        "\n",
        "Descrição: Crie uma tupla preenchida com os 20 primeiros colocados da Tabela do Campeonato Brasileiro de Futebol, na ordem de colocação. Depois mostre:\n",
        "a) Os 5 primeiros times.\n",
        "b) Os últimos 4 colocados.\n",
        "c) Times em ordem alfabética. \n",
        "d) Em que posição está o time da Chapecoense.\n",
        "\n",
        "Link: https://www.youtube.com/watch?v=RexybLcGewA&t=3s"
      ]
    },
    {
      "cell_type": "code",
      "metadata": {
        "id": "8Lylf4Su-6aB"
      },
      "source": [
        "brasileirao = ('Fortaleza', 'Athletico-PR', 'Atlético-GO', 'Bragantino', 'Bahia', 'Fluminense', 'Palmeiras', 'Flamengo', 'Atlético-MG', 'Corinthians', 'Ceará SC', 'Santos', 'Cuiabá', 'Sport Recife', 'São Paulo', 'Juventude', 'Internacional', 'Grêmio', 'América-MG', 'Chapecoense')\n",
        "\n",
        "print(\"=\"*30)\n",
        "print(f'Os 5 primeiros da lista são: {brasileirao[0: 5]}')\n",
        "print(\"=\"*30)\n",
        "print(f'Os 4 últimos são: {brasileirao[-4:]}')\n",
        "print(\"=\"*30)\n",
        "print(f'Times na ordem alfabética: {sorted(brasileirao)}')\n",
        "print(\"=\"*30)\n",
        "print(f'O Chapecoense está na {brasileirao.index(\"Chapecoense\")+1}º posição')\n"
      ],
      "execution_count": null,
      "outputs": []
    }
  ]
}