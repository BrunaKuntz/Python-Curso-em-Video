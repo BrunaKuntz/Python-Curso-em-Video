{
  "nbformat": 4,
  "nbformat_minor": 0,
  "metadata": {
    "colab": {
      "name": "DesafiosGuanabara.ipynb",
      "provenance": [],
      "collapsed_sections": [],
      "authorship_tag": "ABX9TyN54/oV9Vg0Bql7sR6vCkO5",
      "include_colab_link": true
    },
    "kernelspec": {
      "name": "python3",
      "display_name": "Python 3"
    },
    "language_info": {
      "name": "python"
    }
  },
  "cells": [
    {
      "cell_type": "markdown",
      "metadata": {
        "id": "view-in-github",
        "colab_type": "text"
      },
      "source": [
        "<a href=\"https://colab.research.google.com/github/BrunaKuntz/Python-Curso-em-Video/blob/main/Mundo03/Desafio090.ipynb\" target=\"_parent\"><img src=\"https://colab.research.google.com/assets/colab-badge.svg\" alt=\"Open In Colab\"/></a>"
      ]
    },
    {
      "cell_type": "markdown",
      "metadata": {
        "id": "xolHFjDi_Hj4"
      },
      "source": [
        "\n",
        "# **Desafio 090**\n",
        "**Python 3 - 3º Mundo**\n",
        "\n",
        "Descrição: Faça um programa que leia nome e média de um aluno, guardando também a situação em um dicionário. No final, mostre o conteúdo da estrutura na tela.\n",
        "\n",
        "Link: https://www.youtube.com/watch?v=HipQYUk4koA&t=55s"
      ]
    },
    {
      "cell_type": "code",
      "metadata": {
        "id": "8Lylf4Su-6aB"
      },
      "source": [
        "situacaoAluno = {}\n",
        "situacaoAluno['Nome'] = input('Nome: ')\n",
        "situacaoAluno['Média'] = float(input(f'Média de {situacaoAluno[\"Nome\"]}: '))\n",
        "if situacaoAluno['Média'] >= 7:\n",
        "    situacaoAluno['Status'] = 'Aprovado'\n",
        "elif 5 <= situacaoAluno['Média'] < 7:\n",
        "    situacaoAluno['Status'] = 'Recuperação'\n",
        "else:\n",
        "    situacaoAluno['Status'] = 'Reprovado'\n",
        "for k, v in situacaoAluno.items():\n",
        "    print(f'{k}: {v}')\n"
      ],
      "execution_count": null,
      "outputs": []
    }
  ]
}