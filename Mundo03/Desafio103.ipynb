{
  "nbformat": 4,
  "nbformat_minor": 0,
  "metadata": {
    "colab": {
      "name": "DesafiosGuanabara.ipynb",
      "provenance": [],
      "collapsed_sections": [],
      "authorship_tag": "ABX9TyNBa1JFiAikYViib/7YLhaD",
      "include_colab_link": true
    },
    "kernelspec": {
      "name": "python3",
      "display_name": "Python 3"
    },
    "language_info": {
      "name": "python"
    }
  },
  "cells": [
    {
      "cell_type": "markdown",
      "metadata": {
        "id": "view-in-github",
        "colab_type": "text"
      },
      "source": [
        "<a href=\"https://colab.research.google.com/github/BrunaKuntz/Python-Curso-em-Video/blob/main/Mundo03/Desafio103.ipynb\" target=\"_parent\"><img src=\"https://colab.research.google.com/assets/colab-badge.svg\" alt=\"Open In Colab\"/></a>"
      ]
    },
    {
      "cell_type": "markdown",
      "metadata": {
        "id": "xolHFjDi_Hj4"
      },
      "source": [
        "\n",
        "# **Desafio 103**\n",
        "**Python 3 - 3º Mundo**\n",
        "\n",
        "Descrição: Faça um programa que tenha uma função chamada ficha(), que receba dois parâmetros opcionais: o nome de um jogador e quantos gols ele marcou. O programa deverá ser capaz de mostrar a ficha do jogador, mesmo que algum dado não tenha sido informado corretamente.\n",
        "\n",
        "Link: https://www.youtube.com/watch?v=FbOvilKfHMI"
      ]
    },
    {
      "cell_type": "code",
      "metadata": {
        "id": "8Lylf4Su-6aB"
      },
      "source": [
        "def ficha(nome=None, gols='0'):\n",
        "    print('-'*20)\n",
        "\n",
        "    if gols not in '123456789':\n",
        "        gols = '0'\n",
        "\n",
        "    if nome in ' ':\n",
        "        nome = '<desconhecido>'\n",
        "\n",
        "    print(f'O jogador {nome} fez {gols} gol(s) no campeonato.')\n",
        "\n",
        "\n",
        "\n",
        "# programa principal\n",
        "nome = input('Nome do Jogador: ')\n",
        "gols = input('Número de Gols: ')\n",
        "ficha(nome, gols)\n"
      ],
      "execution_count": null,
      "outputs": []
    }
  ]
}