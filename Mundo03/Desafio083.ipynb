{
  "nbformat": 4,
  "nbformat_minor": 0,
  "metadata": {
    "colab": {
      "name": "DesafiosGuanabara.ipynb",
      "provenance": [],
      "collapsed_sections": [],
      "authorship_tag": "ABX9TyOb9dolPEGfrIx07j1MNJ44",
      "include_colab_link": true
    },
    "kernelspec": {
      "name": "python3",
      "display_name": "Python 3"
    },
    "language_info": {
      "name": "python"
    }
  },
  "cells": [
    {
      "cell_type": "markdown",
      "metadata": {
        "id": "view-in-github",
        "colab_type": "text"
      },
      "source": [
        "<a href=\"https://colab.research.google.com/github/BrunaKuntz/Python-Curso-em-Video/blob/main/Mundo03/Desafio083.ipynb\" target=\"_parent\"><img src=\"https://colab.research.google.com/assets/colab-badge.svg\" alt=\"Open In Colab\"/></a>"
      ]
    },
    {
      "cell_type": "markdown",
      "metadata": {
        "id": "xolHFjDi_Hj4"
      },
      "source": [
        "\n",
        "# **Desafio 083**\n",
        "**Python 3 - 3º Mundo**\n",
        "\n",
        "Descrição: Crie um programa que vai ler vários números e colocar em uma lista. Depois disso, crie duas listas extras que vão conter apenas os valores pares e os valores ímpares digitados, respectivamente. Ao final, mostre o conteúdo das três listas geradas.\n",
        "\n",
        "Link: https://www.youtube.com/watch?v=dvhP41Z7TLk&t=23s"
      ]
    },
    {
      "cell_type": "code",
      "metadata": {
        "id": "8Lylf4Su-6aB"
      },
      "source": [
        "expressao = str(input('Digite a expressão: '))\n",
        "lista = list(expressao)\n",
        "pa = 0\n",
        "pf = 0\n",
        "\n",
        "for i in lista:\n",
        "    if i == \"(\":\n",
        "        pa += 1\n",
        "    if i == ')':\n",
        "        if pa >= 1:\n",
        "            pa -= 1\n",
        "        else:\n",
        "            pf += 1\n",
        "            break\n",
        "\n",
        "if pa == pf:\n",
        "    print('Sua expressão está correta!')\n",
        "if pa != pf:\n",
        "    print('Sua expressão está errada!')\n"
      ],
      "execution_count": null,
      "outputs": []
    }
  ]
}