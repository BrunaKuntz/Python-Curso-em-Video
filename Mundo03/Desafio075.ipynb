{
  "nbformat": 4,
  "nbformat_minor": 0,
  "metadata": {
    "colab": {
      "name": "DesafiosGuanabara.ipynb",
      "provenance": [],
      "collapsed_sections": [],
      "authorship_tag": "ABX9TyOmRlrXYEfq51iHf8+/ctkq",
      "include_colab_link": true
    },
    "kernelspec": {
      "name": "python3",
      "display_name": "Python 3"
    },
    "language_info": {
      "name": "python"
    }
  },
  "cells": [
    {
      "cell_type": "markdown",
      "metadata": {
        "id": "view-in-github",
        "colab_type": "text"
      },
      "source": [
        "<a href=\"https://colab.research.google.com/github/BrunaKuntz/Python-Curso-em-Video/blob/main/Mundo03/Desafio075.ipynb\" target=\"_parent\"><img src=\"https://colab.research.google.com/assets/colab-badge.svg\" alt=\"Open In Colab\"/></a>"
      ]
    },
    {
      "cell_type": "markdown",
      "metadata": {
        "id": "xolHFjDi_Hj4"
      },
      "source": [
        "\n",
        "# **Desafio 075**\n",
        "**Python 3 - 3º Mundo**\n",
        "\n",
        "Descrição: Desenvolva um programa que leia quatro valores pelo teclado e guarde-os em uma tupla. No final, mostre:\n",
        "\n",
        "A) Quantas vezes apareceu o valor 9.\n",
        "B) Em que posição foi digitado o primeiro valor 3.\n",
        "C) Quais foram os números pares.\n",
        "\n",
        "Link: https://www.youtube.com/watch?v=1u7oA8ckjAc"
      ]
    },
    {
      "cell_type": "code",
      "metadata": {
        "id": "8Lylf4Su-6aB"
      },
      "source": [
        "n1 = int(input('Digite um número: '))\n",
        "n2 = int(input('Digite outro número: '))\n",
        "n3 = int(input('Digite mais um número: '))\n",
        "n4 = int(input('Digite o último número: '))\n",
        "\n",
        "tuple = (n1, n2, n3, n4)\n",
        "print(f'Você digitou o valores {tuple}')\n",
        "print(f'O valor 9 apareceu {tuple.count(9)} vez(es)')\n",
        "if 3 in tuple:\n",
        "    print(f'O valor 3 apareceu na {tuple.index(3) + 1}° posição')\n",
        "else:\n",
        "    print(f'O valor 3 não consta')\n",
        "pares = \"\"\n",
        "for c in tuple:\n",
        "    if c % 2 == 0:\n",
        "        pares = pares + str(c) + \" \"\n",
        "print(f'Os valores pares digitados foram: {pares}')\n"
      ],
      "execution_count": null,
      "outputs": []
    }
  ]
}