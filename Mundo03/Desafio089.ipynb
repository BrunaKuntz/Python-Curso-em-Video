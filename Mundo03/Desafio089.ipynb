{
  "nbformat": 4,
  "nbformat_minor": 0,
  "metadata": {
    "colab": {
      "name": "DesafiosGuanabara.ipynb",
      "provenance": [],
      "collapsed_sections": [],
      "authorship_tag": "ABX9TyM3nk3FI5A1kijhRghdFNcF",
      "include_colab_link": true
    },
    "kernelspec": {
      "name": "python3",
      "display_name": "Python 3"
    },
    "language_info": {
      "name": "python"
    }
  },
  "cells": [
    {
      "cell_type": "markdown",
      "metadata": {
        "id": "view-in-github",
        "colab_type": "text"
      },
      "source": [
        "<a href=\"https://colab.research.google.com/github/BrunaKuntz/Python-Curso-em-Video/blob/main/Mundo03/Desafio089.ipynb\" target=\"_parent\"><img src=\"https://colab.research.google.com/assets/colab-badge.svg\" alt=\"Open In Colab\"/></a>"
      ]
    },
    {
      "cell_type": "markdown",
      "metadata": {
        "id": "xolHFjDi_Hj4"
      },
      "source": [
        "\n",
        "# **Desafio 089**\n",
        "**Python 3 - 3º Mundo**\n",
        "\n",
        "Descrição: Crie um programa que leia nome e duas notas de vários alunos e guarde tudo em uma lista composta. No final, mostre um boletim contendo a média de cada um e permita que o usuário possa mostrar as notas de cada aluno individualmente.\n",
        "\n",
        "Link: https://www.youtube.com/watch?v=7xrCJnniqMw"
      ]
    },
    {
      "cell_type": "code",
      "metadata": {
        "id": "8Lylf4Su-6aB"
      },
      "source": [
        "geral = []\n",
        "aluno = []\n",
        "notas = []\n",
        "\n",
        "while True:\n",
        "    nome = input('Nome: ')\n",
        "    n1 = float(input('Nota 1: '))\n",
        "    n2 = float(input('Nota 2: '))\n",
        "    m = round((n1+n2)/2, 1)\n",
        "    aluno.append(nome)\n",
        "    notas.append(n1)\n",
        "    notas.append(n2)\n",
        "    aluno.append(notas[:])\n",
        "    aluno.append(m)\n",
        "    geral.append(aluno[:])\n",
        "    aluno.clear()\n",
        "    notas.clear()\n",
        "    resp = input('Quer continuar? [S/N] ').upper()\n",
        "    if resp == 'N':\n",
        "        break\n",
        "print('=-'*30)\n",
        "print('No.  NOME          MÉDIA')\n",
        "print('-'*30)\n",
        "for i in range(len(geral)):\n",
        "    print(f'{i:<4}{geral[i][0]:<10}{geral[i][2]:>8.1f}')\n",
        "print('-'*30)\n",
        "escolhido = 0\n",
        "while True:\n",
        "    escolhido = int(input('Mostrar as notas de qual aluno? (999 interrompe) '))\n",
        "    if escolhido == 999:\n",
        "      break\n",
        "    while escolhido > len(geral):\n",
        "        escolhido = int(input('Tente de novo. Mostrar as notas de qual aluno? (999 interrompe) '))\n",
        "    print(f'As notas de {geral[escolhido][0]} são {geral[escolhido][1]}')\n",
        "    print('-' * 30)\n"
      ],
      "execution_count": null,
      "outputs": []
    }
  ]
}