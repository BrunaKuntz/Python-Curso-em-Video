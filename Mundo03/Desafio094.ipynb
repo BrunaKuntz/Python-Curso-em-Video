{
  "nbformat": 4,
  "nbformat_minor": 0,
  "metadata": {
    "colab": {
      "name": "DesafiosGuanabara.ipynb",
      "provenance": [],
      "collapsed_sections": [],
      "authorship_tag": "ABX9TyPxIxX9NaSQvtjrR0ayeUNE",
      "include_colab_link": true
    },
    "kernelspec": {
      "name": "python3",
      "display_name": "Python 3"
    },
    "language_info": {
      "name": "python"
    }
  },
  "cells": [
    {
      "cell_type": "markdown",
      "metadata": {
        "id": "view-in-github",
        "colab_type": "text"
      },
      "source": [
        "<a href=\"https://colab.research.google.com/github/BrunaKuntz/Python-Curso-em-Video/blob/main/Mundo03/Desafio094.ipynb\" target=\"_parent\"><img src=\"https://colab.research.google.com/assets/colab-badge.svg\" alt=\"Open In Colab\"/></a>"
      ]
    },
    {
      "cell_type": "markdown",
      "metadata": {
        "id": "xolHFjDi_Hj4"
      },
      "source": [
        "\n",
        "# **Desafio 094**\n",
        "**Python 3 - 3º Mundo**\n",
        "\n",
        "Descrição: Crie um programa que leia nome, sexo e idade de várias pessoas, guardando os dados de cada pessoa em um dicionário e todos os dicionários em uma lista. No final, mostre: \n",
        "A) Quantas pessoas foram cadastradas\n",
        "B) A média de idade\n",
        "C) Uma lista com as mulheres\n",
        "D) Uma lista de pessoas com idade acima da média\n",
        "\n",
        "Link: https://www.youtube.com/watch?v=ETnExBCFeps"
      ]
    },
    {
      "cell_type": "code",
      "metadata": {
        "id": "8Lylf4Su-6aB"
      },
      "source": [
        "listaPessoas = []\n",
        "dicionarioPessoas = {}\n",
        "listaPessoasAcima = []\n",
        "s = 0\n",
        "mulheresCadastradas = ''\n",
        "resp = None\n",
        "\n",
        "while resp != 'N':\n",
        "    dicionarioPessoas.clear()\n",
        "    dicionarioPessoas['Nome'] = input('Nome: ').capitalize()\n",
        "    dicionarioPessoas['Sexo'] = input('Sexo: [F/M] ').strip()[0].upper()\n",
        "    while dicionarioPessoas['Sexo'] not in 'FM':\n",
        "        dicionarioPessoas['Sexo'] = input('Não entendi. Digite o sexo: [F/M] ').strip()[0].upper()\n",
        "    dicionarioPessoas['Idade'] = int(input('Idade: '))\n",
        "    listaPessoas.append(dicionarioPessoas.copy())\n",
        "    resp = input('Quer continuar? [S/N] ').strip()[0].upper()\n",
        "    while resp not in 'SN':\n",
        "        resp = input('Não entendi. Quer continuar? [S/N] ').strip()[0].upper()\n",
        "\n",
        "for i in listaPessoas:\n",
        "    for k, v in i.items():\n",
        "        if k == 'Idade':\n",
        "           s += v\n",
        "        if k == 'Sexo':\n",
        "            if v == 'F':\n",
        "                mulheresCadastradas += i['Nome'] + ' '\n",
        "\n",
        "m = s/len(listaPessoas)\n",
        "\n",
        "for i in listaPessoas:\n",
        "    for k, v in i.items():\n",
        "        if k == 'Idade':\n",
        "            if v > m:\n",
        "                listaPessoasAcima.append(i.copy())\n",
        "\n",
        "print(listaPessoasAcima)\n",
        "\n",
        "print('=-'*30)\n",
        "print(f' - O grupo tem {len(listaPessoas)} pessoas.')\n",
        "print(f' - A média de idade é de {m} anos')\n",
        "print(f' - As mulheres cadastradas foram: {mulheresCadastradas}')\n",
        "print(' - Lista das pessoas que estão acima da média: ')\n",
        "\n",
        "for i in listaPessoasAcima:\n",
        "    for k, v in i.items():\n",
        "        print(f'{k} = {v}; ', end='')\n",
        "\n",
        "print('\\n<< ENCERRADO >>')\n"
      ],
      "execution_count": null,
      "outputs": []
    }
  ]
}