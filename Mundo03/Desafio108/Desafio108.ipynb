{
  "nbformat": 4,
  "nbformat_minor": 0,
  "metadata": {
    "colab": {
      "name": "DesafiosGuanabara.ipynb",
      "provenance": [],
      "collapsed_sections": [],
      "include_colab_link": true
    },
    "kernelspec": {
      "name": "python3",
      "display_name": "Python 3"
    },
    "language_info": {
      "name": "python"
    }
  },
  "cells": [
    {
      "cell_type": "markdown",
      "metadata": {
        "id": "view-in-github",
        "colab_type": "text"
      },
      "source": [
        "<a href=\"https://colab.research.google.com/github/BrunaKuntz/Python-Curso-em-Video/blob/main/Mundo03/Desafio108/Desafio108.ipynb\" target=\"_parent\"><img src=\"https://colab.research.google.com/assets/colab-badge.svg\" alt=\"Open In Colab\"/></a>"
      ]
    },
    {
      "cell_type": "markdown",
      "metadata": {
        "id": "xolHFjDi_Hj4"
      },
      "source": [
        "\n",
        "# **Funções Desafio 108**\n",
        "**Python 3 - 3º Mundo**\n",
        "\n",
        "Descrição: Adapte o código do desafio #107, criando uma função adicional chamada moeda() que consiga mostrar os números como um valor monetário formatado.\n",
        "\n",
        "Link: https://www.youtube.com/watch?v=KtRkGEeUdqE&t=191s"
      ]
    },
    {
      "cell_type": "code",
      "source": [
        "# importações\n",
        "import moeda\n",
        "\n",
        "# principal 108\n",
        "p = float(input('Digite o preço: R$'))\n",
        "print(f'A metade de {moeda.moeda(p)} é {moeda.moeda(moeda.metade(p))}')\n",
        "print(f'O dobro de {moeda.moeda(p)} é {moeda.moeda(moeda.dobro(p))}')\n",
        "print(f'Aumentando 10%, temos {moeda.moeda(moeda.aumentar(p, 10))}')\n",
        "print(f'Reduzindo 13%, temos {moeda.moeda(moeda.diminuir(p, 13))}')"
      ],
      "metadata": {
        "id": "PgslBNjU1OiR"
      },
      "execution_count": null,
      "outputs": []
    }
  ]
}