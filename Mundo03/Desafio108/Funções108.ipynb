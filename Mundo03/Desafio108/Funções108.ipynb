{
  "nbformat": 4,
  "nbformat_minor": 0,
  "metadata": {
    "colab": {
      "name": "DesafiosGuanabara.ipynb",
      "provenance": [],
      "collapsed_sections": [],
      "include_colab_link": true
    },
    "kernelspec": {
      "name": "python3",
      "display_name": "Python 3"
    },
    "language_info": {
      "name": "python"
    }
  },
  "cells": [
    {
      "cell_type": "markdown",
      "metadata": {
        "id": "view-in-github",
        "colab_type": "text"
      },
      "source": [
        "<a href=\"https://colab.research.google.com/github/BrunaKuntz/Python-Curso-em-Video/blob/main/Mundo03/Desafio108/Fun%C3%A7%C3%B5es108.ipynb\" target=\"_parent\"><img src=\"https://colab.research.google.com/assets/colab-badge.svg\" alt=\"Open In Colab\"/></a>"
      ]
    },
    {
      "cell_type": "markdown",
      "metadata": {
        "id": "xolHFjDi_Hj4"
      },
      "source": [
        "\n",
        "# **Funções Desafio 108**\n",
        "**Python 3 - 3º Mundo**\n",
        "\n",
        "Descrição: Adapte o código do desafio #107, criando uma função adicional chamada moeda() que consiga mostrar os números como um valor monetário formatado.\n",
        "\n",
        "Link: https://www.youtube.com/watch?v=KtRkGEeUdqE&t=191s"
      ]
    },
    {
      "cell_type": "code",
      "source": [
        "# funções 108\n",
        "def aumentar(n, x):\n",
        "    a = (n * x) / 100\n",
        "    return n + a\n",
        "\n",
        "def diminuir(n, x):\n",
        "    d = (n*x)/100\n",
        "    return n - d\n",
        "\n",
        "def dobro(n):\n",
        "    return n*2\n",
        "\n",
        "def metade(n):\n",
        "    return n/2\n",
        "\n",
        "def moeda(n):\n",
        "    return f'R${n:.2f}'.replace('.', ',')"
      ],
      "metadata": {
        "id": "PgslBNjU1OiR"
      },
      "execution_count": null,
      "outputs": []
    }
  ]
}