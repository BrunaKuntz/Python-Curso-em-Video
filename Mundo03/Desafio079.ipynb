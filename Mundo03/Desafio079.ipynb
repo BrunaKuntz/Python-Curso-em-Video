{
  "nbformat": 4,
  "nbformat_minor": 0,
  "metadata": {
    "colab": {
      "name": "DesafiosGuanabara.ipynb",
      "provenance": [],
      "collapsed_sections": [],
      "authorship_tag": "ABX9TyPz3Q8UEGqk1uUOhIuroBu4",
      "include_colab_link": true
    },
    "kernelspec": {
      "name": "python3",
      "display_name": "Python 3"
    },
    "language_info": {
      "name": "python"
    }
  },
  "cells": [
    {
      "cell_type": "markdown",
      "metadata": {
        "id": "view-in-github",
        "colab_type": "text"
      },
      "source": [
        "<a href=\"https://colab.research.google.com/github/BrunaKuntz/Python-Curso-em-Video/blob/main/Mundo03/Desafio079.ipynb\" target=\"_parent\"><img src=\"https://colab.research.google.com/assets/colab-badge.svg\" alt=\"Open In Colab\"/></a>"
      ]
    },
    {
      "cell_type": "markdown",
      "metadata": {
        "id": "xolHFjDi_Hj4"
      },
      "source": [
        "\n",
        "# **Desafio 079**\n",
        "**Python 3 - 3º Mundo**\n",
        "\n",
        "Descrição: Crie um programa onde o usuário possa digitar vários valores numéricos e cadastre-os em uma lista. Caso o número já exista lá dentro, ele não será adicionado. No final, serão exibidos todos os valores únicos digitados, em ordem crescente. \n",
        "\n",
        "Link: https://www.youtube.com/watch?v=LkAzRnc_GPk"
      ]
    },
    {
      "cell_type": "code",
      "metadata": {
        "id": "8Lylf4Su-6aB"
      },
      "source": [
        "lista = []\n",
        "v = 0\n",
        "resp = \"S\"\n",
        "while True:\n",
        "    v = int(input('Digite um valor: '))\n",
        "    if v in lista:\n",
        "        print('Valor duplicado! Não vou adicionar...')\n",
        "    elif v not in lista:\n",
        "        lista.append(v)\n",
        "        print('Valor adicionado com sucesso...')\n",
        "    resp = str(input('Quer continuar? [S/N] ')).upper()\n",
        "    while resp != \"S\" and resp != \"N\":\n",
        "        resp = str(input('Não entendi. Quer continuar? [S/N] ')).upper()\n",
        "    if resp == \"N\":\n",
        "        break\n",
        "\n",
        "lista.sort()\n",
        "print('='*20)\n",
        "print(f'Você digitou os valores {lista}')\n"
      ],
      "execution_count": null,
      "outputs": []
    }
  ]
}