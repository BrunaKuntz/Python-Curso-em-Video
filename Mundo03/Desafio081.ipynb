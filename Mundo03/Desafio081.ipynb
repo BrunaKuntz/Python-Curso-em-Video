{
  "nbformat": 4,
  "nbformat_minor": 0,
  "metadata": {
    "colab": {
      "name": "DesafiosGuanabara.ipynb",
      "provenance": [],
      "collapsed_sections": [],
      "authorship_tag": "ABX9TyPpACsCRSmL5OpbKoZRlKJ9",
      "include_colab_link": true
    },
    "kernelspec": {
      "name": "python3",
      "display_name": "Python 3"
    },
    "language_info": {
      "name": "python"
    }
  },
  "cells": [
    {
      "cell_type": "markdown",
      "metadata": {
        "id": "view-in-github",
        "colab_type": "text"
      },
      "source": [
        "<a href=\"https://colab.research.google.com/github/BrunaKuntz/Python-Curso-em-Video/blob/main/Mundo03/Desafio081.ipynb\" target=\"_parent\"><img src=\"https://colab.research.google.com/assets/colab-badge.svg\" alt=\"Open In Colab\"/></a>"
      ]
    },
    {
      "cell_type": "markdown",
      "metadata": {
        "id": "xolHFjDi_Hj4"
      },
      "source": [
        "\n",
        "# **Desafio 081**\n",
        "**Python 3 - 3º Mundo**\n",
        "\n",
        "Descrição: Crie um programa que vai ler vários números e colocar em uma lista. Depois disso, mostre:\n",
        "A) Quantos números foram digitados.\n",
        "B) A lista de valores, ordenada de forma decrescente.\n",
        "C) Se o valor 5 foi digitado e está ou não na lista.\n",
        "\n",
        "Link: https://www.youtube.com/watch?v=SXJKAVVlvGA&t=11s"
      ]
    },
    {
      "cell_type": "code",
      "metadata": {
        "id": "8Lylf4Su-6aB"
      },
      "source": [
        "lista = []\n",
        "resp = 'S'\n",
        "while True:\n",
        "    lista.append(int(input('Digite um valor: ')))\n",
        "    resp = str(input('Quer continuar? [S/N] ')).upper()\n",
        "    while resp != \"S\" and resp != \"N\":\n",
        "        resp = str(input('Não entendi. Quer continuar? [S/N] ')).upper()\n",
        "    if resp == \"N\":\n",
        "        break\n",
        "lista.sort(reverse=True)\n",
        "print(f'Você digitou {len(lista)} elementos.')\n",
        "print(f'Os valores em ordem decrescente são: {lista}')\n",
        "if 5 in lista:\n",
        "    print('O valor 5 faz parte da lista!')\n",
        "else:\n",
        "    print('O valor 5 não faz parte da lista!')\n",
        "    "
      ],
      "execution_count": null,
      "outputs": []
    }
  ]
}