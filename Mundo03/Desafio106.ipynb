{
  "nbformat": 4,
  "nbformat_minor": 0,
  "metadata": {
    "colab": {
      "name": "DesafiosGuanabara.ipynb",
      "provenance": [],
      "collapsed_sections": [],
      "authorship_tag": "ABX9TyMaEqKMUR8tlygDeCTfAvZz",
      "include_colab_link": true
    },
    "kernelspec": {
      "name": "python3",
      "display_name": "Python 3"
    },
    "language_info": {
      "name": "python"
    }
  },
  "cells": [
    {
      "cell_type": "markdown",
      "metadata": {
        "id": "view-in-github",
        "colab_type": "text"
      },
      "source": [
        "<a href=\"https://colab.research.google.com/github/BrunaKuntz/Python-Curso-em-Video/blob/main/Mundo03/Desafio106.ipynb\" target=\"_parent\"><img src=\"https://colab.research.google.com/assets/colab-badge.svg\" alt=\"Open In Colab\"/></a>"
      ]
    },
    {
      "cell_type": "markdown",
      "metadata": {
        "id": "xolHFjDi_Hj4"
      },
      "source": [
        "\n",
        "# **Desafio 106**\n",
        "**Python 3 - 3º Mundo**\n",
        "\n",
        "Descrição: Faça um mini-sistema que utilize o Interactive Help do Python. O usuário vai digitar o comando e o manual vai aparecer. Quando o usuário digitar a palavra ‘FIM’, o programa se encerrará. Importante: use cores.\n",
        "\n",
        "Link: https://www.youtube.com/watch?v=BMKYnZoxy88&t=12s"
      ]
    },
    {
      "cell_type": "code",
      "metadata": {
        "id": "8Lylf4Su-6aB"
      },
      "source": [
        "from time import sleep\n",
        "\n",
        "\n",
        "def menu(txt='SISTEMA DE AJUDA PyHELP'):\n",
        "    print('\\033[0;42m~' * len(txt))\n",
        "    print(f'\\033[0;42m{txt}')\n",
        "    print('\\033[0;42m~' * len(txt))\n",
        "    busca = input('\\033[0mFunção ou Biblioteca > ')\n",
        "    return busca\n",
        "\n",
        "def manual():\n",
        "\n",
        "    busca = menu()\n",
        "\n",
        "    while busca.strip().lower() != 'fim':\n",
        "        print('\\033[44m~' * len(f'Acessando o manual do comando {busca}'))\n",
        "        print(f\"\\033[44mAcessando o manual do comando '{busca}'\")\n",
        "        print('\\033[44m~' * len(f'Acessando o manual do comando {busca}'))\n",
        "        sleep(0.4)\n",
        "        print('\\033[7;40m')\n",
        "        f'\\033[7;40m{help(busca)}'\n",
        "        busca = menu()\n",
        "\n",
        "    print('\\033[41m~' * len('ATÉ LOGO!'))\n",
        "    print(f'\\033[41mATÉ LOGO!')\n",
        "    print('\\033[41m~' * len('ATÉ LOGO!'))\n",
        "\n",
        "\n",
        "# programa principal\n",
        "manual()\n"
      ],
      "execution_count": null,
      "outputs": []
    }
  ]
}