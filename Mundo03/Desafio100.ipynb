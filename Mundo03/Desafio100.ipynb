{
  "nbformat": 4,
  "nbformat_minor": 0,
  "metadata": {
    "colab": {
      "name": "DesafiosGuanabara.ipynb",
      "provenance": [],
      "collapsed_sections": [],
      "authorship_tag": "ABX9TyNFsDW5v16UH+KkAHtydJxd",
      "include_colab_link": true
    },
    "kernelspec": {
      "name": "python3",
      "display_name": "Python 3"
    },
    "language_info": {
      "name": "python"
    }
  },
  "cells": [
    {
      "cell_type": "markdown",
      "metadata": {
        "id": "view-in-github",
        "colab_type": "text"
      },
      "source": [
        "<a href=\"https://colab.research.google.com/github/BrunaKuntz/Python-Curso-em-Video/blob/main/Mundo03/Desafio100.ipynb\" target=\"_parent\"><img src=\"https://colab.research.google.com/assets/colab-badge.svg\" alt=\"Open In Colab\"/></a>"
      ]
    },
    {
      "cell_type": "markdown",
      "metadata": {
        "id": "xolHFjDi_Hj4"
      },
      "source": [
        "\n",
        "# **Desafio 100**\n",
        "**Python 3 - 3º Mundo**\n",
        "\n",
        "Descrição: Faça um programa que tenha uma lista chamada números e duas funções chamadas sorteia() e somaPar(). A primeira função vai sortear 5 números e vai colocá-los dentro da lista e a segunda função vai mostrar a soma entre todos os valores pares sorteados pela função anterior.\n",
        "\n",
        "Link: https://www.youtube.com/watch?v=MEs-41JcuhM&t=25s"
      ]
    },
    {
      "cell_type": "code",
      "metadata": {
        "id": "8Lylf4Su-6aB"
      },
      "source": [
        "rom random import randint\n",
        "from time import sleep\n",
        "\n",
        "\n",
        "def sorteia(numeros):\n",
        "    print('Sorteando 5 valores da lista: ', end='')\n",
        "    for i in range(5):\n",
        "        n = randint(1, 10)\n",
        "        print(f'{n} ', end='')\n",
        "        sleep(0.3)\n",
        "        numeros.append(n)\n",
        "    print('PRONTO!')\n",
        "\n",
        "def somapar(numeros):\n",
        "    s = 0\n",
        "    for i in numeros:\n",
        "        if i % 2 == 0:\n",
        "            s += i\n",
        "    print(f'Somando os valores pares de {numeros}, temos {s}')\n",
        "\n",
        "numeros = []\n",
        "sorteia(numeros)\n",
        "somapar(numeros)\n"
      ],
      "execution_count": null,
      "outputs": []
    }
  ]
}