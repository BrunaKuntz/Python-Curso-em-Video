{
  "nbformat": 4,
  "nbformat_minor": 0,
  "metadata": {
    "colab": {
      "name": "DesafiosGuanabara.ipynb",
      "provenance": [],
      "collapsed_sections": [],
      "authorship_tag": "ABX9TyMddxhAXomjYHdNPQYkScDe",
      "include_colab_link": true
    },
    "kernelspec": {
      "name": "python3",
      "display_name": "Python 3"
    },
    "language_info": {
      "name": "python"
    }
  },
  "cells": [
    {
      "cell_type": "markdown",
      "metadata": {
        "id": "view-in-github",
        "colab_type": "text"
      },
      "source": [
        "<a href=\"https://colab.research.google.com/github/BrunaKuntz/Python-Curso-em-Video/blob/main/Mundo03/Desafio098.ipynb\" target=\"_parent\"><img src=\"https://colab.research.google.com/assets/colab-badge.svg\" alt=\"Open In Colab\"/></a>"
      ]
    },
    {
      "cell_type": "markdown",
      "metadata": {
        "id": "xolHFjDi_Hj4"
      },
      "source": [
        "\n",
        "# **Desafio 098**\n",
        "**Python 3 - 3º Mundo**\n",
        "\n",
        "Descrição: Faça um programa que tenha uma função chamada contador(), que receba três parâmetros: início, fim e passo. Seu programa tem que realizar três contagens através da função criada:\n",
        "\n",
        "a) de 1 até 10, de 1 em 1\n",
        "b) de 10 até 0, de 2 em 2\n",
        "c) uma contagem personalizada\n",
        "\n",
        "Link: https://www.youtube.com/watch?v=DCBlt_z2UOE"
      ]
    },
    {
      "cell_type": "code",
      "metadata": {
        "id": "8Lylf4Su-6aB"
      },
      "source": [
        "from time import sleep\n",
        "\n",
        "\n",
        "def contador(inicio, fim, passo):\n",
        "    if passo < 0:\n",
        "        passo = -(passo)\n",
        "    elif passo == 0:\n",
        "        passo += 1\n",
        "\n",
        "    print('=-' * 20)\n",
        "    print(f'Contagem de {inicio} até {fim} de {passo} em {passo}')\n",
        "\n",
        "    if inicio > fim:\n",
        "        fim -= 1\n",
        "        if passo > 0:\n",
        "            passo = -(passo)\n",
        "    elif inicio < fim:\n",
        "        fim += 1\n",
        "\n",
        "    for i in range(inicio, fim, passo):\n",
        "        print(f'{i} ', end='')\n",
        "        sleep(0.3)\n",
        "    print('FIM!')\n",
        "\n",
        "\n",
        "# programa principal\n",
        "contador(1, 10, 1)\n",
        "contador(10, 0, -2)\n",
        "\n",
        "print('=-'*20)\n",
        "print('Agora é a sua vez de personalizar a contagem!')\n",
        "inicio = int(input('Início: '))\n",
        "fim = int(input('Fim: '))\n",
        "passo = int(input('Passo: '))\n",
        "contador(inicio, fim, passo)\n"
      ],
      "execution_count": null,
      "outputs": []
    }
  ]
}