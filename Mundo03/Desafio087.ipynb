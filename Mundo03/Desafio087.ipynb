{
  "nbformat": 4,
  "nbformat_minor": 0,
  "metadata": {
    "colab": {
      "name": "DesafiosGuanabara.ipynb",
      "provenance": [],
      "collapsed_sections": [],
      "authorship_tag": "ABX9TyNb6rqmb6Wsmfqbkfwrn9ds",
      "include_colab_link": true
    },
    "kernelspec": {
      "name": "python3",
      "display_name": "Python 3"
    },
    "language_info": {
      "name": "python"
    }
  },
  "cells": [
    {
      "cell_type": "markdown",
      "metadata": {
        "id": "view-in-github",
        "colab_type": "text"
      },
      "source": [
        "<a href=\"https://colab.research.google.com/github/BrunaKuntz/Python-Curso-em-Video/blob/main/Mundo03/Desafio087.ipynb\" target=\"_parent\"><img src=\"https://colab.research.google.com/assets/colab-badge.svg\" alt=\"Open In Colab\"/></a>"
      ]
    },
    {
      "cell_type": "markdown",
      "metadata": {
        "id": "xolHFjDi_Hj4"
      },
      "source": [
        "\n",
        "# **Desafio 087**\n",
        "**Python 3 - 3º Mundo**\n",
        "\n",
        "Descrição: Aprimore o desafio anterior, mostrando no final: \n",
        "A) A soma de todos os valores pares digitados.\n",
        "B) A soma dos valores da terceira coluna.\n",
        "C) O maior valor da segunda linha.\n",
        "\n",
        "Link: https://www.youtube.com/watch?v=QhS829x6up4"
      ]
    },
    {
      "cell_type": "code",
      "metadata": {
        "id": "8Lylf4Su-6aB"
      },
      "source": [
        "lista = [[0, 0, 0], [0, 0, 0], [0, 0, 0]]\n",
        "p = 0\n",
        "t = 0\n",
        "\n",
        "for i in range(3):\n",
        "    for j in range(3):\n",
        "        n = int(input(f'Digite um valor para [{i}, {j}]: '))\n",
        "        lista[i][j] = n\n",
        "        if n % 2 == 0:\n",
        "            p += n\n",
        "        if j == 2:\n",
        "            t += n\n",
        "\n",
        "print('=-'*30)\n",
        "for i in range(3):\n",
        "    for j in range(3):\n",
        "      print(f'[{lista[i][j]:^5}]', end='')\n",
        "    print()\n",
        "print('=-'*30)\n",
        "print(f'A soma dos valores pares é de {p}')\n",
        "print(f'A soma dos valores da terceira coluna é {t}')\n",
        "print(f'O maior valor da segunda linha é {max(lista[1])}')"
      ],
      "execution_count": null,
      "outputs": []
    }
  ]
}