{
  "nbformat": 4,
  "nbformat_minor": 0,
  "metadata": {
    "colab": {
      "name": "DesafiosGuanabara.ipynb",
      "provenance": [],
      "collapsed_sections": [],
      "authorship_tag": "ABX9TyPIF42gUk9n2NmBq3NJCTjH",
      "include_colab_link": true
    },
    "kernelspec": {
      "name": "python3",
      "display_name": "Python 3"
    },
    "language_info": {
      "name": "python"
    }
  },
  "cells": [
    {
      "cell_type": "markdown",
      "metadata": {
        "id": "view-in-github",
        "colab_type": "text"
      },
      "source": [
        "<a href=\"https://colab.research.google.com/github/BrunaKuntz/Python-Curso-em-Video/blob/main/Mundo03/Desafio080.ipynb\" target=\"_parent\"><img src=\"https://colab.research.google.com/assets/colab-badge.svg\" alt=\"Open In Colab\"/></a>"
      ]
    },
    {
      "cell_type": "markdown",
      "metadata": {
        "id": "xolHFjDi_Hj4"
      },
      "source": [
        "\n",
        "# **Desafio 080**\n",
        "**Python 3 - 3º Mundo**\n",
        "\n",
        "Descrição: Crie um programa onde o usuário possa digitar cinco valores numéricos e cadastre-os em uma lista, já na posição correta de inserção (sem usar o sort()). No final, mostre a lista ordenada na tela. \n",
        "\n",
        "Link: https://www.youtube.com/watch?v=QDpwjBYRcVE"
      ]
    },
    {
      "cell_type": "code",
      "metadata": {
        "id": "8Lylf4Su-6aB"
      },
      "source": [
        "lista = []\n",
        "v = 0\n",
        "for r in range(0, 5):\n",
        "    v = int(input('Digite um valor: '))\n",
        "    if r == 0:\n",
        "        lista.append(v)\n",
        "        print(f'O valor {v} foi adicionado ao final da lista')\n",
        "    else:\n",
        "        for i in range(len(lista)):\n",
        "            if v >= lista[len(lista)-1]:\n",
        "                lista.append(v)\n",
        "                print(f'O valor {v} foi adicionado ao final da lista')\n",
        "                break\n",
        "            elif v >= lista[i]:\n",
        "                lista.insert(i+1, v)\n",
        "                print(f'O valor {v} foi adicionado na posição {i + 1}')\n",
        "                break\n",
        "            elif v <= lista[i]:\n",
        "                lista.insert(i, v)\n",
        "                print(f'O valor {v} foi adicionado na posição {i}')\n",
        "                break\n",
        "print(lista)"
      ],
      "execution_count": null,
      "outputs": []
    }
  ]
}