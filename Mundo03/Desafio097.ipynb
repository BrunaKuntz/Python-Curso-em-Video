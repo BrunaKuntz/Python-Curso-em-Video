{
  "nbformat": 4,
  "nbformat_minor": 0,
  "metadata": {
    "colab": {
      "name": "DesafiosGuanabara.ipynb",
      "provenance": [],
      "collapsed_sections": [],
      "authorship_tag": "ABX9TyOLZIFYSSXeus5ttfdc6R4x",
      "include_colab_link": true
    },
    "kernelspec": {
      "name": "python3",
      "display_name": "Python 3"
    },
    "language_info": {
      "name": "python"
    }
  },
  "cells": [
    {
      "cell_type": "markdown",
      "metadata": {
        "id": "view-in-github",
        "colab_type": "text"
      },
      "source": [
        "<a href=\"https://colab.research.google.com/github/BrunaKuntz/Python-Curso-em-Video/blob/main/Mundo03/Desafio097.ipynb\" target=\"_parent\"><img src=\"https://colab.research.google.com/assets/colab-badge.svg\" alt=\"Open In Colab\"/></a>"
      ]
    },
    {
      "cell_type": "markdown",
      "metadata": {
        "id": "xolHFjDi_Hj4"
      },
      "source": [
        "\n",
        "# **Desafio 097**\n",
        "**Python 3 - 3º Mundo**\n",
        "\n",
        "Descrição: Faça um programa que tenha uma função chamada escreva(), que receba um texto qualquer como parâmetro e mostre uma mensagem com tamanho adaptável.\n",
        "\n",
        "Link: https://www.youtube.com/watch?v=Q6basnSo7r0&t=18s"
      ]
    },
    {
      "cell_type": "code",
      "metadata": {
        "id": "8Lylf4Su-6aB"
      },
      "source": [
        "def escreva(txt):\n",
        "    print('~'*(len(txt) + 4))\n",
        "    print(f'  {txt}')\n",
        "    print('~' * (len(txt) + 4))\n",
        "\n",
        "\n",
        "# programa principal\n",
        "escreva('Olá, Mundo')\n",
        "escreva('Olá')\n",
        "escreva('O')\n"
      ],
      "execution_count": null,
      "outputs": []
    }
  ]
}