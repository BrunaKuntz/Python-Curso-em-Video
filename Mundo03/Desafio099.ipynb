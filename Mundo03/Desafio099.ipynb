{
  "nbformat": 4,
  "nbformat_minor": 0,
  "metadata": {
    "colab": {
      "name": "DesafiosGuanabara.ipynb",
      "provenance": [],
      "collapsed_sections": [],
      "authorship_tag": "ABX9TyPOPUyVMEOxM/vOL7k01RbW",
      "include_colab_link": true
    },
    "kernelspec": {
      "name": "python3",
      "display_name": "Python 3"
    },
    "language_info": {
      "name": "python"
    }
  },
  "cells": [
    {
      "cell_type": "markdown",
      "metadata": {
        "id": "view-in-github",
        "colab_type": "text"
      },
      "source": [
        "<a href=\"https://colab.research.google.com/github/BrunaKuntz/Python-Curso-em-Video/blob/main/Mundo03/Desafio099.ipynb\" target=\"_parent\"><img src=\"https://colab.research.google.com/assets/colab-badge.svg\" alt=\"Open In Colab\"/></a>"
      ]
    },
    {
      "cell_type": "markdown",
      "metadata": {
        "id": "xolHFjDi_Hj4"
      },
      "source": [
        "\n",
        "# **Desafio 099**\n",
        "**Python 3 - 3º Mundo**\n",
        "\n",
        "Descrição: Faça um programa que tenha uma função chamada maior(), que receba vários parâmetros com valores inteiros. Seu programa tem que analisar todos os valores e dizer qual deles é o maior.\n",
        "\n",
        "Link: https://www.youtube.com/watch?v=vp9UX7wr92o&t=23s"
      ]
    },
    {
      "cell_type": "code",
      "metadata": {
        "id": "8Lylf4Su-6aB"
      },
      "source": [
        "from time import sleep\n",
        "\n",
        "\n",
        "def maior(*n):\n",
        "    print('=-'*30)\n",
        "    print('Analisando os valores passados...')\n",
        "    maior = n[0]\n",
        "    for i in n:\n",
        "        print(f'{i} ', end='')\n",
        "        sleep(0.3)\n",
        "        if i > maior:\n",
        "            maior = i\n",
        "\n",
        "    print(f'Foram informados {len(n)} ao todo.')\n",
        "    print(f'O maior valor digitado foi: {maior}')\n",
        "\n",
        "maior(4, 7, 0)\n",
        "maior(1, 2)\n",
        "maior(6)\n",
        "maior(0)\n",
        "maior(1, 20, 3, 4, 5, 6, 7, 8, 9, 10)\n"
      ],
      "execution_count": null,
      "outputs": []
    }
  ]
}