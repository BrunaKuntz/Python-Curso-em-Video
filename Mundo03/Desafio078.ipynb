{
  "nbformat": 4,
  "nbformat_minor": 0,
  "metadata": {
    "colab": {
      "name": "DesafiosGuanabara.ipynb",
      "provenance": [],
      "collapsed_sections": [],
      "authorship_tag": "ABX9TyNLF+DNeXX1ajph1bL2QLOY",
      "include_colab_link": true
    },
    "kernelspec": {
      "name": "python3",
      "display_name": "Python 3"
    },
    "language_info": {
      "name": "python"
    }
  },
  "cells": [
    {
      "cell_type": "markdown",
      "metadata": {
        "id": "view-in-github",
        "colab_type": "text"
      },
      "source": [
        "<a href=\"https://colab.research.google.com/github/BrunaKuntz/Python-Curso-em-Video/blob/main/Mundo03/Desafio078.ipynb\" target=\"_parent\"><img src=\"https://colab.research.google.com/assets/colab-badge.svg\" alt=\"Open In Colab\"/></a>"
      ]
    },
    {
      "cell_type": "markdown",
      "metadata": {
        "id": "xolHFjDi_Hj4"
      },
      "source": [
        "\n",
        "# **Desafio 078**\n",
        "**Python 3 - 3º Mundo**\n",
        "\n",
        "Descrição: Faça um programa que leia 5 valores numéricos e guarde-os em uma lista. No final, mostre qual foi o maior e o menor valor digitado e as suas respectivas posições na lista. \n",
        "\n",
        "Link: https://www.youtube.com/watch?v=q8Z1cRdJnfk&t=6s"
      ]
    },
    {
      "cell_type": "code",
      "metadata": {
        "id": "8Lylf4Su-6aB"
      },
      "source": [
        "lista = []\n",
        "posicao_maior = posicao_menor = ''\n",
        "for i in range(0, 5):\n",
        "    lista.append(input(f\"Digite o número {i}: \"))\n",
        "maior = max(lista)\n",
        "menor = min(lista)\n",
        "for c in range(len(lista)):\n",
        "    if lista[c] == maior:\n",
        "       posicao_maior = posicao_maior + f'{c}...'\n",
        "    elif lista[c] == menor:\n",
        "        posicao_menor = posicao_menor + f'{c}...'\n",
        "print(f'Você digitou os números {lista}')\n",
        "print(f'O maior valor foi o {maior} na posição: {posicao_maior}')\n",
        "print(f'O menor valor foi o {menor} na posição: {posicao_menor}')\n"
      ],
      "execution_count": null,
      "outputs": []
    }
  ]
}