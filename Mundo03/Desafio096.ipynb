{
  "nbformat": 4,
  "nbformat_minor": 0,
  "metadata": {
    "colab": {
      "name": "DesafiosGuanabara.ipynb",
      "provenance": [],
      "collapsed_sections": [],
      "authorship_tag": "ABX9TyO+ogPjKTvprIS/zgsSmOeD",
      "include_colab_link": true
    },
    "kernelspec": {
      "name": "python3",
      "display_name": "Python 3"
    },
    "language_info": {
      "name": "python"
    }
  },
  "cells": [
    {
      "cell_type": "markdown",
      "metadata": {
        "id": "view-in-github",
        "colab_type": "text"
      },
      "source": [
        "<a href=\"https://colab.research.google.com/github/BrunaKuntz/Python-Curso-em-Video/blob/main/Mundo03/Desafio096.ipynb\" target=\"_parent\"><img src=\"https://colab.research.google.com/assets/colab-badge.svg\" alt=\"Open In Colab\"/></a>"
      ]
    },
    {
      "cell_type": "markdown",
      "metadata": {
        "id": "xolHFjDi_Hj4"
      },
      "source": [
        "\n",
        "# **Desafio 096**\n",
        "**Python 3 - 3º Mundo**\n",
        "\n",
        "Descrição: Faça um programa que tenha uma função chamada área(), que receba as dimensões de um terreno retangular (largura e comprimento) e mostre a área do terreno.\n",
        "\n",
        "Link: https://www.youtube.com/watch?v=oV1s53YGtvE&t=9s"
      ]
    },
    {
      "cell_type": "code",
      "metadata": {
        "id": "8Lylf4Su-6aB"
      },
      "source": [
        "def area(largura, comprimento):\n",
        "    a = largura * comprimento\n",
        "    print(f'A área de um terreno {largura}x{comprimento} é de {a} metros quadrados.')\n",
        "\n",
        "\n",
        "print('Controle de Terrenos')\n",
        "print('-'*20)\n",
        "largura = float(input('Largura (m): '))\n",
        "comprimento = float(input('Comprimento (m): '))\n",
        "area(largura, comprimento)\n"
      ],
      "execution_count": null,
      "outputs": []
    }
  ]
}