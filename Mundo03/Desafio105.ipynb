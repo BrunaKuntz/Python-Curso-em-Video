{
  "nbformat": 4,
  "nbformat_minor": 0,
  "metadata": {
    "colab": {
      "name": "DesafiosGuanabara.ipynb",
      "provenance": [],
      "collapsed_sections": [],
      "authorship_tag": "ABX9TyPobm1OcZuyArPu40K6W+Kd",
      "include_colab_link": true
    },
    "kernelspec": {
      "name": "python3",
      "display_name": "Python 3"
    },
    "language_info": {
      "name": "python"
    }
  },
  "cells": [
    {
      "cell_type": "markdown",
      "metadata": {
        "id": "view-in-github",
        "colab_type": "text"
      },
      "source": [
        "<a href=\"https://colab.research.google.com/github/BrunaKuntz/Python-Curso-em-Video/blob/main/Mundo03/Desafio105.ipynb\" target=\"_parent\"><img src=\"https://colab.research.google.com/assets/colab-badge.svg\" alt=\"Open In Colab\"/></a>"
      ]
    },
    {
      "cell_type": "markdown",
      "metadata": {
        "id": "xolHFjDi_Hj4"
      },
      "source": [
        "\n",
        "# **Desafio 105**\n",
        "**Python 3 - 3º Mundo**\n",
        "\n",
        "Descrição:  Faça um programa que tenha uma função notas() que pode receber várias notas de alunos e vai retornar um dicionário com as seguintes informações:\n",
        "\n",
        "- Quantidade de notas\n",
        "- A maior nota\n",
        "- A menor nota\n",
        "- A média da turma\n",
        "- A situação (opcional)\n",
        "\n",
        "Link: https://www.youtube.com/watch?v=Kbs97l38vVQ&t=6s"
      ]
    },
    {
      "cell_type": "code",
      "metadata": {
        "id": "8Lylf4Su-6aB"
      },
      "source": [
        "def notas(*notas, sit=False):\n",
        "    \"\"\"\n",
        "    -> Função para analisar notas e situações de vários alunos.\n",
        "    :param notas: uma ou mais notas dos alunos (aceita várias)\n",
        "    :param sit: valor opcional, indicando se deve ou não adicionar a situação\n",
        "    :return: dicionário com várias informações sobre a situação da tuma\n",
        "    \"\"\"\n",
        "    boletim = {}\n",
        "    boletim['total'] = len(notas)\n",
        "    maior = notas[0]\n",
        "    menor = notas[0]\n",
        "    s = 0\n",
        "    for i in notas:\n",
        "        s += i\n",
        "        if i > maior:\n",
        "            maior = i\n",
        "        elif i < menor:\n",
        "            menor = i\n",
        "    boletim['maior'] = maior\n",
        "    boletim['menor'] = menor\n",
        "    boletim['média'] = s/len(notas)\n",
        "    if sit:\n",
        "        if boletim['média'] >= 7:\n",
        "            boletim['situação'] = 'BOA'\n",
        "        elif 7 > boletim['média'] > 5:\n",
        "            boletim['situação'] = 'RAZOÁVEL'\n",
        "        else:\n",
        "            boletim['situação'] = 'RUIM'\n",
        "    return boletim\n",
        "\n",
        "\n",
        "\n",
        "# programa principal\n",
        "resp = notas(5.5, 2.5, 10, 6.5, sit=True)\n",
        "print(resp)"
      ],
      "execution_count": null,
      "outputs": []
    }
  ]
}