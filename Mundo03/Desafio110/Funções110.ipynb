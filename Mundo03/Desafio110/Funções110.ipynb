{
  "nbformat": 4,
  "nbformat_minor": 0,
  "metadata": {
    "colab": {
      "name": "DesafiosGuanabara.ipynb",
      "provenance": [],
      "collapsed_sections": [],
      "include_colab_link": true
    },
    "kernelspec": {
      "name": "python3",
      "display_name": "Python 3"
    },
    "language_info": {
      "name": "python"
    }
  },
  "cells": [
    {
      "cell_type": "markdown",
      "metadata": {
        "id": "view-in-github",
        "colab_type": "text"
      },
      "source": [
        "<a href=\"https://colab.research.google.com/github/BrunaKuntz/Python-Curso-em-Video/blob/main/Mundo03/Desafio110/Fun%C3%A7%C3%B5es110.ipynb\" target=\"_parent\"><img src=\"https://colab.research.google.com/assets/colab-badge.svg\" alt=\"Open In Colab\"/></a>"
      ]
    },
    {
      "cell_type": "markdown",
      "metadata": {
        "id": "xolHFjDi_Hj4"
      },
      "source": [
        "\n",
        "# **Funções Desafio 110**\n",
        "**Python 3 - 3º Mundo**\n",
        "\n",
        "Descrição: Adicione o módulo moeda.py criado nos desafios anteriores, uma função chamada resumo(), que mostre na tela algumas informações geradas pelas funções que já temos no módulo criado até aqui.\n",
        "\n",
        "Link: https://www.youtube.com/watch?v=1Ks218WINT8&t=527s"
      ]
    },
    {
      "cell_type": "code",
      "source": [
        "# funções 110\n",
        "def resumo(p, a, r):\n",
        "    print(\"-\"*30)\n",
        "    print(\"RESUMO DO VALOR\".center(30))\n",
        "    print(\"-\" * 30)\n",
        "    print(f'Preço analisado: R${p:.2f}')\n",
        "    print(f'Dobro do preço:  R${p * 2:.2f}')\n",
        "    print(f'Metade do preço: R${p / 2:.2f}')\n",
        "    print(f'{a}% de aumento:  R${p + (p*a)/100:.2f}')\n",
        "    print(f'{r}% de aumento:  R${p - (p * r) / 100:.2f}')"
      ],
      "metadata": {
        "id": "PgslBNjU1OiR"
      },
      "execution_count": null,
      "outputs": []
    }
  ]
}