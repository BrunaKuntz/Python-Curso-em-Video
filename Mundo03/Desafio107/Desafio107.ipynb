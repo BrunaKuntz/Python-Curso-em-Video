{
  "nbformat": 4,
  "nbformat_minor": 0,
  "metadata": {
    "colab": {
      "name": "DesafiosGuanabara.ipynb",
      "provenance": [],
      "collapsed_sections": [],
      "include_colab_link": true
    },
    "kernelspec": {
      "name": "python3",
      "display_name": "Python 3"
    },
    "language_info": {
      "name": "python"
    }
  },
  "cells": [
    {
      "cell_type": "markdown",
      "metadata": {
        "id": "view-in-github",
        "colab_type": "text"
      },
      "source": [
        "<a href=\"https://colab.research.google.com/github/BrunaKuntz/Python-Curso-em-Video/blob/main/Mundo03/Desafio107/Desafio107.ipynb\" target=\"_parent\"><img src=\"https://colab.research.google.com/assets/colab-badge.svg\" alt=\"Open In Colab\"/></a>"
      ]
    },
    {
      "cell_type": "markdown",
      "metadata": {
        "id": "xolHFjDi_Hj4"
      },
      "source": [
        "\n",
        "# **Desafio 107**\n",
        "**Python 3 - 3º Mundo**\n",
        "\n",
        "Descrição: Crie um módulo chamado moeda.py que tenha as funções incorporadas aumentar(), diminuir(), dobro() e metade(). Faça também um programa que importe esse módulo e use algumas dessas funções.\n",
        "\n",
        "Link: https://www.youtube.com/watch?v=y8pI8YBphQI&t=28s"
      ]
    },
    {
      "cell_type": "code",
      "metadata": {
        "id": "8Lylf4Su-6aB"
      },
      "source": [
        "# importações\n",
        "import moeda\n",
        "\n",
        "# principal\n",
        "p = float(input('Digite o preço: R$'))\n",
        "print(f'A metade de {p} é {moeda.metade(p)}')\n",
        "print(f'O dobro de {p} é {moeda.dobro(p)}')\n",
        "print(f'Aumentando 10%, temos {moeda.aumentar(p, 10)}')\n",
        "print(f'Reduzindo 13%, temos {moeda.diminuir(p, 13)}')\n"
      ],
      "execution_count": null,
      "outputs": []
    }
  ]
}