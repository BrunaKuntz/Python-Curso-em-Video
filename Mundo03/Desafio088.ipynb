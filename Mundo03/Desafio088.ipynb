{
  "nbformat": 4,
  "nbformat_minor": 0,
  "metadata": {
    "colab": {
      "name": "DesafiosGuanabara.ipynb",
      "provenance": [],
      "collapsed_sections": [],
      "authorship_tag": "ABX9TyNyWELviUQB9UpIF+5g7Qfe",
      "include_colab_link": true
    },
    "kernelspec": {
      "name": "python3",
      "display_name": "Python 3"
    },
    "language_info": {
      "name": "python"
    }
  },
  "cells": [
    {
      "cell_type": "markdown",
      "metadata": {
        "id": "view-in-github",
        "colab_type": "text"
      },
      "source": [
        "<a href=\"https://colab.research.google.com/github/BrunaKuntz/Python-Curso-em-Video/blob/main/Mundo03/Desafio088.ipynb\" target=\"_parent\"><img src=\"https://colab.research.google.com/assets/colab-badge.svg\" alt=\"Open In Colab\"/></a>"
      ]
    },
    {
      "cell_type": "markdown",
      "metadata": {
        "id": "xolHFjDi_Hj4"
      },
      "source": [
        "\n",
        "# **Desafio 088**\n",
        "**Python 3 - 3º Mundo**\n",
        "\n",
        "Descrição:  Faça um programa que ajude um jogador da MEGA SENA a criar palpites.O programa vai perguntar quantos jogos serão gerados e vai sortear 6 números entre 1 e 60 para cada jogo, cadastrando tudo em uma lista composta.\n",
        "\n",
        "Link: https://www.youtube.com/watch?v=Hd7Ycaj61xE"
      ]
    },
    {
      "cell_type": "code",
      "metadata": {
        "id": "8Lylf4Su-6aB"
      },
      "source": [
        "from random import sample\n",
        "from time import sleep\n",
        "\n",
        "print('-'*30)\n",
        "print('     M E G A  S E N A     ')\n",
        "print('-'*30)\n",
        "\n",
        "resp = int(input('Quantos jogos você quer que eu sorteie? '))\n",
        "print(f'=-=-=- SORTEANDO {resp} JOGOS =-=-=-')\n",
        "for i in range(1, resp + 1):\n",
        "    numbers = range(1, 61)\n",
        "    lista = sample(numbers, 6)\n",
        "    lista.sort()\n",
        "    sleep(1)\n",
        "    print(f'Jogo {i}: {lista}')\n",
        "    lista.clear()\n",
        "\n",
        "print(f'=-=-=- BOA SORTE =-=-=-')\n"
      ],
      "execution_count": null,
      "outputs": []
    }
  ]
}