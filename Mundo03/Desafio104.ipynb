{
  "nbformat": 4,
  "nbformat_minor": 0,
  "metadata": {
    "colab": {
      "name": "DesafiosGuanabara.ipynb",
      "provenance": [],
      "collapsed_sections": [],
      "authorship_tag": "ABX9TyPT4rn1AabVb1UkkQ6482tZ",
      "include_colab_link": true
    },
    "kernelspec": {
      "name": "python3",
      "display_name": "Python 3"
    },
    "language_info": {
      "name": "python"
    }
  },
  "cells": [
    {
      "cell_type": "markdown",
      "metadata": {
        "id": "view-in-github",
        "colab_type": "text"
      },
      "source": [
        "<a href=\"https://colab.research.google.com/github/BrunaKuntz/Python-Curso-em-Video/blob/main/Mundo03/Desafio104.ipynb\" target=\"_parent\"><img src=\"https://colab.research.google.com/assets/colab-badge.svg\" alt=\"Open In Colab\"/></a>"
      ]
    },
    {
      "cell_type": "markdown",
      "metadata": {
        "id": "xolHFjDi_Hj4"
      },
      "source": [
        "\n",
        "# **Desafio 104**\n",
        "**Python 3 - 3º Mundo**\n",
        "\n",
        "Descrição: Crie um programa que tenha a função leiaInt(), que vai funcionar de forma semelhante 'a função input() do Python, só que fazendo a validação para aceitar apenas um valor numérico.\n",
        "\n",
        "Link: https://www.youtube.com/watch?v=VrQmMbPpbf0&t=38s"
      ]
    },
    {
      "cell_type": "code",
      "metadata": {
        "id": "8Lylf4Su-6aB"
      },
      "source": [
        "def leiaInt(n):\n",
        "    print('-'*20)\n",
        "    num = input(n)\n",
        "    while not num.isnumeric():\n",
        "        print('\\033[31mERRO! Digite um número inteiro válido.\\033[m')\n",
        "        num = input(n)\n",
        "\n",
        "    return num\n",
        "\n",
        "\n",
        "# programa principal\n",
        "n = leiaInt('Digite um número: ')\n",
        "print(f'Você acabou de digitar o número {n}.')\n",
        "\n"
      ],
      "execution_count": null,
      "outputs": []
    }
  ]
}