{
  "nbformat": 4,
  "nbformat_minor": 0,
  "metadata": {
    "colab": {
      "name": "DesafiosGuanabara.ipynb",
      "provenance": [],
      "collapsed_sections": [],
      "authorship_tag": "ABX9TyNDfY/l7h49TwpnvXsYuzg+",
      "include_colab_link": true
    },
    "kernelspec": {
      "name": "python3",
      "display_name": "Python 3"
    },
    "language_info": {
      "name": "python"
    }
  },
  "cells": [
    {
      "cell_type": "markdown",
      "metadata": {
        "id": "view-in-github",
        "colab_type": "text"
      },
      "source": [
        "<a href=\"https://colab.research.google.com/github/BrunaKuntz/Python-Curso-em-Video/blob/main/Mundo03/Desafio084.ipynb\" target=\"_parent\"><img src=\"https://colab.research.google.com/assets/colab-badge.svg\" alt=\"Open In Colab\"/></a>"
      ]
    },
    {
      "cell_type": "markdown",
      "metadata": {
        "id": "xolHFjDi_Hj4"
      },
      "source": [
        "\n",
        "# **Desafio 084**\n",
        "**Python 3 - 3º Mundo**\n",
        "\n",
        "Descrição: Faça um programa que leia nome e peso de várias pessoas, guardando tudo em uma lista. No final, mostre:\n",
        "A) Quantas pessoas foram cadastradas.\n",
        "B) Uma listagem com as pessoas mais pesadas.\n",
        "C) Uma listagem com as pessoas mais leves.\n",
        "\n",
        "Link: https://www.youtube.com/watch?v=zPtvuLiEdKk&t=42s"
      ]
    },
    {
      "cell_type": "code",
      "metadata": {
        "id": "8Lylf4Su-6aB"
      },
      "source": [
        "pessoa = []\n",
        "listadepessoas = []\n",
        "pesados = []\n",
        "leves = []\n",
        "\n",
        "while True:\n",
        "    nome = input('Nome: ')\n",
        "    pessoa.append(nome)\n",
        "    peso = float(input('Peso: '))\n",
        "    pessoa.append(peso)\n",
        "    listadepessoas.append(pessoa[:])\n",
        "    pessoa.clear()\n",
        "    r = input('Quer continuar? [S/N] ')[0].upper()\n",
        "    if r == \"N\":\n",
        "        break\n",
        "\n",
        "maiorpeso = int(listadepessoas[0][1])\n",
        "menorpeso = int(listadepessoas[0][1])\n",
        "\n",
        "for i in range(len(listadepessoas)):\n",
        "    if listadepessoas[i][1] >= int(maiorpeso):\n",
        "        maiorpeso = listadepessoas[i][1]\n",
        "    if listadepessoas[i][1] <= int(menorpeso):\n",
        "        menorpeso = listadepessoas[i][1]\n",
        "\n",
        "for i in range(len(listadepessoas)):\n",
        "    if listadepessoas[i][1] == int(maiorpeso):\n",
        "        pesados.append(listadepessoas[i][0][:])\n",
        "    if listadepessoas[i][1] == int(menorpeso):\n",
        "        leves.append(listadepessoas[i][0][:])\n",
        "\n",
        "print(\"-=\"*30)\n",
        "print(f'Ao todo você cadastrou {len(listadepessoas)} pessoas')\n",
        "print(f'O maior peso foi {maiorpeso}Kg. Peso de {pesados}')\n",
        "print(f'O menor peso foi {menorpeso}Kg. Peso de {leves}')\n"
      ],
      "execution_count": null,
      "outputs": []
    }
  ]
}