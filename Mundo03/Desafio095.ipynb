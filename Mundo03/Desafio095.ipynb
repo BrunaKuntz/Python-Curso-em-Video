{
  "nbformat": 4,
  "nbformat_minor": 0,
  "metadata": {
    "colab": {
      "name": "DesafiosGuanabara.ipynb",
      "provenance": [],
      "collapsed_sections": [],
      "authorship_tag": "ABX9TyPPKQ/ZQ3rmRHSUVGSwWV5Z",
      "include_colab_link": true
    },
    "kernelspec": {
      "name": "python3",
      "display_name": "Python 3"
    },
    "language_info": {
      "name": "python"
    }
  },
  "cells": [
    {
      "cell_type": "markdown",
      "metadata": {
        "id": "view-in-github",
        "colab_type": "text"
      },
      "source": [
        "<a href=\"https://colab.research.google.com/github/BrunaKuntz/Python-Curso-em-Video/blob/main/Mundo03/Desafio095.ipynb\" target=\"_parent\"><img src=\"https://colab.research.google.com/assets/colab-badge.svg\" alt=\"Open In Colab\"/></a>"
      ]
    },
    {
      "cell_type": "markdown",
      "metadata": {
        "id": "xolHFjDi_Hj4"
      },
      "source": [
        "\n",
        "# **Desafio 095**\n",
        "**Python 3 - 3º Mundo**\n",
        "\n",
        "Descrição: Aprimore o desafio 93 para que ele funcione com vários jogadores, incluindo um sistema de visualização de detalhes do aproveitamento de cada jogador.\n",
        "\n",
        "Link: https://www.youtube.com/watch?v=mw1So0r317Y&t=1055s"
      ]
    },
    {
      "cell_type": "code",
      "metadata": {
        "id": "8Lylf4Su-6aB"
      },
      "source": [
        "jogadores = []\n",
        "aproveitamentoJogador = {}\n",
        "listaGols = []\n",
        "resp = None\n",
        "\n",
        "while resp != 'N':\n",
        "    listaGols.clear()\n",
        "    aproveitamentoJogador['Nome'] = input('Nome do jogador: ')\n",
        "    partidas = int(input(f'Quantas partidas {aproveitamentoJogador[\"Nome\"]} jogou? '))\n",
        "    for i in range(partidas):\n",
        "        listaGols.append(int(input(f'Quantos gols na partida {i}: ')))\n",
        "    aproveitamentoJogador['Gols'] = listaGols[:]\n",
        "    aproveitamentoJogador['Total'] = sum(listaGols)\n",
        "    jogadores.append(aproveitamentoJogador.copy())\n",
        "    resp = input('Quer continuar? [S/N] ').strip()[0].upper()\n",
        "    while resp not in 'SN':\n",
        "        resp = input('Não entendi. Quer continuar? [S/N] ').strip()[0].upper()\n",
        "    print('-'*30)\n",
        "print('cod', end='')\n",
        "for i in aproveitamentoJogador.keys():\n",
        "    print(f'{i:<15}', end='')\n",
        "print()\n",
        "for k, v in enumerate(jogadores):\n",
        "    print(f'{k:>3} ', end='')\n",
        "    for d in v.values():\n",
        "        print(f'{str(d):<15}', end ='')\n",
        "    print()\n",
        "print('-'*40)\n",
        "\n",
        "while True:\n",
        "    busca = int(input('Mostrar dados de qual jogador? (999 para) '))\n",
        "    if busca == 999:\n",
        "        break\n",
        "    if busca >= len(jogadores):\n",
        "        print(f'ERRO! Não existe jogador com código {busca}.')\n",
        "    else:\n",
        "        print(f' -- LEVANTAMENTO DO JOGADOR {jogadores[busca][\"Nome\"]}:')\n",
        "        for i, g in enumerate(jogadores[busca]['Gols']):\n",
        "            print(f'   No jogo {i} fez {g} gols.')\n",
        "    print('-'*40)\n",
        "print('<<VOLTE SEMPRE>>')\n"
      ],
      "execution_count": null,
      "outputs": []
    }
  ]
}