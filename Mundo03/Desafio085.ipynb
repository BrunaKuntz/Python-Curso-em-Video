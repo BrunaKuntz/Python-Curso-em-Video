{
  "nbformat": 4,
  "nbformat_minor": 0,
  "metadata": {
    "colab": {
      "name": "DesafiosGuanabara.ipynb",
      "provenance": [],
      "collapsed_sections": [],
      "authorship_tag": "ABX9TyM5/ihWxJVkP0yjfi9IXVnN",
      "include_colab_link": true
    },
    "kernelspec": {
      "name": "python3",
      "display_name": "Python 3"
    },
    "language_info": {
      "name": "python"
    }
  },
  "cells": [
    {
      "cell_type": "markdown",
      "metadata": {
        "id": "view-in-github",
        "colab_type": "text"
      },
      "source": [
        "<a href=\"https://colab.research.google.com/github/BrunaKuntz/Python-Curso-em-Video/blob/main/Mundo03/Desafio085.ipynb\" target=\"_parent\"><img src=\"https://colab.research.google.com/assets/colab-badge.svg\" alt=\"Open In Colab\"/></a>"
      ]
    },
    {
      "cell_type": "markdown",
      "metadata": {
        "id": "xolHFjDi_Hj4"
      },
      "source": [
        "\n",
        "# **Desafio 085**\n",
        "**Python 3 - 3º Mundo**\n",
        "\n",
        "Descrição: Crie um programa onde o usuário possa digitar sete valores numéricos e cadastre-os em uma lista única que mantenha separados os valores pares e ímpares. No final, mostre os valores pares e ímpares em ordem crescente.\n",
        "\n",
        "Link: https://www.youtube.com/watch?v=2-fy24bbMJ4"
      ]
    },
    {
      "cell_type": "code",
      "metadata": {
        "id": "8Lylf4Su-6aB"
      },
      "source": [
        "\n",
        "numeros = []\n",
        "pares = []\n",
        "impares = []\n",
        "\n",
        "for i in range(1, 8):\n",
        "    num = int(input(f'Digite o {i}° valor: '))\n",
        "    if num % 2 == 0:\n",
        "        pares.append(num)\n",
        "    else:\n",
        "        impares.append(num)\n",
        "\n",
        "pares.sort()\n",
        "impares.sort()\n",
        "numeros.append(impares[:])\n",
        "numeros.append(pares[:])\n",
        "\n",
        "print(f'Os valores pares digitados foram: {numeros[1]}')\n",
        "print(f'Os valores impares digitados foram: {numeros[0]}')"
      ],
      "execution_count": null,
      "outputs": []
    }
  ]
}