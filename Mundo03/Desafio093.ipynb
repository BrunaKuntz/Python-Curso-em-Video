{
  "nbformat": 4,
  "nbformat_minor": 0,
  "metadata": {
    "colab": {
      "name": "DesafiosGuanabara.ipynb",
      "provenance": [],
      "collapsed_sections": [],
      "authorship_tag": "ABX9TyNDax80bAWTJ40mIZHLRlte",
      "include_colab_link": true
    },
    "kernelspec": {
      "name": "python3",
      "display_name": "Python 3"
    },
    "language_info": {
      "name": "python"
    }
  },
  "cells": [
    {
      "cell_type": "markdown",
      "metadata": {
        "id": "view-in-github",
        "colab_type": "text"
      },
      "source": [
        "<a href=\"https://colab.research.google.com/github/BrunaKuntz/Python-Curso-em-Video/blob/main/Mundo03/Desafio093.ipynb\" target=\"_parent\"><img src=\"https://colab.research.google.com/assets/colab-badge.svg\" alt=\"Open In Colab\"/></a>"
      ]
    },
    {
      "cell_type": "markdown",
      "metadata": {
        "id": "xolHFjDi_Hj4"
      },
      "source": [
        "\n",
        "# **Desafio 093**\n",
        "**Python 3 - 3º Mundo**\n",
        "\n",
        "Descrição: Crie um programa que gerencie o aproveitamento de um jogador de futebol. O programa vai ler o nome do jogador e quantas partidas ele jogou. Depois vai ler a quantidade de gols feitos em cada partida. No final, tudo isso será guardado em um dicionário, incluindo o total de gols feitos durante o campeonato.\n",
        "\n",
        "Link: https://www.youtube.com/watch?v=5yKiud-YNaE&t=22s"
      ]
    },
    {
      "cell_type": "code",
      "metadata": {
        "id": "8Lylf4Su-6aB"
      },
      "source": [
        "aproveitamentoJogador = {}\n",
        "listaGols = []\n",
        "\n",
        "aproveitamentoJogador['Nome'] = input('Nome do jogador: ')\n",
        "partidas = int(input(f'Quantas partidas {aproveitamentoJogador[\"Nome\"]} jogou? '))\n",
        "for i in range(partidas):\n",
        "    listaGols.append(int(input(f'Quantos gols na partida {i}: ')))\n",
        "aproveitamentoJogador['Gols'] = listaGols\n",
        "aproveitamentoJogador['Total'] = sum(listaGols)\n",
        "\n",
        "print('=-'*20)\n",
        "print(aproveitamentoJogador)\n",
        "\n",
        "print('=-'*20)\n",
        "for k, v in aproveitamentoJogador.items():\n",
        "    print(f\"{k}: {v}\")\n",
        "\n",
        "print('=-'*20)\n",
        "print(f'O jogador {aproveitamentoJogador[\"Nome\"]} jogou {partidas} partidas.')\n",
        "for i in range(len(listaGols)):\n",
        "    print(f'  ==> Na partida {i}, fez {listaGols[i]} gols.')\n",
        "print(f'Foi um total de {aproveitamentoJogador[\"Total\"]} gols.')"
      ],
      "execution_count": null,
      "outputs": []
    }
  ]
}