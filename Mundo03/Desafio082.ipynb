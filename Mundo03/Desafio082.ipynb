{
  "nbformat": 4,
  "nbformat_minor": 0,
  "metadata": {
    "colab": {
      "name": "DesafiosGuanabara.ipynb",
      "provenance": [],
      "collapsed_sections": [],
      "authorship_tag": "ABX9TyN84HrgNdrC93Q0tEWhZpot",
      "include_colab_link": true
    },
    "kernelspec": {
      "name": "python3",
      "display_name": "Python 3"
    },
    "language_info": {
      "name": "python"
    }
  },
  "cells": [
    {
      "cell_type": "markdown",
      "metadata": {
        "id": "view-in-github",
        "colab_type": "text"
      },
      "source": [
        "<a href=\"https://colab.research.google.com/github/BrunaKuntz/Python-Curso-em-Video/blob/main/Mundo03/Desafio082.ipynb\" target=\"_parent\"><img src=\"https://colab.research.google.com/assets/colab-badge.svg\" alt=\"Open In Colab\"/></a>"
      ]
    },
    {
      "cell_type": "markdown",
      "metadata": {
        "id": "xolHFjDi_Hj4"
      },
      "source": [
        "\n",
        "# **Desafio 082**\n",
        "**Python 3 - 3º Mundo**\n",
        "\n",
        "Descrição: Crie um programa que vai ler vários números e colocar em uma lista. Depois disso, crie duas listas extras que vão conter apenas os valores pares e os valores ímpares digitados, respectivamente. Ao final, mostre o conteúdo das três listas geradas.\n",
        "\n",
        "Link: https://www.youtube.com/watch?v=uk0gDFQEo_I&t=41s"
      ]
    },
    {
      "cell_type": "code",
      "metadata": {
        "id": "8Lylf4Su-6aB"
      },
      "source": [
        "lista = []\n",
        "lista_impar = []\n",
        "lista_par = []\n",
        "resp = \"S\"\n",
        "while True:\n",
        "    lista.append(int(input('Digite um número: ')))\n",
        "    resp = str(input('Quer continuar? [S/N] ')).upper()\n",
        "    while resp != \"S\" and resp != \"N\":\n",
        "        resp = str(input('Não entendi. Quer continuar? [S/N] ')).upper()\n",
        "    if resp == \"N\":\n",
        "        break\n",
        "print(\"=\"*20)\n",
        "print(f'A lista completa é: {lista}')\n",
        "for i in range(len(lista)):\n",
        "    if lista[i]%2==0:\n",
        "        lista_par.append(lista[i])\n",
        "    else:\n",
        "        lista_impar.append(lista[i])\n",
        "print(f'A lista de pares é: {lista_par}')\n",
        "print(f\"A lista de ímpares é: {lista_impar}\")\n"
      ],
      "execution_count": null,
      "outputs": []
    }
  ]
}