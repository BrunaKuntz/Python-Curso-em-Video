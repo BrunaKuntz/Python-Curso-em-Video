{
  "nbformat": 4,
  "nbformat_minor": 0,
  "metadata": {
    "colab": {
      "name": "DesafiosGuanabara.ipynb",
      "provenance": [],
      "collapsed_sections": [],
      "authorship_tag": "ABX9TyNeEhsiqrrHZ66/xfKISznQ",
      "include_colab_link": true
    },
    "kernelspec": {
      "name": "python3",
      "display_name": "Python 3"
    },
    "language_info": {
      "name": "python"
    }
  },
  "cells": [
    {
      "cell_type": "markdown",
      "metadata": {
        "id": "view-in-github",
        "colab_type": "text"
      },
      "source": [
        "<a href=\"https://colab.research.google.com/github/BrunaKuntz/Python-Curso-em-Video/blob/main/Mundo03/Desafio072.ipynb\" target=\"_parent\"><img src=\"https://colab.research.google.com/assets/colab-badge.svg\" alt=\"Open In Colab\"/></a>"
      ]
    },
    {
      "cell_type": "markdown",
      "metadata": {
        "id": "xolHFjDi_Hj4"
      },
      "source": [
        "\n",
        "# **Desafio 072**\n",
        "**Python 3 - 3º Mundo**\n",
        "\n",
        "Descrição: Crie um programa que tenha uma dupla totalmente preenchida com uma contagem por extenso, de zero até vinte. Seu programa deverá ler um número pelo teclado (entre 0 e 20) e mostrá-lo por extenso.\n",
        "\n",
        "Link: https://www.youtube.com/watch?v=ei2Kr3ccfO0&t=17s"
      ]
    },
    {
      "cell_type": "code",
      "metadata": {
        "id": "8Lylf4Su-6aB"
      },
      "source": [
        "numeros = ('zero', 'um', 'dois', 'três', 'quatro', 'cinco', 'seis', 'sete', 'oito', 'nove', 'dez', 'onze', 'doze', 'treze', 'catorze', 'quinze', 'dezesseis', 'dezessete', 'dezoito', 'dezenove', 'vinte')\n",
        "resp = int(input('Digite um número de 0 a 20: '))\n",
        "while resp < 0 or resp > 21:\n",
        "    resp = int(input('Tente novamente. Digite um número de 0 a 20: '))\n",
        "print(f'Você digitou o número {numeros[resp]}.')"
      ],
      "execution_count": null,
      "outputs": []
    },
    {
      "cell_type": "code",
      "metadata": {
        "id": "blHKgYf7fL0j"
      },
      "source": [
        "# desafio (fazer o programa funcionar mais de uma vez)\n",
        "numeros = ('zero', 'um', 'dois', 'três', 'quatro', 'cinco', 'seis', 'sete', 'oito', 'nove', 'dez', 'onze', 'doze', 'treze', 'catorze', 'quinze', 'dezesseis', 'dezessete', 'dezoito', 'dezenove', 'vinte')\n",
        "resp = int(input('Digite um número de 0 a 20: '))\n",
        "cont = \"S\"\n",
        "while cont == 'S':\n",
        "  while resp < 0 or resp > 21:\n",
        "      resp = int(input('Tente novamente. Digite um número de 0 a 20: '))\n",
        "  print(f'Você digitou o número {numeros[resp]}.')\n",
        "  cont = input('Quer continuar? [S/N]').upper()\n",
        "  while cont != \"S\" and cont != \"N\":\n",
        "    cont = input('Não entendi. Quer continuar? [S/N]').upper()\n",
        "  if cont == \"S\":\n",
        "    resp = int(input('Digite um número de 0 a 20: '))\n",
        "    while resp < 0 or resp > 21:\n",
        "      resp = int(input('Tente novamente. Digite um número de 0 a 20: '))\n",
        "  if cont == \"N\":\n",
        "    print(\"Obrigada por usar nosso programa!\")"
      ],
      "execution_count": null,
      "outputs": []
    }
  ]
}