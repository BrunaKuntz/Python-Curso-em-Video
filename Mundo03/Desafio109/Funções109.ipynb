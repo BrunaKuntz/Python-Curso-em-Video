{
  "nbformat": 4,
  "nbformat_minor": 0,
  "metadata": {
    "colab": {
      "name": "DesafiosGuanabara.ipynb",
      "provenance": [],
      "collapsed_sections": [],
      "include_colab_link": true
    },
    "kernelspec": {
      "name": "python3",
      "display_name": "Python 3"
    },
    "language_info": {
      "name": "python"
    }
  },
  "cells": [
    {
      "cell_type": "markdown",
      "metadata": {
        "id": "view-in-github",
        "colab_type": "text"
      },
      "source": [
        "<a href=\"https://colab.research.google.com/github/BrunaKuntz/Python-Curso-em-Video/blob/main/Mundo03/Desafio109/Fun%C3%A7%C3%B5es109.ipynb\" target=\"_parent\"><img src=\"https://colab.research.google.com/assets/colab-badge.svg\" alt=\"Open In Colab\"/></a>"
      ]
    },
    {
      "cell_type": "markdown",
      "metadata": {
        "id": "xolHFjDi_Hj4"
      },
      "source": [
        "\n",
        "# **Funções Desafio 109**\n",
        "**Python 3 - 3º Mundo**\n",
        "\n",
        "Descrição: Modifique as funções que form criadas no desafio 107 para que elas aceitem um parâmetro a mais, informando se o valor retornado por elas vai ser ou não formatado pela função moeda(), desenvolvida no desafio 108.\n",
        "\n",
        "Link: https://www.youtube.com/watch?v=Y0zNYTHoGhQ"
      ]
    },
    {
      "cell_type": "code",
      "source": [
        "# funções 109\n",
        "def aumentar(n=0, x=0, format = True):\n",
        "    a = (n * x) / 100\n",
        "    if format == True:\n",
        "        return f'R${n + a:.2f}'\n",
        "    else:\n",
        "        return n + a\n",
        "\n",
        "def diminuir(n=0, x=0, format = True):\n",
        "    d = (n * x) / 100\n",
        "    if format == True:\n",
        "        return f'R${n - d:.2f}'\n",
        "    else:\n",
        "        return n - d\n",
        "\n",
        "def dobro(n=0, format = True):\n",
        "    if format == True:\n",
        "        return f'R${n * 2:.2f}'\n",
        "    else:\n",
        "        return n*2\n",
        "\n",
        "def metade(n=0, format = True):\n",
        "    if format == True:\n",
        "        return f'R${n / 2:.2f}'\n",
        "    else:\n",
        "        return n/2\n",
        "\n",
        "def moeda(n=0):\n",
        "     return f'R${n:.2f}'"
      ],
      "metadata": {
        "id": "PgslBNjU1OiR"
      },
      "execution_count": null,
      "outputs": []
    }
  ]
}