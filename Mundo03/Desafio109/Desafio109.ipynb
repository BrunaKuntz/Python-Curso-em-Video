{
  "nbformat": 4,
  "nbformat_minor": 0,
  "metadata": {
    "colab": {
      "name": "DesafiosGuanabara.ipynb",
      "provenance": [],
      "collapsed_sections": [],
      "include_colab_link": true
    },
    "kernelspec": {
      "name": "python3",
      "display_name": "Python 3"
    },
    "language_info": {
      "name": "python"
    }
  },
  "cells": [
    {
      "cell_type": "markdown",
      "metadata": {
        "id": "view-in-github",
        "colab_type": "text"
      },
      "source": [
        "<a href=\"https://colab.research.google.com/github/BrunaKuntz/Python-Curso-em-Video/blob/main/Mundo03/Desafio109/Desafio109.ipynb\" target=\"_parent\"><img src=\"https://colab.research.google.com/assets/colab-badge.svg\" alt=\"Open In Colab\"/></a>"
      ]
    },
    {
      "cell_type": "markdown",
      "metadata": {
        "id": "xolHFjDi_Hj4"
      },
      "source": [
        "\n",
        "# **Funções Desafio 109**\n",
        "**Python 3 - 3º Mundo**\n",
        "\n",
        "Descrição: Modifique as funções que form criadas no desafio 107 para que elas aceitem um parâmetro a mais, informando se o valor retornado por elas vai ser ou não formatado pela função moeda(), desenvolvida no desafio 108.\n",
        "\n",
        "Link: https://www.youtube.com/watch?v=Y0zNYTHoGhQ"
      ]
    },
    {
      "cell_type": "code",
      "source": [
        "# importações\n",
        "import moeda\n",
        "\n",
        "# principal 109\n",
        "p = float(input('Digite o preço: R$'))\n",
        "print(f'A metade de {moeda.moeda(p)} é {moeda.metade(p, True)}')\n",
        "print(f'O dobro de {moeda.moeda(p)} é {moeda.dobro(p, True)}')\n",
        "print(f'Aumentando 10%, temos {moeda.aumentar(p, 10, True)}')\n",
        "print(f'Reduzindo 13%, temos {moeda.diminuir(p, 13, True)}')"
      ],
      "metadata": {
        "id": "PgslBNjU1OiR"
      },
      "execution_count": null,
      "outputs": []
    }
  ]
}