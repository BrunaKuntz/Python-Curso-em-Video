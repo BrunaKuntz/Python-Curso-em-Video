{
  "nbformat": 4,
  "nbformat_minor": 0,
  "metadata": {
    "colab": {
      "name": "DesafiosGuanabara.ipynb",
      "provenance": [],
      "collapsed_sections": [],
      "authorship_tag": "ABX9TyMjFHq1gzNtuEqBXlkvnZDh",
      "include_colab_link": true
    },
    "kernelspec": {
      "name": "python3",
      "display_name": "Python 3"
    },
    "language_info": {
      "name": "python"
    }
  },
  "cells": [
    {
      "cell_type": "markdown",
      "metadata": {
        "id": "view-in-github",
        "colab_type": "text"
      },
      "source": [
        "<a href=\"https://colab.research.google.com/github/BrunaKuntz/Python-Curso-em-Video/blob/main/Mundo03/Desafio092.ipynb\" target=\"_parent\"><img src=\"https://colab.research.google.com/assets/colab-badge.svg\" alt=\"Open In Colab\"/></a>"
      ]
    },
    {
      "cell_type": "markdown",
      "metadata": {
        "id": "xolHFjDi_Hj4"
      },
      "source": [
        "\n",
        "# **Desafio 092**\n",
        "**Python 3 - 3º Mundo**\n",
        "\n",
        "Descrição: Crie um programa que leia nome, ano de nascimento e carteira de trabalho e cadastre-o (com idade) em um dicionário. Se por acaso a CTPS for diferente de ZERO, o dicionário receberá também o ano de contratação e o salário. Calcule e acrescente, além da idade, com quantos anos a pessoa vai se aposentar.\n",
        "\n",
        "Link: https://www.youtube.com/watch?v=Vsqemzdrj78&t=32s"
      ]
    },
    {
      "cell_type": "code",
      "metadata": {
        "id": "8Lylf4Su-6aB"
      },
      "source": [
        "from datetime import datetime\n",
        "\n",
        "now = datetime.now()\n",
        "ano = int(now.strftime(\"%Y\"))\n",
        "carteiraDeTrabalho = {}\n",
        "\n",
        "carteiraDeTrabalho['Nome'] = input('Digite o nome: ')\n",
        "nasc = int(input('Ano de nascimento: '))\n",
        "idade = ano - nasc\n",
        "carteiraDeTrabalho['Idade'] = idade\n",
        "carteiraDeTrabalho['Carteira de trabalho'] = int(input('Número da CTPS (Se não tiver uma, digite 0): '))\n",
        "\n",
        "if carteiraDeTrabalho['Carteira de trabalho'] != 0:\n",
        "    carteiraDeTrabalho['Ano de contratação'] = int(input('Ano de contratação: '))\n",
        "    carteiraDeTrabalho['Salário'] = float(input('Salário: R$'))\n",
        "    anoAposentadoria = carteiraDeTrabalho['Ano de contratação'] + 35\n",
        "    aposentadoria = anoAposentadoria - nasc\n",
        "    carteiraDeTrabalho['Aposentadoria'] = aposentadoria\n",
        "\n",
        "print(\"=-\"*20)\n",
        "for k, v in carteiraDeTrabalho.items():\n",
        "    print(f'{k}: {v}')"
      ],
      "execution_count": null,
      "outputs": []
    }
  ]
}