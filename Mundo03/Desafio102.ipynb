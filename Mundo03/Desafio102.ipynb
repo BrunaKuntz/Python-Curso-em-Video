{
  "nbformat": 4,
  "nbformat_minor": 0,
  "metadata": {
    "colab": {
      "name": "DesafiosGuanabara.ipynb",
      "provenance": [],
      "collapsed_sections": [],
      "authorship_tag": "ABX9TyN3Ng58Z39D1oEtkkmqZzl0",
      "include_colab_link": true
    },
    "kernelspec": {
      "name": "python3",
      "display_name": "Python 3"
    },
    "language_info": {
      "name": "python"
    }
  },
  "cells": [
    {
      "cell_type": "markdown",
      "metadata": {
        "id": "view-in-github",
        "colab_type": "text"
      },
      "source": [
        "<a href=\"https://colab.research.google.com/github/BrunaKuntz/Python-Curso-em-Video/blob/main/Mundo03/Desafio102.ipynb\" target=\"_parent\"><img src=\"https://colab.research.google.com/assets/colab-badge.svg\" alt=\"Open In Colab\"/></a>"
      ]
    },
    {
      "cell_type": "markdown",
      "metadata": {
        "id": "xolHFjDi_Hj4"
      },
      "source": [
        "\n",
        "# **Desafio 102**\n",
        "**Python 3 - 3º Mundo**\n",
        "\n",
        "Descrição: Crie um programa que tenha uma função fatorial() que receba dois parâmetros: o primeiro que indique o número a calcular e outro chamado show, que será um valor lógico (opcional) indicando se será mostrado ou não na tela o processo de cálculo do fatorial.\n",
        "\n",
        "Link: https://www.youtube.com/watch?v=84jUX96cs7Q&t=63s"
      ]
    },
    {
      "cell_type": "code",
      "metadata": {
        "id": "8Lylf4Su-6aB"
      },
      "source": [
        "def fatorial(n, show=False):\n",
        "    \"\"\"\n",
        "    -> Calcula o Fatorial de um número.\n",
        "    :param n: O número a ser calculado\n",
        "    :param show: (opcional) Mostrar ou não a conta.\n",
        "    :return: O valor do Fatorial de um número n.\n",
        "    \"\"\"\n",
        "    print('-'*20)\n",
        "    fat = 1\n",
        "    while n > 0:\n",
        "        fat *= n\n",
        "        if show and n > 1:\n",
        "            print(f'{n} x ', end='')\n",
        "        elif show and n == 1:\n",
        "            print(f'{n} = ', end='')\n",
        "        n -= 1\n",
        "    return fat\n",
        "\n",
        "\n",
        "# programa principal\n",
        "print(fatorial(5, show=True))\n",
        "#help(fatorial)\n"
      ],
      "execution_count": null,
      "outputs": []
    }
  ]
}