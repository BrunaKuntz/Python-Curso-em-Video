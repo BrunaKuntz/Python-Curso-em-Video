{
  "nbformat": 4,
  "nbformat_minor": 0,
  "metadata": {
    "colab": {
      "name": "DesafiosGuanabara.ipynb",
      "provenance": [],
      "collapsed_sections": [],
      "authorship_tag": "ABX9TyPU4fH07EbksGEu3yIUPR3A",
      "include_colab_link": true
    },
    "kernelspec": {
      "name": "python3",
      "display_name": "Python 3"
    },
    "language_info": {
      "name": "python"
    }
  },
  "cells": [
    {
      "cell_type": "markdown",
      "metadata": {
        "id": "view-in-github",
        "colab_type": "text"
      },
      "source": [
        "<a href=\"https://colab.research.google.com/github/BrunaKuntz/Python-Curso-em-Video/blob/main/Mundo03/Desafio091.ipynb\" target=\"_parent\"><img src=\"https://colab.research.google.com/assets/colab-badge.svg\" alt=\"Open In Colab\"/></a>"
      ]
    },
    {
      "cell_type": "markdown",
      "metadata": {
        "id": "xolHFjDi_Hj4"
      },
      "source": [
        "\n",
        "# **Desafio 091**\n",
        "**Python 3 - 3º Mundo**\n",
        "\n",
        "Descrição: Crie um programa onde 4 jogadores joguem um dado e tenham resultados aleatórios. Guarde esses resultados em um dicionário em Python. No final, coloque esse dicionário em ordem, sabendo que o vencedor tirou o maior número no dado.\n",
        "\n",
        "Link: https://www.youtube.com/watch?v=cwrqIztaAwk&t=1s"
      ]
    },
    {
      "cell_type": "code",
      "metadata": {
        "id": "8Lylf4Su-6aB"
      },
      "source": [
        "from random import randint\n",
        "from time import sleep\n",
        "from operator import itemgetter\n",
        "\n",
        "jogadores = {}\n",
        "ranking = []\n",
        "\n",
        "for i in range(1, 5):\n",
        "    jogadores[f'Jogador {i}'] = randint(1, 6)\n",
        "\n",
        "print('Valores sorteados: ')\n",
        "for k, v in jogadores.items():\n",
        "    print(f'O {k} tirou {v} no dado')\n",
        "    sleep(1)\n",
        "\n",
        "ranking = sorted(jogadores.items(), key=itemgetter(1), reverse=True)\n",
        "\n",
        "print('=-'*30)\n",
        "print('==RANKING DOS JOGADORES==')\n",
        "for k, v in enumerate(ranking):\n",
        "    print(f'{k + 1}° lugar: {v[0]} com {v[1]}')\n",
        "    sleep(1)"
      ],
      "execution_count": null,
      "outputs": []
    }
  ]
}